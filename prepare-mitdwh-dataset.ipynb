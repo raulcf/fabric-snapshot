{
 "cells": [
  {
   "cell_type": "code",
   "execution_count": 1,
   "metadata": {},
   "outputs": [],
   "source": [
    "import pandas as pd\n",
    "path = \"/Users/ra-mit/data/mitdwhdata/\""
   ]
  },
  {
   "cell_type": "code",
   "execution_count": 2,
   "metadata": {},
   "outputs": [],
   "source": [
    "# Employee_directory.csv\n",
    "# Drupal_employee_directory.csv (Hr Org Unit Id, Hr Org Unit Title)\n",
    "# Hr_faculty_roster.csv\n",
    "# Library_subject_offered.csv\n",
    "# Person_auth_area.csv (with krb name)\n",
    "# short_tip_subject_offered.csv -> Not included as it reduces cardinality"
   ]
  },
  {
   "cell_type": "code",
   "execution_count": 23,
   "metadata": {},
   "outputs": [],
   "source": [
    "def join_ab_on_key(a: pd.DataFrame, b: pd.DataFrame, a_key: str, b_key: str, suffix_str=None):\n",
    "    a_valid_index = (a[a_key].dropna()).index\n",
    "    b_valid_index = (b[b_key].dropna()).index\n",
    "    a = a.iloc[a_valid_index]\n",
    "    b = b.iloc[b_valid_index]\n",
    "    # Normalize join columns\n",
    "    a[a_key] = a[a_key].apply(lambda x: str(x).lower())\n",
    "    b[b_key] = b[b_key].apply(lambda x: str(x).lower())\n",
    "    joined = pd.merge(a, b, how='inner', left_on=a_key, right_on=b_key, sort=False, suffixes=('', suffix_str))\n",
    "    # # Recover format of original columns\n",
    "    return joined"
   ]
  },
  {
   "cell_type": "code",
   "execution_count": 48,
   "metadata": {},
   "outputs": [],
   "source": [
    "df = pd.read_csv(path + \"/Employee_directory.csv\", encoding='latin1')"
   ]
  },
  {
   "cell_type": "code",
   "execution_count": 49,
   "metadata": {},
   "outputs": [
    {
     "data": {
      "text/plain": [
       "Index(['Mit Id', 'Last Name', 'First Name', 'Middle Name', 'Full Name',\n",
       "       'Directory Full Name', 'Office Location', 'Office Phone',\n",
       "       'Directory Title', 'Primary Title', 'Department Number',\n",
       "       'Department Name', 'Krb Name', 'Krb Name Uppercase', 'Email Address',\n",
       "       'Personal Url', 'Name Known By', 'Email Address Uppercase',\n",
       "       'Full Name Uppercase', 'Preferred First Name Upper',\n",
       "       'Preferred Last Name Upper'],\n",
       "      dtype='object')"
      ]
     },
     "execution_count": 49,
     "metadata": {},
     "output_type": "execute_result"
    }
   ],
   "source": [
    "df.columns"
   ]
  },
  {
   "cell_type": "code",
   "execution_count": 50,
   "metadata": {},
   "outputs": [],
   "source": [
    "ded = pd.read_csv(path + \"/Drupal_employee_directory.csv\", encoding='latin1')"
   ]
  },
  {
   "cell_type": "code",
   "execution_count": 51,
   "metadata": {},
   "outputs": [
    {
     "data": {
      "text/plain": [
       "16075"
      ]
     },
     "execution_count": 51,
     "metadata": {},
     "output_type": "execute_result"
    }
   ],
   "source": [
    "len(ded)"
   ]
  },
  {
   "cell_type": "code",
   "execution_count": 52,
   "metadata": {},
   "outputs": [],
   "source": [
    "intermediate1 = join_ab_on_key(df, ded, 'Mit Id', 'Mit Id', suffix_str='XX')"
   ]
  },
  {
   "cell_type": "code",
   "execution_count": 53,
   "metadata": {},
   "outputs": [
    {
     "data": {
      "text/plain": [
       "Index(['Mit Id', 'Last Name', 'First Name', 'Middle Name', 'Full Name',\n",
       "       'Directory Full Name', 'Office Location', 'Office Phone',\n",
       "       'Directory Title', 'Primary Title', 'Department Number',\n",
       "       'Department Name', 'Krb Name', 'Krb Name Uppercase', 'Email Address',\n",
       "       'Personal Url', 'Name Known By', 'Email Address Uppercase',\n",
       "       'Full Name Uppercase', 'Preferred First Name Upper',\n",
       "       'Preferred Last Name Upper', 'Last NameXX', 'First NameXX',\n",
       "       'Middle NameXX', 'Full NameXX', 'Employee Group', 'Employee Type',\n",
       "       'Has Addl Appointment', 'Has Dual Appointment', 'Office LocationXX',\n",
       "       'Office PhoneXX', 'Hr Org Unit Id', 'Hr Org Unit Title',\n",
       "       'Directory TitleXX', 'Primary TitleXX', 'Email AddressXX',\n",
       "       'Personal UrlXX', 'Warehouse Load Date'],\n",
       "      dtype='object')"
      ]
     },
     "execution_count": 53,
     "metadata": {},
     "output_type": "execute_result"
    }
   ],
   "source": [
    "intermediate1.columns"
   ]
  },
  {
   "cell_type": "code",
   "execution_count": 54,
   "metadata": {},
   "outputs": [],
   "source": [
    "intermediate1 = intermediate1.drop(['Last NameXX', 'First NameXX', 'Middle NameXX', 'Full NameXX', 'Office LocationXX', 'Office PhoneXX', 'Directory TitleXX', 'Primary TitleXX', 'Email AddressXX', 'Personal UrlXX'], axis=1)"
   ]
  },
  {
   "cell_type": "code",
   "execution_count": 55,
   "metadata": {
    "scrolled": true
   },
   "outputs": [
    {
     "data": {
      "text/plain": [
       "Index(['Mit Id', 'Last Name', 'First Name', 'Middle Name', 'Full Name',\n",
       "       'Directory Full Name', 'Office Location', 'Office Phone',\n",
       "       'Directory Title', 'Primary Title', 'Department Number',\n",
       "       'Department Name', 'Krb Name', 'Krb Name Uppercase', 'Email Address',\n",
       "       'Personal Url', 'Name Known By', 'Email Address Uppercase',\n",
       "       'Full Name Uppercase', 'Preferred First Name Upper',\n",
       "       'Preferred Last Name Upper', 'Employee Group', 'Employee Type',\n",
       "       'Has Addl Appointment', 'Has Dual Appointment', 'Hr Org Unit Id',\n",
       "       'Hr Org Unit Title', 'Warehouse Load Date'],\n",
       "      dtype='object')"
      ]
     },
     "execution_count": 55,
     "metadata": {},
     "output_type": "execute_result"
    }
   ],
   "source": [
    "intermediate1.columns"
   ]
  },
  {
   "cell_type": "code",
   "execution_count": 56,
   "metadata": {},
   "outputs": [
    {
     "data": {
      "text/plain": [
       "15946"
      ]
     },
     "execution_count": 56,
     "metadata": {},
     "output_type": "execute_result"
    }
   ],
   "source": [
    "len(intermediate1)"
   ]
  },
  {
   "cell_type": "code",
   "execution_count": 57,
   "metadata": {},
   "outputs": [],
   "source": [
    "#df = pd.read_csv(path + \"/Hr_faculty_roster.csv\", encoding='latin1')"
   ]
  },
  {
   "cell_type": "code",
   "execution_count": 58,
   "metadata": {},
   "outputs": [],
   "source": [
    "#df.columns"
   ]
  },
  {
   "cell_type": "code",
   "execution_count": 59,
   "metadata": {},
   "outputs": [],
   "source": [
    "#intermediate2 = join_ab_on_key(df, intermediate1, 'Mit Id', 'Mit Id', suffix_str='XX')"
   ]
  },
  {
   "cell_type": "code",
   "execution_count": 60,
   "metadata": {},
   "outputs": [],
   "source": [
    "#len(intermediate2)"
   ]
  },
  {
   "cell_type": "code",
   "execution_count": 61,
   "metadata": {},
   "outputs": [],
   "source": [
    "#intermediate2.columns"
   ]
  },
  {
   "cell_type": "code",
   "execution_count": 62,
   "metadata": {},
   "outputs": [],
   "source": [
    "#intermediate2 = intermediate2.drop(['Last NameXX', 'First NameXX', 'Middle NameXX', 'Hr Org Unit TitleXX', 'Warehouse Load DateXX'], axis=1)"
   ]
  },
  {
   "cell_type": "code",
   "execution_count": 63,
   "metadata": {},
   "outputs": [],
   "source": [
    "#intermediate2.columns"
   ]
  },
  {
   "cell_type": "code",
   "execution_count": 64,
   "metadata": {},
   "outputs": [],
   "source": [
    "#ded = pd.read_csv(path + \"/Library_subject_offered.csv\", encoding='latin1')"
   ]
  },
  {
   "cell_type": "code",
   "execution_count": 65,
   "metadata": {},
   "outputs": [],
   "source": [
    "#ded.columns"
   ]
  },
  {
   "cell_type": "code",
   "execution_count": 66,
   "metadata": {},
   "outputs": [],
   "source": [
    "#intermediate3 = join_ab_on_key(ded, intermediate2, 'Responsible Faculty Mit Id', 'Mit Id', suffix_str='XX')"
   ]
  },
  {
   "cell_type": "code",
   "execution_count": 67,
   "metadata": {},
   "outputs": [],
   "source": [
    "#intermediate3.columns"
   ]
  },
  {
   "cell_type": "code",
   "execution_count": 68,
   "metadata": {},
   "outputs": [],
   "source": [
    "#intermediate3 = intermediate3.drop(['Last NameXX', 'First NameXX', 'Middle NameXX', 'Hr Org Unit TitleXX', 'Warehouse Load DateXX'], axis=1)"
   ]
  },
  {
   "cell_type": "code",
   "execution_count": 69,
   "metadata": {},
   "outputs": [],
   "source": [
    "#len(intermediate3)"
   ]
  },
  {
   "cell_type": "code",
   "execution_count": 70,
   "metadata": {},
   "outputs": [],
   "source": [
    "df = pd.read_csv(path + \"/Person_auth_area.csv\", encoding='latin1')"
   ]
  },
  {
   "cell_type": "code",
   "execution_count": 71,
   "metadata": {
    "scrolled": true
   },
   "outputs": [
    {
     "data": {
      "text/plain": [
       "Index(['User Name', 'Has Financial Auth', 'Has Hr Full Auth',\n",
       "       'Has Hr Limited Auth', 'Has Payroll Auth', 'Warehouse Load Date'],\n",
       "      dtype='object')"
      ]
     },
     "execution_count": 71,
     "metadata": {},
     "output_type": "execute_result"
    }
   ],
   "source": [
    "df.columns"
   ]
  },
  {
   "cell_type": "code",
   "execution_count": 72,
   "metadata": {},
   "outputs": [
    {
     "data": {
      "text/plain": [
       "15946"
      ]
     },
     "execution_count": 72,
     "metadata": {},
     "output_type": "execute_result"
    }
   ],
   "source": [
    "len(intermediate1)"
   ]
  },
  {
   "cell_type": "code",
   "execution_count": 73,
   "metadata": {},
   "outputs": [
    {
     "name": "stderr",
     "output_type": "stream",
     "text": [
      "/Users/ra-mit/development/virtualenvs/fabric/lib/python3.6/site-packages/ipykernel_launcher.py:8: SettingWithCopyWarning: \n",
      "A value is trying to be set on a copy of a slice from a DataFrame.\n",
      "Try using .loc[row_indexer,col_indexer] = value instead\n",
      "\n",
      "See the caveats in the documentation: http://pandas.pydata.org/pandas-docs/stable/indexing.html#indexing-view-versus-copy\n",
      "  \n"
     ]
    }
   ],
   "source": [
    "intermediate4 = join_ab_on_key(df, intermediate1, 'User Name', 'Krb Name', suffix_str='XX')"
   ]
  },
  {
   "cell_type": "code",
   "execution_count": 74,
   "metadata": {},
   "outputs": [
    {
     "data": {
      "text/plain": [
       "15687"
      ]
     },
     "execution_count": 74,
     "metadata": {},
     "output_type": "execute_result"
    }
   ],
   "source": [
    "len(intermediate4)"
   ]
  },
  {
   "cell_type": "code",
   "execution_count": 75,
   "metadata": {},
   "outputs": [
    {
     "data": {
      "text/plain": [
       "Index(['User Name', 'Has Financial Auth', 'Has Hr Full Auth',\n",
       "       'Has Hr Limited Auth', 'Has Payroll Auth', 'Warehouse Load Date',\n",
       "       'Mit Id', 'Last Name', 'First Name', 'Middle Name', 'Full Name',\n",
       "       'Directory Full Name', 'Office Location', 'Office Phone',\n",
       "       'Directory Title', 'Primary Title', 'Department Number',\n",
       "       'Department Name', 'Krb Name', 'Krb Name Uppercase', 'Email Address',\n",
       "       'Personal Url', 'Name Known By', 'Email Address Uppercase',\n",
       "       'Full Name Uppercase', 'Preferred First Name Upper',\n",
       "       'Preferred Last Name Upper', 'Employee Group', 'Employee Type',\n",
       "       'Has Addl Appointment', 'Has Dual Appointment', 'Hr Org Unit Id',\n",
       "       'Hr Org Unit Title', 'Warehouse Load DateXX'],\n",
       "      dtype='object')"
      ]
     },
     "execution_count": 75,
     "metadata": {},
     "output_type": "execute_result"
    }
   ],
   "source": [
    "intermediate4.columns"
   ]
  },
  {
   "cell_type": "code",
   "execution_count": 76,
   "metadata": {},
   "outputs": [],
   "source": [
    "intermediate4 = intermediate4.drop(['Warehouse Load DateXX'], axis=1)"
   ]
  },
  {
   "cell_type": "code",
   "execution_count": 77,
   "metadata": {
    "scrolled": false
   },
   "outputs": [
    {
     "data": {
      "text/plain": [
       "15687"
      ]
     },
     "execution_count": 77,
     "metadata": {},
     "output_type": "execute_result"
    }
   ],
   "source": [
    "len(intermediate4)"
   ]
  },
  {
   "cell_type": "code",
   "execution_count": 78,
   "metadata": {},
   "outputs": [
    {
     "data": {
      "text/plain": [
       "Index(['User Name', 'Has Financial Auth', 'Has Hr Full Auth',\n",
       "       'Has Hr Limited Auth', 'Has Payroll Auth', 'Warehouse Load Date',\n",
       "       'Mit Id', 'Last Name', 'First Name', 'Middle Name', 'Full Name',\n",
       "       'Directory Full Name', 'Office Location', 'Office Phone',\n",
       "       'Directory Title', 'Primary Title', 'Department Number',\n",
       "       'Department Name', 'Krb Name', 'Krb Name Uppercase', 'Email Address',\n",
       "       'Personal Url', 'Name Known By', 'Email Address Uppercase',\n",
       "       'Full Name Uppercase', 'Preferred First Name Upper',\n",
       "       'Preferred Last Name Upper', 'Employee Group', 'Employee Type',\n",
       "       'Has Addl Appointment', 'Has Dual Appointment', 'Hr Org Unit Id',\n",
       "       'Hr Org Unit Title'],\n",
       "      dtype='object')"
      ]
     },
     "execution_count": 78,
     "metadata": {},
     "output_type": "execute_result"
    }
   ],
   "source": [
    "intermediate4.columns"
   ]
  },
  {
   "cell_type": "code",
   "execution_count": 79,
   "metadata": {},
   "outputs": [],
   "source": [
    "intermediate4.to_csv(\"/Users/ra-mit/development/fabric/groundtruth_mitdwh_v2.csv\")"
   ]
  },
  {
   "cell_type": "code",
   "execution_count": 80,
   "metadata": {},
   "outputs": [],
   "source": [
    "final_clean = intermediate4.dropna(axis=0, subset=['Mit Id'])"
   ]
  },
  {
   "cell_type": "code",
   "execution_count": 81,
   "metadata": {},
   "outputs": [
    {
     "data": {
      "text/plain": [
       "15687"
      ]
     },
     "execution_count": 81,
     "metadata": {},
     "output_type": "execute_result"
    }
   ],
   "source": [
    "len(final_clean)"
   ]
  },
  {
   "cell_type": "code",
   "execution_count": 82,
   "metadata": {},
   "outputs": [],
   "source": [
    "final_clean.to_csv(\"/Users/ra-mit/development/fabric/groundtruth_mitdwh_v2.csv\")"
   ]
  },
  {
   "cell_type": "code",
   "execution_count": null,
   "metadata": {},
   "outputs": [],
   "source": []
  },
  {
   "cell_type": "markdown",
   "metadata": {},
   "source": [
    "## Now split into tables"
   ]
  },
  {
   "cell_type": "code",
   "execution_count": 84,
   "metadata": {},
   "outputs": [],
   "source": [
    "final_clean = pd.read_csv(\"/Users/ra-mit/development/fabric/mitdwh_dataset/groundtruth_mitdwh_v2.csv\", encoding='latin1')"
   ]
  },
  {
   "cell_type": "code",
   "execution_count": 85,
   "metadata": {},
   "outputs": [
    {
     "data": {
      "text/plain": [
       "Index(['Unnamed: 0', 'User Name', 'Has Financial Auth', 'Has Hr Full Auth',\n",
       "       'Has Hr Limited Auth', 'Has Payroll Auth', 'Warehouse Load Date',\n",
       "       'Mit Id', 'Last Name', 'First Name', 'Middle Name', 'Full Name',\n",
       "       'Directory Full Name', 'Office Location', 'Office Phone',\n",
       "       'Directory Title', 'Primary Title', 'Department Number',\n",
       "       'Department Name', 'Krb Name', 'Krb Name Uppercase', 'Email Address',\n",
       "       'Personal Url', 'Name Known By', 'Email Address Uppercase',\n",
       "       'Full Name Uppercase', 'Preferred First Name Upper',\n",
       "       'Preferred Last Name Upper', 'Employee Group', 'Employee Type',\n",
       "       'Has Addl Appointment', 'Has Dual Appointment', 'Hr Org Unit Id',\n",
       "       'Hr Org Unit Title'],\n",
       "      dtype='object')"
      ]
     },
     "execution_count": 85,
     "metadata": {},
     "output_type": "execute_result"
    }
   ],
   "source": [
    "final_clean.columns"
   ]
  },
  {
   "cell_type": "code",
   "execution_count": 86,
   "metadata": {},
   "outputs": [
    {
     "data": {
      "text/plain": [
       "34"
      ]
     },
     "execution_count": 86,
     "metadata": {},
     "output_type": "execute_result"
    }
   ],
   "source": [
    "len(final_clean.columns)"
   ]
  },
  {
   "cell_type": "code",
   "execution_count": 87,
   "metadata": {},
   "outputs": [
    {
     "data": {
      "text/plain": [
       "15687"
      ]
     },
     "execution_count": 87,
     "metadata": {},
     "output_type": "execute_result"
    }
   ],
   "source": [
    "len(final_clean)"
   ]
  },
  {
   "cell_type": "code",
   "execution_count": 88,
   "metadata": {},
   "outputs": [],
   "source": [
    "path_dataset = \"/Users/ra-mit/development/fabric/mitdwh_dataset/tables_v2/\""
   ]
  },
  {
   "cell_type": "code",
   "execution_count": 99,
   "metadata": {},
   "outputs": [],
   "source": [
    "table1 = ['Mit Id', 'Last Name', 'First Name', 'Middle Name', 'User Name', 'Has Financial Auth', 'Has Hr Full Auth']\n",
    "table2 = ['Mit Id', 'User Name', 'Has Hr Full Auth', 'Has Hr Limited Auth', 'Has Payroll Auth']\n",
    "table3 = ['Mit Id', 'User Name', 'Full Name', 'Office Phone', 'Directory Title']\n",
    "table4 = ['Mit Id', 'Krb Name', 'Directory Full Name', 'Primary Title', 'Department Number', 'Department Name']\n",
    "table5 = ['Mit Id', 'Department Name', 'Krb Name', 'Krb Name Uppercase', 'Email Address']\n",
    "table6 = ['Mit Id', 'Krb Name Uppercase', 'Personal Url', 'Name Known By']\n",
    "table7 = ['Mit Id', 'Full Name Uppercase', 'Preferred First Name Upper', 'Preferred Last Name Upper', 'Employee Group']\n",
    "table8 = ['Mit Id', 'Employee Type', 'Krb Name', 'Has Addl Appointment', 'Has Dual Appointment', 'Hr Org Unit Id', 'Hr Org Unit Title']\n",
    "table9 = ['Mit Id', 'User Name', 'Office Location', 'Email Address Uppercase', 'Department Name']\n",
    "#table9 = ['Responsible Faculty Mit Id', 'Num Enrolled Students', 'Employee Group', 'Employee Type', 'Directory Full Name']\n",
    "#table10 = ['Mit Id', 'Admin Job Title', 'Admin Org Unit Title', 'Admin Position Title', 'Department Number']\n",
    "#table11 = ['Mit Id', 'Email Address Uppercase', 'Emeritus Status', 'Endowed Chair', 'Full Name']\n",
    "#table12 = ['Mit Id', 'Directory Org Unit Title', 'Directory Title', 'Office Location', 'Office Phone', 'Primary Title']\n",
    "#table13 = ['Mit Id', 'Responsible Faculty Name', 'Subject Id', 'Subject Id Sort', 'Terminal Degree']\n",
    "#table14 = ['Mit Id', 'Master Course Number Desc', 'Master Course Number Sort', 'Name Known By']"
   ]
  },
  {
   "cell_type": "code",
   "execution_count": 100,
   "metadata": {},
   "outputs": [
    {
     "data": {
      "text/plain": [
       "{'Unnamed: 0', 'Warehouse Load Date'}"
      ]
     },
     "execution_count": 100,
     "metadata": {},
     "output_type": "execute_result"
    }
   ],
   "source": [
    "#all_tables = [table1, table2, table3, table4, table5, table6, table7, table8, table9, table10, table11, table12, table13, table14]\n",
    "all_tables = [table1, table2, table3, table4, table5, table6, table7, table8, table9]\n",
    "set_columns = set()\n",
    "for t in all_tables:\n",
    "    for el in t:\n",
    "        set_columns.add(el)\n",
    "# missing columns\n",
    "set(final_clean.columns) - set_columns"
   ]
  },
  {
   "cell_type": "code",
   "execution_count": 101,
   "metadata": {},
   "outputs": [],
   "source": [
    "# create dataset"
   ]
  },
  {
   "cell_type": "code",
   "execution_count": 102,
   "metadata": {},
   "outputs": [],
   "source": [
    "i = 0\n",
    "for t in all_tables:\n",
    "    temp_t = final_clean[t]\n",
    "    temp_t.to_csv(path_dataset + \"table_\" + str(i) + \".csv\", encoding='latin1')\n",
    "    i += 1"
   ]
  },
  {
   "cell_type": "code",
   "execution_count": null,
   "metadata": {},
   "outputs": [],
   "source": []
  }
 ],
 "metadata": {
  "kernelspec": {
   "display_name": "Python 3",
   "language": "python",
   "name": "python3"
  },
  "language_info": {
   "codemirror_mode": {
    "name": "ipython",
    "version": 3
   },
   "file_extension": ".py",
   "mimetype": "text/x-python",
   "name": "python",
   "nbconvert_exporter": "python",
   "pygments_lexer": "ipython3",
   "version": "3.6.4"
  }
 },
 "nbformat": 4,
 "nbformat_minor": 2
}
