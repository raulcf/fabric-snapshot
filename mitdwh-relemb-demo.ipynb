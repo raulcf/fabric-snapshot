{
 "cells": [
  {
   "cell_type": "markdown",
   "metadata": {},
   "source": [
    "## Relational Embedding"
   ]
  },
  {
   "cell_type": "code",
   "execution_count": 68,
   "metadata": {},
   "outputs": [
    {
     "name": "stdout",
     "output_type": "stream",
     "text": [
      "The autoreload extension is already loaded. To reload it, use:\n",
      "  %reload_ext autoreload\n"
     ]
    }
   ],
   "source": [
    "%load_ext autoreload\n",
    "%autoreload 2"
   ]
  },
  {
   "cell_type": "code",
   "execution_count": 69,
   "metadata": {
    "scrolled": true
   },
   "outputs": [],
   "source": [
    "from relational_embedder.data_prep import data_prep_utils as dpu\n",
    "import numpy as np\n",
    "from relational_embedder import api\n",
    "from relational_embedder.api import Fabric\n",
    "from relational_embedder.api import SIMF\n",
    "import word2vec\n",
    "import pickle\n",
    "import itertools\n",
    "path_to_row_we_model = '/data/raulcf/relemb/mitdwh/mitdwh_model/row_we_db2vec_75_50_n20_i40.bin'\n",
    "row_we_model = word2vec.load(path_to_row_we_model)\n",
    "path_to_col_we_model = '/data/raulcf/relemb/mitdwh/mitdwh_model/col_we_w2v_75_50_i40.bin'\n",
    "col_we_model = word2vec.load(path_to_col_we_model)\n",
    "path_to_row_relemb = '/data/raulcf/relemb/mitdwh/mitdwh_model/relemb/row.pkl'\n",
    "with open(path_to_row_relemb, \"rb\") as f:\n",
    "    row_relemb = pickle.load(f)\n",
    "path_to_col_relemb = '/data/raulcf/relemb/mitdwh/mitdwh_model/relemb/col.pkl'\n",
    "with open(path_to_col_relemb, \"rb\") as f:\n",
    "    col_relemb = pickle.load(f)\n",
    "path_to_row_hubness = '/data/raulcf/relemb/mitdwh/mitdwh_model/relemb/row_hubness.pkl'\n",
    "with open(path_to_row_hubness, \"rb\") as f:\n",
    "    word_row_hubness = pickle.load(f)\n",
    "path_to_col_hubness = '/data/raulcf/relemb/mitdwh/mitdwh_model/relemb/col_hubness.pkl'\n",
    "with open(path_to_col_hubness, \"rb\") as f:\n",
    "    word_col_hubness = pickle.load(f)\n",
    "fabric = Fabric(row_we_model, col_we_model, row_relemb, col_relemb, None, word_hubness=word_row_hubness)"
   ]
  },
  {
   "cell_type": "code",
   "execution_count": null,
   "metadata": {},
   "outputs": [],
   "source": []
  },
  {
   "cell_type": "markdown",
   "metadata": {},
   "source": [
    "# Find related and similar content"
   ]
  },
  {
   "cell_type": "code",
   "execution_count": null,
   "metadata": {},
   "outputs": [],
   "source": []
  },
  {
   "cell_type": "code",
   "execution_count": null,
   "metadata": {},
   "outputs": [],
   "source": []
  },
  {
   "cell_type": "code",
   "execution_count": null,
   "metadata": {},
   "outputs": [],
   "source": []
  },
  {
   "cell_type": "code",
   "execution_count": null,
   "metadata": {},
   "outputs": [],
   "source": []
  },
  {
   "cell_type": "code",
   "execution_count": null,
   "metadata": {},
   "outputs": [],
   "source": []
  },
  {
   "cell_type": "code",
   "execution_count": null,
   "metadata": {},
   "outputs": [],
   "source": []
  },
  {
   "cell_type": "code",
   "execution_count": null,
   "metadata": {},
   "outputs": [],
   "source": []
  },
  {
   "cell_type": "code",
   "execution_count": null,
   "metadata": {},
   "outputs": [],
   "source": []
  },
  {
   "cell_type": "code",
   "execution_count": null,
   "metadata": {},
   "outputs": [],
   "source": []
  },
  {
   "cell_type": "code",
   "execution_count": null,
   "metadata": {},
   "outputs": [],
   "source": []
  },
  {
   "cell_type": "code",
   "execution_count": null,
   "metadata": {},
   "outputs": [],
   "source": []
  },
  {
   "cell_type": "code",
   "execution_count": null,
   "metadata": {},
   "outputs": [],
   "source": []
  },
  {
   "cell_type": "code",
   "execution_count": null,
   "metadata": {},
   "outputs": [],
   "source": []
  },
  {
   "cell_type": "code",
   "execution_count": null,
   "metadata": {},
   "outputs": [],
   "source": []
  },
  {
   "cell_type": "code",
   "execution_count": null,
   "metadata": {},
   "outputs": [],
   "source": []
  },
  {
   "cell_type": "code",
   "execution_count": null,
   "metadata": {},
   "outputs": [],
   "source": []
  },
  {
   "cell_type": "markdown",
   "metadata": {
    "collapsed": true
   },
   "source": [
    "### testing summarizer"
   ]
  },
  {
   "cell_type": "code",
   "execution_count": 101,
   "metadata": {},
   "outputs": [],
   "source": [
    "def combine(vecs_to_combine):\n",
    "    #print(vecs_to_combine)\n",
    "    vecs_to_combine = np.asarray(vecs_to_combine)\n",
    "    comb = np.mean(vecs_to_combine, axis=0)\n",
    "    return comb"
   ]
  },
  {
   "cell_type": "code",
   "execution_count": 105,
   "metadata": {},
   "outputs": [],
   "source": [
    "def select_diverse_sample(vectors, k=5):\n",
    "    assert len(vectors) > k\n",
    "\n",
    "    seed_index = 0\n",
    "    seed = vectors[seed_index]\n",
    "    k_result = []\n",
    "    k_result.append(seed_index)\n",
    "    k -= 1\n",
    "    while k > 0:\n",
    "        sims = np.dot(vectors, seed.T)\n",
    "        indexes_sorted_by_distance = np.argsort(sims)[::-1]\n",
    "        most_dissimilar_index = indexes_sorted_by_distance[-1]\n",
    "        most_dissimilar_metric = sims[most_dissimilar_index]\n",
    "        k_result.append(most_dissimilar_index)\n",
    "        k -= 1\n",
    "        seed = combine([vectors[most_dissimilar_index], seed])  # we keep seed always a vector\n",
    "    return k_result"
   ]
  },
  {
   "cell_type": "code",
   "execution_count": 116,
   "metadata": {},
   "outputs": [],
   "source": [
    "vecs = list(fabric.RE_R['table_2.csv']['rows'].values())"
   ]
  },
  {
   "cell_type": "code",
   "execution_count": 117,
   "metadata": {},
   "outputs": [],
   "source": [
    "summary = select_diverse_sample(vecs, k=5)"
   ]
  },
  {
   "cell_type": "code",
   "execution_count": 118,
   "metadata": {},
   "outputs": [
    {
     "data": {
      "text/plain": [
       "[0, 1080, 1218, 1043, 12771]"
      ]
     },
     "execution_count": 118,
     "metadata": {},
     "output_type": "execute_result"
    }
   ],
   "source": [
    "summary"
   ]
  },
  {
   "cell_type": "code",
   "execution_count": 119,
   "metadata": {},
   "outputs": [],
   "source": [
    "import pandas as pd"
   ]
  },
  {
   "cell_type": "code",
   "execution_count": 120,
   "metadata": {},
   "outputs": [],
   "source": [
    "df = pd.read_csv(\"/data/raulcf/relemb/mitdwh/bench_mitdwh_dataset/tables/table_2.csv\", encoding='latin1')"
   ]
  },
  {
   "cell_type": "code",
   "execution_count": 121,
   "metadata": {},
   "outputs": [
    {
     "name": "stdout",
     "output_type": "stream",
     "text": [
      "Unnamed: 0                       0\n",
      "Mit Id                   924892098\n",
      "User Name                   afahey\n",
      "Full Name          Fahey, Alison C\n",
      "Office Phone            6173246363\n",
      "Directory Title     Policy Manager\n",
      "Name: 0, dtype: object\n",
      "Unnamed: 0                        1080\n",
      "Mit Id                       920176588\n",
      "User Name                     bperreau\n",
      "Full Name               Perreau, Bruno\n",
      "Office Phone                6177155384\n",
      "Directory Title    Associate Professor\n",
      "Name: 1080, dtype: object\n",
      "Unnamed: 0                                1218\n",
      "Mit Id                               900044399\n",
      "User Name                               aviana\n",
      "Full Name                   Viana, Alexandre N\n",
      "Office Phone                        6172521809\n",
      "Directory Title    Assistant Animal Technician\n",
      "Name: 1218, dtype: object\n",
      "Unnamed: 0                       1043\n",
      "Mit Id                      900027757\n",
      "User Name                      boning\n",
      "Full Name             Boning, Duane S\n",
      "Office Phone               6172530931\n",
      "Directory Title    Director of MASDAR\n",
      "Name: 1043, dtype: object\n",
      "Unnamed: 0                                                     12771\n",
      "Mit Id                                                     919456596\n",
      "User Name                                                   sherman4\n",
      "Full Name                                       Stepanik, Rebecca S.\n",
      "Office Phone                                              6173246171\n",
      "Directory Title    Asst. Director, Donor Relations and Communicat...\n",
      "Name: 12771, dtype: object\n"
     ]
    }
   ],
   "source": [
    "for idx in summary:\n",
    "    print(df.iloc[idx])"
   ]
  },
  {
   "cell_type": "code",
   "execution_count": null,
   "metadata": {},
   "outputs": [],
   "source": []
  },
  {
   "cell_type": "code",
   "execution_count": null,
   "metadata": {},
   "outputs": [],
   "source": []
  },
  {
   "cell_type": "code",
   "execution_count": null,
   "metadata": {},
   "outputs": [],
   "source": []
  },
  {
   "cell_type": "code",
   "execution_count": null,
   "metadata": {},
   "outputs": [],
   "source": []
  },
  {
   "cell_type": "code",
   "execution_count": null,
   "metadata": {},
   "outputs": [],
   "source": []
  },
  {
   "cell_type": "code",
   "execution_count": null,
   "metadata": {},
   "outputs": [],
   "source": []
  },
  {
   "cell_type": "code",
   "execution_count": null,
   "metadata": {},
   "outputs": [],
   "source": []
  },
  {
   "cell_type": "code",
   "execution_count": null,
   "metadata": {},
   "outputs": [],
   "source": []
  },
  {
   "cell_type": "code",
   "execution_count": 36,
   "metadata": {},
   "outputs": [
    {
     "data": {
      "text/plain": [
       "0.9285714285714286"
      ]
     },
     "execution_count": 36,
     "metadata": {},
     "output_type": "execute_result"
    }
   ],
   "source": [
    "from difflib import SequenceMatcher\n",
    "SequenceMatcher(None, 'Samuel Madden', 'Samuel R Madden').ratio()"
   ]
  },
  {
   "cell_type": "code",
   "execution_count": 37,
   "metadata": {
    "scrolled": true
   },
   "outputs": [
    {
     "data": {
      "text/plain": [
       "[('987515930', 0.9704794477157795),\n",
       " ('database_systems', 0.7108833455379104),\n",
       " ('6_814', 0.6885508485415357),\n",
       " ('6_830', 0.6582210523292098),\n",
       " ('10000577', 0.645577892055571),\n",
       " ('norwegianwood', 0.642001062478319),\n",
       " ('fernandez_hernandez', 0.6298207117547909),\n",
       " ('maria_ledia', 0.6288562580773556),\n",
       " ('11b30964b6413d46e0533d2f0912d418', 0.6287695227795906),\n",
       " ('21w_675-students', 0.6280414608289928),\n",
       " ('wang_lie', 0.6231579323745947),\n",
       " ('924899695', 0.6230523386149919),\n",
       " ('7_ur2015su', 0.6215173178687583),\n",
       " ('rui_manuel;_sousa_ronald_(translator)', 0.6209315456905655),\n",
       " ('ox', 0.6182968548040411),\n",
       " ('44880', 0.6182031174612854),\n",
       " ('yes_comrade', 0.6181331899984215),\n",
       " ('xfb27-58', 0.617134942769223),\n",
       " ('207_08', 0.6157527175682325),\n",
       " ('900044203', 0.6148640836418144)]"
      ]
     },
     "execution_count": 37,
     "metadata": {},
     "output_type": "execute_result"
    }
   ],
   "source": [
    "topk = api.topk_similar_vectors('Madden Samuel', k=20)\n",
    "topk"
   ]
  },
  {
   "cell_type": "code",
   "execution_count": 19,
   "metadata": {},
   "outputs": [
    {
     "data": {
      "text/plain": [
       "[('database_systems', 0.24233881571862992),\n",
       " ('987515930', 0.15369338857426773),\n",
       " ('wu_bae-ian', 0.07573126679797126),\n",
       " ('madden_sam', 0.0518519446297222),\n",
       " ('6_830-madden2012sp:6_830', 0.04127597475975742),\n",
       " ('horn_berthold', 0.03152631937939554),\n",
       " ('6_830-fa142015fa:6_830', 0.03106373849064148),\n",
       " ('triantafyllou_michael', 0.008995808753958112),\n",
       " ('6_830-sp132013sp:6_830', 0.0017528920682097215),\n",
       " ('hoyt_j', -0.005339910261132452),\n",
       " ('hagelstein_peter', -0.009514236230763418),\n",
       " ('leeb_steven', -0.01571654072645856),\n",
       " ('6_814-sp132013sp:6_814', -0.019446027407990618),\n",
       " ('6_814-fa142015fa:6_814', -0.021701738894042588),\n",
       " ('karger_david', -0.031132061019172763),\n",
       " ('orlando_terry', -0.03163186466972512),\n",
       " ('aaronson_scott', -0.03603093948061531),\n",
       " ('6_830-madden2010fa:6_830', -0.03745892374626969),\n",
       " ('6_840-fa142015fa:6_840', -0.038542739368728096),\n",
       " ('ram_rajeev', -0.03879925252548766)]"
      ]
     },
     "execution_count": 19,
     "metadata": {},
     "output_type": "execute_result"
    }
   ],
   "source": [
    "topk = api.topk_similar_vectors('Madden Samuel', k=20, simf=SIMF.EUCLIDEAN)\n",
    "topk"
   ]
  },
  {
   "cell_type": "code",
   "execution_count": 38,
   "metadata": {},
   "outputs": [
    {
     "data": {
      "text/plain": [
       "-0.1845713624392913"
      ]
     },
     "execution_count": 38,
     "metadata": {},
     "output_type": "execute_result"
    }
   ],
   "source": [
    "sim = api.similarity_between('Madden Samuel', 'Madden Samuel R')\n",
    "sim"
   ]
  },
  {
   "cell_type": "code",
   "execution_count": 39,
   "metadata": {},
   "outputs": [
    {
     "data": {
      "text/plain": [
       "-0.5392019766354845"
      ]
     },
     "execution_count": 39,
     "metadata": {},
     "output_type": "execute_result"
    }
   ],
   "source": [
    "sim = api.similarity_between('Madden Samuel', 'Madden Samuel R', simf=SIMF.EUCLIDEAN)\n",
    "sim"
   ]
  },
  {
   "cell_type": "code",
   "execution_count": 40,
   "metadata": {},
   "outputs": [
    {
     "data": {
      "text/plain": [
       "[('madden_samuel', 0.9704794477157795),\n",
       " ('database_systems', 0.6813900021727747),\n",
       " ('6_814', 0.6522947536607404),\n",
       " ('6_830', 0.6375059438707475),\n",
       " ('900044203', 0.6362122372250121),\n",
       " ('nocera_daniel', 0.6240305364077539),\n",
       " ('wang_lie', 0.611838581644423),\n",
       " ('10000577', 0.6113988263143069),\n",
       " ('rui_manuel;_sousa_ronald_(translator)', 0.6026981696788847),\n",
       " ('11b30964b6413d46e0533d2f0912d418', 0.59862216885253)]"
      ]
     },
     "execution_count": 40,
     "metadata": {},
     "output_type": "execute_result"
    }
   ],
   "source": [
    "# observe what happens when i introduce the id\n",
    "res = api.topk_similar_vectors('987515930', k=10)\n",
    "res"
   ]
  },
  {
   "cell_type": "code",
   "execution_count": 57,
   "metadata": {},
   "outputs": [
    {
     "data": {
      "text/plain": [
       "[('Sis_course_description.csv', 0.13821265493723256),\n",
       " ('Hr_faculty_roster.csv', 0.06763860381512055),\n",
       " ('short_course_catalog_subject_offered.csv', -0.006685810130188097),\n",
       " ('Person_auth_area.csv', -0.014319455379207646),\n",
       " ('short_cis_course_catalog.csv', -0.014579377421317208),\n",
       " ('Drupal_employee_directory.csv', -0.0553644114491505),\n",
       " ('Moira_list.csv', -0.05790861336472286),\n",
       " ('short_subjects_offered.csv', -0.06257802428233639),\n",
       " ('Iap_subject_category.csv', -0.07795257067822159),\n",
       " ('Se_person.csv', -0.07847075535440196),\n",
       " ('Sdo_datum_vertical.csv', -0.08425240822342683),\n",
       " ('Sdo_datums_old_format.csv', -0.08829224836030192),\n",
       " ('Fac_rooms.csv', -0.09103996550109894),\n",
       " ('Student_degree_program.csv', -0.0911096304126977),\n",
       " ('Dr_object_attribute.csv', -0.09220820847626654),\n",
       " ('Warehouse_users.csv', -0.09628984392411777),\n",
       " ('Fac_building_address.csv', -0.09661750331865804),\n",
       " ('Fclt_rooms.csv', -0.0974196574751569),\n",
       " ('Sdo_datum_engineering.csv', -0.09813562536399223),\n",
       " ('short_subject_summary.csv', -0.11458420249973211),\n",
       " ('Employee_directory.csv', -0.1162629707802505),\n",
       " ('Fclt_building_address.csv', -0.11688540537535563),\n",
       " ('short_drupal_course_catalog.csv', -0.11971561508136408),\n",
       " ('Fclt_building_address_list.csv', -0.12497893252294512),\n",
       " ('All_olap_function_parameters.csv', -0.13303115536740528)]"
      ]
     },
     "execution_count": 57,
     "metadata": {},
     "output_type": "execute_result"
    }
   ],
   "source": [
    "vec = api.vector_for_entity('Madden Samuel R')\n",
    "topk = api.topk_relations(vec, k=25)\n",
    "topk"
   ]
  },
  {
   "cell_type": "code",
   "execution_count": 42,
   "metadata": {},
   "outputs": [
    {
     "data": {
      "text/plain": [
       "[('Num.csv', 0.16936896528114032),\n",
       " ('Star_user_view.csv', 0.1655799439870267),\n",
       " ('Space_usage.csv', 0.14747305262391708),\n",
       " ('Student_department.csv', 0.14498072458483835),\n",
       " ('Cip_with_version.csv', 0.14222394923954174)]"
      ]
     },
     "execution_count": 42,
     "metadata": {},
     "output_type": "execute_result"
    }
   ],
   "source": [
    "vec = api.vector_for_entity('Madden Samuel')\n",
    "topk = api.topk_relations(vec, k=5, simf=SIMF.EUCLIDEAN)\n",
    "topk"
   ]
  },
  {
   "cell_type": "code",
   "execution_count": 53,
   "metadata": {
    "scrolled": true
   },
   "outputs": [
    {
     "data": {
      "text/plain": [
       "[('Mit Id', 'Hr_faculty_roster.csv', 0.639144706836574),\n",
       " ('Instructor Name', 'Library_course_instructor.csv', 0.6311655512861237),\n",
       " ('Responsible Faculty Name',\n",
       "  'Library_subject_offered.csv',\n",
       "  0.6294495824797028),\n",
       " ('Responsible Faculty Mit Id',\n",
       "  'Library_subject_offered.csv',\n",
       "  0.6287341826679927),\n",
       " ('Mit Id', 'Space_supervisor_usage.csv', 0.5971622603744144),\n",
       " ('Responsible Faculty Mit Id',\n",
       "  'short_tip_subject_offered.csv',\n",
       "  0.5608406749654329)]"
      ]
     },
     "execution_count": 53,
     "metadata": {},
     "output_type": "execute_result"
    }
   ],
   "source": [
    "vec = api.vector_for_entity('Madden Samuel')\n",
    "topk = api.topk_columns(vec, k=6)\n",
    "topk"
   ]
  },
  {
   "cell_type": "code",
   "execution_count": 8,
   "metadata": {},
   "outputs": [
    {
     "data": {
      "text/plain": [
       "[('Responsible Faculty Name',\n",
       "  'Library_subject_offered.csv',\n",
       "  0.14355357542106928),\n",
       " ('Instructor Name', 'Library_course_instructor.csv', 0.13059531855122375),\n",
       " ('Responsible Faculty Name',\n",
       "  'short_tip_subject_offered.csv',\n",
       "  0.08328505294699973),\n",
       " ('Library Subject Offered Key',\n",
       "  'Library_subject_offered.csv',\n",
       "  0.03323005816263902),\n",
       " ('Library Course Instructor Key',\n",
       "  'Library_course_instructor.csv',\n",
       "  0.029184951346477694),\n",
       " ('Shift X', 'Sdo_datums_old_snapshot.csv', 0.022234865679014004)]"
      ]
     },
     "execution_count": 8,
     "metadata": {},
     "output_type": "execute_result"
    }
   ],
   "source": [
    "vec = api.vector_for_entity('Madden Samuel')\n",
    "topk = api.topk_columns(vec, k=6, simf=SIMF.EUCLIDEAN)\n",
    "topk"
   ]
  },
  {
   "cell_type": "code",
   "execution_count": null,
   "metadata": {
    "collapsed": true
   },
   "outputs": [],
   "source": [
    "vec = api.vector_for_entity('Madden Samuel')\n",
    "topk = api.topk_rows(vec, k=5)\n",
    "topk"
   ]
  },
  {
   "cell_type": "code",
   "execution_count": 43,
   "metadata": {
    "scrolled": true
   },
   "outputs": [
    {
     "data": {
      "text/plain": [
       "[('ne49-4122a-201601', 0.20538742589397418),\n",
       " ('nw86-812-201603', 0.1982128485954503),\n",
       " ('e40-196l-201601', 0.19270325473588984),\n",
       " ('1-235l-201606', 0.18637941400349384),\n",
       " ('32-g918-201509', 0.1862798032592471),\n",
       " ('w98-056a-201506', 0.18382321257095294),\n",
       " ('e19-041-201511', 0.18090040199523624),\n",
       " ('nw22-257-201603', 0.17879917726476208),\n",
       " ('w85-1510-201506', 0.17861705166973985),\n",
       " ('w85-1109-201506', 0.17790929505750713)]"
      ]
     },
     "execution_count": 43,
     "metadata": {},
     "output_type": "execute_result"
    }
   ],
   "source": [
    "res = api.analogy('madden_samuel_r', '32-g936', '32-g938')\n",
    "res"
   ]
  },
  {
   "cell_type": "code",
   "execution_count": 44,
   "metadata": {},
   "outputs": [
    {
     "data": {
      "text/plain": [
       "[('madden@csail_mit_edu', 0.9877514181424898),\n",
       " ('6172586643', 0.9661914500477062),\n",
       " ('http://db_csail_mit_edu/madden', 0.9601653803020539),\n",
       " ('joe_edwards@ll_mit_edu', 0.9155993249517854),\n",
       " ('7819815402', 0.9050343751460893),\n",
       " ('922483482', 0.9024991889036602),\n",
       " ('ll-fr2-523', 0.902453853359129),\n",
       " ('7819814855', 0.9017216264757932),\n",
       " ('928294153', 0.9017030609242505),\n",
       " ('wulf', 0.900780053532261)]"
      ]
     },
     "execution_count": 44,
     "metadata": {},
     "output_type": "execute_result"
    }
   ],
   "source": [
    "topk = api.topk_similar_vectors('madden_samuel_r', k=10)\n",
    "topk"
   ]
  },
  {
   "cell_type": "code",
   "execution_count": 58,
   "metadata": {},
   "outputs": [
    {
     "data": {
      "text/plain": [
       "[('6172586643', -0.12508617457917892),\n",
       " ('http://db_csail_mit_edu/madden', -0.1391751966904704),\n",
       " ('madden@csail_mit_edu', -0.17201634098444663),\n",
       " ('ll-fr2-523', -0.17684236222341787),\n",
       " ('7819815402', -0.1777956857099776),\n",
       " ('928294153', -0.18409857307346034),\n",
       " ('joe_edwards@ll_mit_edu', -0.22403632343823232),\n",
       " ('922483482', -0.2797531086329541),\n",
       " ('7819814855', -0.28201589241208014),\n",
       " ('wulf', -0.3011764034743578)]"
      ]
     },
     "execution_count": 58,
     "metadata": {},
     "output_type": "execute_result"
    }
   ],
   "source": [
    "res = api.concept_qa('madden_samuel_r', 'Employee_directory.csv', 'Email Address', n=10)\n",
    "res"
   ]
  },
  {
   "cell_type": "code",
   "execution_count": null,
   "metadata": {
    "collapsed": true
   },
   "outputs": [],
   "source": [
    "res = api.concept_qa('madden_samuel_r', 'Employee_directory.csv', 'Email Address', n=10, simf=SIMF.EUCLIDEAN)\n",
    "res"
   ]
  },
  {
   "cell_type": "code",
   "execution_count": null,
   "metadata": {
    "collapsed": true
   },
   "outputs": [],
   "source": []
  },
  {
   "cell_type": "code",
   "execution_count": 62,
   "metadata": {},
   "outputs": [
    {
     "data": {
      "text/plain": [
       "[]"
      ]
     },
     "execution_count": 62,
     "metadata": {},
     "output_type": "execute_result"
    }
   ],
   "source": [
    "res = api.concept_qa_denoising('madden_samuel_r', 'Employee_directory.csv', 'Email Address', denoise_heuristic=20, n=30)\n",
    "res"
   ]
  },
  {
   "cell_type": "code",
   "execution_count": null,
   "metadata": {
    "collapsed": true,
    "scrolled": true
   },
   "outputs": [],
   "source": [
    "res = api.concept_qa('968548423', 'Employee_directory.csv', 'Office Phone', n=10)\n",
    "res"
   ]
  },
  {
   "cell_type": "code",
   "execution_count": null,
   "metadata": {
    "collapsed": true
   },
   "outputs": [],
   "source": [
    "res = api.concept_qa_denoising('968548423', 'Employee_directory.csv', 'Office Phone', n=10)\n",
    "res"
   ]
  },
  {
   "cell_type": "code",
   "execution_count": null,
   "metadata": {
    "collapsed": true
   },
   "outputs": [],
   "source": [
    "res = api.concept_qa('kimball@mit.edu', 'Employee_directory.csv', 'Office Phone', n=5)\n",
    "res"
   ]
  },
  {
   "cell_type": "code",
   "execution_count": null,
   "metadata": {
    "collapsed": true
   },
   "outputs": [],
   "source": [
    "res = api.concept_qa_denoising('kimball@mit.edu', 'Employee_directory.csv', 'Office Phone', n=5)\n",
    "res"
   ]
  },
  {
   "cell_type": "markdown",
   "metadata": {},
   "source": [
    "### Exploring row-vec relation"
   ]
  },
  {
   "cell_type": "markdown",
   "metadata": {},
   "source": [
    "**Mit Id, Last Name, First Name, Middle Name, Full Name, Office Location, Office Phone, Department Number, Department Name, Krb Name, Email Address, Personal Url**\n",
    "\n",
    "*968548423, Kimball, Richard, W, Kimball,Richard W, 3-269, 6172539707, 65000 Dep. of Mechanical Engineering, kimball, kimball@mit.edu, (no url)*"
   ]
  },
  {
   "cell_type": "code",
   "execution_count": 50,
   "metadata": {
    "scrolled": true
   },
   "outputs": [
    {
     "data": {
      "text/plain": [
       "[('kimball_richard', 0.8274650400385563),\n",
       " ('alexander', 0.5808724022246857),\n",
       " ('johnson_nathan_d', 0.5766780708015954),\n",
       " ('professor_of_the_practice', 0.5752395511249825),\n",
       " ('scott_w', 0.5746770036744993),\n",
       " ('mmimee', 0.5742350804025869),\n",
       " ('johnson_nathan', 0.5721213664985816),\n",
       " ('donalpjc', 0.5715372122925946),\n",
       " ('jpryor', 0.5711173065619926),\n",
       " ('nathanj', 0.5701231829015815)]"
      ]
     },
     "execution_count": 50,
     "metadata": {},
     "output_type": "execute_result"
    }
   ],
   "source": [
    "res = api.topk_similar_vectors('968548423', k=10)\n",
    "res"
   ]
  },
  {
   "cell_type": "code",
   "execution_count": 51,
   "metadata": {
    "scrolled": false
   },
   "outputs": [
    {
     "data": {
      "text/plain": [
       "[('kimball@mit_edu', 0.9957214668345413),\n",
       " ('6172539707', 0.9953959078943915),\n",
       " ('kimball', 0.9744170385852329),\n",
       " ('wang_richard_y', 0.9669832858426947),\n",
       " ('richard_y', 0.966906674368178),\n",
       " ('ben', 0.9632443268108364),\n",
       " ('ellison_sara_f', 0.9614352546871556),\n",
       " ('sara_f', 0.9613979800455246),\n",
       " ('atissa', 0.9608966758425126),\n",
       " ('banuazizi_atissa', 0.9601458521929616)]"
      ]
     },
     "execution_count": 51,
     "metadata": {},
     "output_type": "execute_result"
    }
   ],
   "source": [
    "res = api.topk_similar_vectors('kimball_richard_w', k=10)\n",
    "res"
   ]
  },
  {
   "cell_type": "code",
   "execution_count": 52,
   "metadata": {},
   "outputs": [
    {
     "data": {
      "text/plain": [
       "[('kimball@mit_edu', 0.9965228152447645),\n",
       " ('kimball_richard_w', 0.9953959078943915),\n",
       " ('kimball', 0.97059189457399),\n",
       " ('wang_richard_y', 0.9647554160654629),\n",
       " ('richard_y', 0.964629295976174),\n",
       " ('ben', 0.9609904078856978),\n",
       " ('sara_f', 0.9588804402276588),\n",
       " ('ellison_sara_f', 0.9587795636030549),\n",
       " ('440102_0', 0.9585031610227653),\n",
       " ('sea_grant_college_program', 0.9561181442812635)]"
      ]
     },
     "execution_count": 52,
     "metadata": {},
     "output_type": "execute_result"
    }
   ],
   "source": [
    "res = api.topk_similar_vectors('6172539707', k=10)\n",
    "res"
   ]
  },
  {
   "cell_type": "code",
   "execution_count": 12,
   "metadata": {
    "scrolled": true
   },
   "outputs": [
    {
     "data": {
      "text/plain": [
       "[('968548423', 0.5483184600358931),\n",
       " ('kimball_richard_w', 0.5068739904779622),\n",
       " ('kimball_township', 0.4986258990399113),\n",
       " ('hawaii-noj', 0.4944372859818194),\n",
       " ('orc_sm', 0.49344520751537957),\n",
       " ('hicklin2', 0.468650574692114),\n",
       " ('55353', 0.4678833197210878),\n",
       " ('910006165', 0.46323332227903713),\n",
       " ('acl-ror-coalition', 0.457991460737341),\n",
       " ('7819811585', 0.45526744093539717)]"
      ]
     },
     "execution_count": 12,
     "metadata": {},
     "output_type": "execute_result"
    }
   ],
   "source": [
    "res = api.topk_similar_vectors('kimball', k=10)\n",
    "res"
   ]
  },
  {
   "cell_type": "code",
   "execution_count": 14,
   "metadata": {},
   "outputs": [
    {
     "data": {
      "text/plain": [
       "[('3-2-269', 0.6446704024315779),\n",
       " ('6172539707', 0.5979994035741272),\n",
       " ('kimball_richard_w', 0.5736798852265613),\n",
       " ('3-2-267e', 0.5620825672752245),\n",
       " ('784_24', 0.5603887666061109),\n",
       " ('3-269-201505', 0.5138520039849235),\n",
       " ('3-269a', 0.5024417504873565),\n",
       " ('968548423', 0.4931682849509945),\n",
       " ('3-267e', 0.4921089645404333),\n",
       " ('5-223e', 0.46351824567559924)]"
      ]
     },
     "execution_count": 14,
     "metadata": {},
     "output_type": "execute_result"
    }
   ],
   "source": [
    "res = api.topk_similar_vectors('3-269', k=10)\n",
    "res"
   ]
  },
  {
   "cell_type": "code",
   "execution_count": 15,
   "metadata": {},
   "outputs": [
    {
     "data": {
      "text/plain": [
       "[('david', 0.6014876246375217),\n",
       " ('john', 0.5896711580842966),\n",
       " ('robert', 0.5804079490265617),\n",
       " ('michael', 0.570901838852631),\n",
       " ('william', 0.5456058126832005),\n",
       " ('christopher', 0.542281778567466),\n",
       " ('stephen', 0.5417686252204659),\n",
       " ('george', 0.5407281947881049),\n",
       " ('james', 0.5370358067535486),\n",
       " ('daniel', 0.535614185293984)]"
      ]
     },
     "execution_count": 15,
     "metadata": {},
     "output_type": "execute_result"
    }
   ],
   "source": [
    "res = api.topk_similar_vectors('richard', k=10)\n",
    "res"
   ]
  },
  {
   "cell_type": "code",
   "execution_count": 16,
   "metadata": {},
   "outputs": [
    {
     "data": {
      "text/plain": [
       "[('m', 0.5063437823276751),\n",
       " ('r', 0.5029316132638273),\n",
       " ('j', 0.4815215970814507),\n",
       " ('a', 0.46914693881402625),\n",
       " ('f', 0.46682928486374387),\n",
       " ('david', 0.45239585840451824),\n",
       " ('richard', 0.4523346174822213),\n",
       " ('01/08/16_01:16_am', 0.44950321014075567),\n",
       " ('e', 0.4424572230642748),\n",
       " ('benjamin', 0.43901658968098345)]"
      ]
     },
     "execution_count": 16,
     "metadata": {},
     "output_type": "execute_result"
    }
   ],
   "source": [
    "res = api.topk_similar_vectors('w', k=10)\n",
    "res"
   ]
  },
  {
   "cell_type": "code",
   "execution_count": null,
   "metadata": {
    "collapsed": true
   },
   "outputs": [],
   "source": []
  },
  {
   "cell_type": "code",
   "execution_count": null,
   "metadata": {
    "collapsed": true
   },
   "outputs": [],
   "source": [
    "topk = api.topk_columns(api.vector_for_entity('6172539707'), k=5)\n",
    "topk"
   ]
  },
  {
   "cell_type": "code",
   "execution_count": null,
   "metadata": {
    "collapsed": true
   },
   "outputs": [],
   "source": [
    "topk = api.topk_columns(api.vector_for_entity('kimball@mit.edu'), k=5)\n",
    "topk"
   ]
  },
  {
   "cell_type": "code",
   "execution_count": null,
   "metadata": {
    "collapsed": true
   },
   "outputs": [],
   "source": [
    "res = api.concept_expansion('kimball@mit.edu', 'Employee_directory.csv', 'Email Address', k=5)\n",
    "res"
   ]
  },
  {
   "cell_type": "code",
   "execution_count": null,
   "metadata": {
    "collapsed": true
   },
   "outputs": [],
   "source": []
  },
  {
   "cell_type": "code",
   "execution_count": null,
   "metadata": {
    "collapsed": true
   },
   "outputs": [],
   "source": []
  },
  {
   "cell_type": "code",
   "execution_count": null,
   "metadata": {
    "collapsed": true
   },
   "outputs": [],
   "source": []
  },
  {
   "cell_type": "code",
   "execution_count": null,
   "metadata": {
    "collapsed": true
   },
   "outputs": [],
   "source": []
  },
  {
   "cell_type": "code",
   "execution_count": null,
   "metadata": {
    "collapsed": true
   },
   "outputs": [],
   "source": []
  },
  {
   "cell_type": "code",
   "execution_count": null,
   "metadata": {
    "collapsed": true
   },
   "outputs": [],
   "source": []
  },
  {
   "cell_type": "code",
   "execution_count": null,
   "metadata": {
    "collapsed": true
   },
   "outputs": [],
   "source": []
  },
  {
   "cell_type": "code",
   "execution_count": null,
   "metadata": {
    "collapsed": true
   },
   "outputs": [],
   "source": [
    "import word2vec\n",
    "import itertools\n",
    "import numpy as np\n",
    "from relational_embedder import composition\n",
    "from data_prep import data_prep_utils as dpu\n",
    "from scipy.spatial.distance import cosine\n",
    "import pandas as pd"
   ]
  },
  {
   "cell_type": "code",
   "execution_count": null,
   "metadata": {
    "collapsed": true
   },
   "outputs": [],
   "source": [
    "# Loading binary vectors\n",
    "model = word2vec.load(\"/home/ubuntu/word2vec_c/data/mitdwhdata.bin\")"
   ]
  },
  {
   "cell_type": "code",
   "execution_count": null,
   "metadata": {
    "collapsed": true,
    "scrolled": true
   },
   "outputs": [],
   "source": [
    "indexes, metrics = model.cosine('madden_samuel_r', n=20)\n",
    "res = model.generate_response(indexes, metrics).tolist()\n",
    "res"
   ]
  },
  {
   "cell_type": "code",
   "execution_count": null,
   "metadata": {
    "collapsed": true,
    "scrolled": true
   },
   "outputs": [],
   "source": [
    "indexes, metrics = model.cosine('32-g938', n=20)\n",
    "res = model.generate_response(indexes, metrics).tolist()\n",
    "res"
   ]
  },
  {
   "cell_type": "markdown",
   "metadata": {},
   "source": [
    "#### Basic Analogies"
   ]
  },
  {
   "cell_type": "code",
   "execution_count": null,
   "metadata": {
    "collapsed": true
   },
   "outputs": [],
   "source": [
    "indexes, metrics = model.analogy(pos=['madden_samuel_r', '32-g936'], neg=['32-g938'], n=10)"
   ]
  },
  {
   "cell_type": "code",
   "execution_count": null,
   "metadata": {
    "collapsed": true,
    "scrolled": true
   },
   "outputs": [],
   "source": [
    "res = model.generate_response(indexes, metrics).tolist()\n",
    "res"
   ]
  },
  {
   "cell_type": "markdown",
   "metadata": {},
   "source": [
    "#### Analogies across Relations"
   ]
  },
  {
   "cell_type": "code",
   "execution_count": null,
   "metadata": {
    "collapsed": true
   },
   "outputs": [],
   "source": [
    "indexes, metrics = model.analogy(pos=['gallop_sarah_e', '10-219'], neg=['11-245'], n=10)\n",
    "res = model.generate_response(indexes, metrics).tolist()\n",
    "res"
   ]
  },
  {
   "cell_type": "markdown",
   "metadata": {
    "collapsed": true
   },
   "source": [
    "## Baseline composition: Columns and Relations"
   ]
  },
  {
   "cell_type": "code",
   "execution_count": null,
   "metadata": {
    "collapsed": true
   },
   "outputs": [],
   "source": [
    "# Files\n",
    "import os\n",
    "path = \"/data/datasets/mitdwh/\"\n",
    "all_relations = [relation for relation in os.listdir(path)]"
   ]
  },
  {
   "cell_type": "code",
   "execution_count": null,
   "metadata": {
    "collapsed": true
   },
   "outputs": [],
   "source": [
    "composition_vectors = dict()"
   ]
  },
  {
   "cell_type": "code",
   "execution_count": null,
   "metadata": {
    "collapsed": true,
    "scrolled": true
   },
   "outputs": [],
   "source": [
    "for relation in all_relations:\n",
    "    print(\"Computing vectors for: \" + str(relation))\n",
    "    col_we, missing_words = composition.column_avg_composition(path + \"/\" + relation, model)\n",
    "    rel_we = composition.relation_column_composition(col_we)\n",
    "    composition_vectors[relation] = rel_we\n",
    "    for k, v in col_we.items():\n",
    "        composition_vectors[relation +\".\" + k] = col_we[k]\n",
    "print(\"Done!\")\n",
    "print(\"Total vectors: \" + str(len(composition_vectors.items())))"
   ]
  },
  {
   "cell_type": "code",
   "execution_count": null,
   "metadata": {
    "collapsed": true
   },
   "outputs": [],
   "source": [
    "# SERIALIZE\n",
    "import pickle\n",
    "path = \"./temp/composition_vectors.pkl\"\n",
    "with open(path, 'wb') as f:\n",
    "    pickle.dump(composition_vectors, f)"
   ]
  },
  {
   "cell_type": "code",
   "execution_count": null,
   "metadata": {
    "collapsed": true
   },
   "outputs": [],
   "source": [
    "# DESERIALIZE\n",
    "import pickle\n",
    "path = \"./temp/composition_vectors.pkl\"\n",
    "with open(path, 'rb') as f:\n",
    "    composition_vectors = pickle.load(f)"
   ]
  },
  {
   "cell_type": "code",
   "execution_count": null,
   "metadata": {
    "collapsed": true
   },
   "outputs": [],
   "source": [
    "def similar_to(table, column=None, threshold=0.2):\n",
    "    similar_items = []\n",
    "    if column is None:\n",
    "        key = table\n",
    "    else:\n",
    "        key = table + \".\" + column\n",
    "    for k, we in composition_vectors.items():\n",
    "        distance = 0\n",
    "        try:\n",
    "            distance = cosine(composition_vectors[key], composition_vectors[k])\n",
    "        except ValueError:\n",
    "            continue\n",
    "        if distance < threshold:\n",
    "            similar_items.append(k)\n",
    "    return similar_items"
   ]
  },
  {
   "cell_type": "code",
   "execution_count": null,
   "metadata": {
    "collapsed": true
   },
   "outputs": [],
   "source": [
    "table = \"Fac_building.csv\"\n",
    "column = \"Building Name Long\"\n",
    "#key = \"Tables.csv.Business Contact Email\"\n",
    "threshold = 0.2\n",
    "sim_items = similar_to(table, column=column)\n",
    "for el in sim_items:\n",
    "    print(str(el))"
   ]
  },
  {
   "cell_type": "code",
   "execution_count": null,
   "metadata": {
    "collapsed": true
   },
   "outputs": [],
   "source": [
    "table = \"Library_subject_offered.csv\"\n",
    "column = \"Course Number Desc\"\n",
    "sim_items = similar_to(table, column)\n",
    "for el in sim_items:\n",
    "    print(str(el))"
   ]
  },
  {
   "cell_type": "code",
   "execution_count": null,
   "metadata": {
    "collapsed": true,
    "scrolled": true
   },
   "outputs": [],
   "source": [
    "table = \"Warehouse_users.csv\"\n",
    "sim_items = similar_to(table)\n",
    "for el in sim_items:\n",
    "    print(str(el))"
   ]
  },
  {
   "cell_type": "code",
   "execution_count": null,
   "metadata": {
    "collapsed": true,
    "scrolled": false
   },
   "outputs": [],
   "source": [
    "table = \"Fac_building.csv\"\n",
    "sim_items = similar_to(table, threshold=0.1)\n",
    "for el in sim_items:\n",
    "    print(str(el))"
   ]
  },
  {
   "cell_type": "markdown",
   "metadata": {},
   "source": [
    "### Other examples"
   ]
  },
  {
   "cell_type": "code",
   "execution_count": null,
   "metadata": {
    "collapsed": true
   },
   "outputs": [],
   "source": [
    "path_to_relation = \"/data/datasets/mitdwh/Se_person.csv\"\n",
    "col_we_se, missing_words = composition.column_avg_composition(path_to_relation, model)"
   ]
  },
  {
   "cell_type": "code",
   "execution_count": null,
   "metadata": {
    "collapsed": true
   },
   "outputs": [],
   "source": [
    "path_to_relation = \"/data/datasets/mitdwh/Drupal_employee_directory.csv\"\n",
    "col_we_drupal, missing_words = composition.column_avg_composition(path_to_relation, model)"
   ]
  },
  {
   "cell_type": "code",
   "execution_count": null,
   "metadata": {
    "collapsed": true
   },
   "outputs": [],
   "source": [
    "se_vec = composition.relation_column_composition(col_we_se)\n",
    "drupal_vec = composition.relation_column_composition(col_we_drupal)"
   ]
  },
  {
   "cell_type": "code",
   "execution_count": null,
   "metadata": {
    "collapsed": true
   },
   "outputs": [],
   "source": [
    "cosine(se_vec, drupal_vec)"
   ]
  },
  {
   "cell_type": "code",
   "execution_count": null,
   "metadata": {
    "collapsed": true
   },
   "outputs": [],
   "source": [
    "for a, b in itertools.combinations(col_we_se.keys(), 2):\n",
    "    we_a = col_we_se[a]\n",
    "    we_b = col_we_se[b]\n",
    "\n",
    "    cos = cosine(we_a, we_b)\n",
    "    print(str(a) + \" -sim- \" + str(b) + \" is: \" + str(cos))"
   ]
  },
  {
   "cell_type": "markdown",
   "metadata": {
    "collapsed": true
   },
   "source": [
    "## Composition Rows"
   ]
  },
  {
   "cell_type": "code",
   "execution_count": null,
   "metadata": {
    "collapsed": true
   },
   "outputs": [],
   "source": [
    "path_to_relation = \"/data/datasets/mitdwh/Se_person.csv\"\n",
    "row_we, m_words = composition.row_avg_composition(path_to_relation, model)"
   ]
  },
  {
   "cell_type": "code",
   "execution_count": null,
   "metadata": {
    "collapsed": true
   },
   "outputs": [],
   "source": [
    "df = pd.read_csv(path_to_relation, encoding='latin1')"
   ]
  },
  {
   "cell_type": "code",
   "execution_count": null,
   "metadata": {
    "collapsed": true
   },
   "outputs": [],
   "source": [
    "row_ref = 0\n",
    "distances = []\n",
    "for i in range(len(row_we)):\n",
    "    distance = cosine(row_we[row_ref], row_we[i])\n",
    "    distances.append((i, distance))\n",
    "distances = sorted(distances, key=lambda x: x[1])"
   ]
  },
  {
   "cell_type": "code",
   "execution_count": null,
   "metadata": {
    "collapsed": true
   },
   "outputs": [],
   "source": [
    "len(distances)"
   ]
  },
  {
   "cell_type": "code",
   "execution_count": null,
   "metadata": {
    "collapsed": true
   },
   "outputs": [],
   "source": [
    "k = 10\n",
    "topk = []\n",
    "for i in range(k):\n",
    "    idx = distances[i]\n",
    "    row = df.iloc[idx[0]]\n",
    "    topk.append((row, distances[i]))"
   ]
  },
  {
   "cell_type": "code",
   "execution_count": null,
   "metadata": {
    "collapsed": true
   },
   "outputs": [],
   "source": [
    "df.iloc[0]"
   ]
  },
  {
   "cell_type": "code",
   "execution_count": null,
   "metadata": {
    "collapsed": true
   },
   "outputs": [],
   "source": [
    "topk[1]"
   ]
  },
  {
   "cell_type": "code",
   "execution_count": null,
   "metadata": {
    "collapsed": true
   },
   "outputs": [],
   "source": [
    "topk[2]"
   ]
  },
  {
   "cell_type": "code",
   "execution_count": null,
   "metadata": {
    "collapsed": true
   },
   "outputs": [],
   "source": [
    "topk[3]"
   ]
  },
  {
   "cell_type": "code",
   "execution_count": null,
   "metadata": {
    "collapsed": true
   },
   "outputs": [],
   "source": [
    "topk[4]"
   ]
  },
  {
   "cell_type": "markdown",
   "metadata": {},
   "source": [
    "## Operations across hierarchy"
   ]
  },
  {
   "cell_type": "code",
   "execution_count": null,
   "metadata": {
    "collapsed": true
   },
   "outputs": [],
   "source": [
    "def topk_similar(vec, composition_vectors):\n",
    "    distances = []\n",
    "    errors = 0\n",
    "    for key, value in composition_vectors.items():\n",
    "        try:\n",
    "            distance = cosine(vec, value)\n",
    "        except ValueError:\n",
    "            errors += 1\n",
    "            continue\n",
    "        distances.append((key, distance))\n",
    "    distances = sorted(distances, key=lambda x: x[1])\n",
    "    return distances, errors"
   ]
  },
  {
   "cell_type": "code",
   "execution_count": null,
   "metadata": {
    "collapsed": true
   },
   "outputs": [],
   "source": [
    "entity = 'madden_samuel_r'\n",
    "vec = model.get_vector(entity)"
   ]
  },
  {
   "cell_type": "code",
   "execution_count": null,
   "metadata": {
    "collapsed": true,
    "scrolled": true
   },
   "outputs": [],
   "source": [
    "distances, errors = topk_similar(vec, composition_vectors)\n",
    "print(\"ERRORS: \" + str(errors))"
   ]
  },
  {
   "cell_type": "code",
   "execution_count": null,
   "metadata": {
    "collapsed": true,
    "scrolled": true
   },
   "outputs": [],
   "source": [
    "for i in range(10):\n",
    "    print(str(distances[i]))"
   ]
  },
  {
   "cell_type": "markdown",
   "metadata": {},
   "source": [
    "#### Check rows"
   ]
  },
  {
   "cell_type": "code",
   "execution_count": null,
   "metadata": {
    "collapsed": true
   },
   "outputs": [],
   "source": [
    "distances = []\n",
    "for i in range(len(row_we)):\n",
    "    distance = cosine(vec, row_we[i])\n",
    "    distances.append((i, distance))\n",
    "distances = sorted(distances, key=lambda x: x[1])"
   ]
  },
  {
   "cell_type": "code",
   "execution_count": null,
   "metadata": {
    "collapsed": true
   },
   "outputs": [],
   "source": [
    "k = 10\n",
    "topk = []\n",
    "for i in range(k):\n",
    "    idx = distances[i]\n",
    "    row = df.iloc[idx[0]]\n",
    "    topk.append((row, distances[i]))"
   ]
  },
  {
   "cell_type": "code",
   "execution_count": null,
   "metadata": {
    "collapsed": true
   },
   "outputs": [],
   "source": [
    "topk[0]"
   ]
  },
  {
   "cell_type": "code",
   "execution_count": null,
   "metadata": {
    "collapsed": true
   },
   "outputs": [],
   "source": [
    "topk[1]"
   ]
  },
  {
   "cell_type": "code",
   "execution_count": null,
   "metadata": {
    "collapsed": true
   },
   "outputs": [],
   "source": [
    "topk[2]"
   ]
  },
  {
   "cell_type": "code",
   "execution_count": null,
   "metadata": {
    "collapsed": true
   },
   "outputs": [],
   "source": [
    "topk[3]"
   ]
  },
  {
   "cell_type": "markdown",
   "metadata": {
    "collapsed": true
   },
   "source": [
    "### Designing API"
   ]
  },
  {
   "cell_type": "code",
   "execution_count": null,
   "metadata": {
    "collapsed": true
   },
   "outputs": [],
   "source": [
    "def concept_qa(entity, attribute, n=20):\n",
    "    #vec_entity = model.get_vector(entity)\n",
    "    indexes, metrics = model.cosine(entity, n=n)\n",
    "    res = model.generate_response(indexes, metrics).tolist()\n",
    "    vec_attribute = composition_vectors[attribute]\n",
    "    candidate_attribute_sim = []\n",
    "    for e, score in res:\n",
    "        vec_e = model.get_vector(e)\n",
    "        distance = cosine(vec_e, vec_attribute)\n",
    "        candidate_attribute_sim.append((e, distance))\n",
    "    candidate_attribute_sim = sorted(candidate_attribute_sim, key=lambda x: x[1])\n",
    "    return candidate_attribute_sim\n",
    "\n",
    "def entity_to_attribute(entity, n=20):\n",
    "    indexes, metrics = model.cosine(entity, n=n)\n",
    "    res = model.generate_response(indexes, metrics).tolist()\n",
    "    res_attr = []\n",
    "    for e, score in res:\n",
    "        vec_e = model.get_vector(e)\n",
    "        distances, errors = topk_similar(vec_e, composition_vectors)\n",
    "        res_attr.append((e, score, distances[:4]))\n",
    "    return res_attr"
   ]
  },
  {
   "cell_type": "code",
   "execution_count": null,
   "metadata": {
    "collapsed": true
   },
   "outputs": [],
   "source": [
    "# finding attributes\n",
    "attribute = 'phone'\n",
    "candidates = []\n",
    "for key in composition_vectors.keys():\n",
    "    if (key.lower()).find(attribute) != -1:\n",
    "        candidates.append(key)\n",
    "candidates"
   ]
  },
  {
   "cell_type": "code",
   "execution_count": null,
   "metadata": {
    "collapsed": true
   },
   "outputs": [],
   "source": [
    "indexes, metrics = model.cosine('madden_samuel_r', n=20)\n",
    "res = model.generate_response(indexes, metrics).tolist()\n",
    "res"
   ]
  },
  {
   "cell_type": "code",
   "execution_count": null,
   "metadata": {
    "collapsed": true
   },
   "outputs": [],
   "source": [
    "entity_to_attribute('madden_samuel_r', n=20)"
   ]
  },
  {
   "cell_type": "code",
   "execution_count": null,
   "metadata": {
    "collapsed": true
   },
   "outputs": [],
   "source": [
    "concept_qa('madden_samuel_r', 'Employee_directory.csv.Krb Name', n=10)"
   ]
  },
  {
   "cell_type": "markdown",
   "metadata": {
    "collapsed": true
   },
   "source": [
    "# Testing"
   ]
  },
  {
   "cell_type": "code",
   "execution_count": 18,
   "metadata": {},
   "outputs": [],
   "source": [
    "import numpy as np\n",
    "from scipy.spatial.distance import cosine"
   ]
  },
  {
   "cell_type": "code",
   "execution_count": 4,
   "metadata": {
    "scrolled": true
   },
   "outputs": [
    {
     "data": {
      "text/plain": [
       "[('madden@csail_mit_edu', 0.9877514181424898),\n",
       " ('6172586643', 0.9661914500477062),\n",
       " ('http://db_csail_mit_edu/madden', 0.9601653803020539),\n",
       " ('joe_edwards@ll_mit_edu', 0.9155993249517854),\n",
       " ('7819815402', 0.9050343751460893),\n",
       " ('922483482', 0.9024991889036602),\n",
       " ('ll-fr2-523', 0.902453853359129),\n",
       " ('7819814855', 0.9017216264757932),\n",
       " ('928294153', 0.9017030609242505),\n",
       " ('wulf', 0.900780053532261),\n",
       " ('russmc@haystack_mit_edu', 0.8999511868812413),\n",
       " ('sullivan_cynthia_r', 0.899213914684368),\n",
       " ('919236452', 0.8988618799131842),\n",
       " ('marc_gauthier@ll_mit_edu', 0.8987411198249429),\n",
       " ('929832456', 0.8981311620209751),\n",
       " ('mcwhirter', 0.8977569603224066),\n",
       " ('970671073', 0.8934989928928403),\n",
       " ('7819816292', 0.8928531658222272),\n",
       " ('cindys@ll_mit_edu', 0.8927173309249392),\n",
       " ('wulf_karen_r', 0.8915586661966363)]"
      ]
     },
     "execution_count": 4,
     "metadata": {},
     "output_type": "execute_result"
    }
   ],
   "source": [
    "topk = api.topk_similar_vectors('Madden Samuel R', k=20)\n",
    "topk"
   ]
  },
  {
   "cell_type": "code",
   "execution_count": 26,
   "metadata": {},
   "outputs": [],
   "source": [
    "e1 = api.M.get_vector(dpu.encode_cell('Madden Samuel R'))\n",
    "e2 = api.M.get_vector('madden@csail_mit_edu')\n",
    "e3 = api.M.get_vector('6172586643')"
   ]
  },
  {
   "cell_type": "code",
   "execution_count": 27,
   "metadata": {},
   "outputs": [],
   "source": [
    "mean_v = np.mean([e1, e3], axis=0)"
   ]
  },
  {
   "cell_type": "code",
   "execution_count": 28,
   "metadata": {},
   "outputs": [
    {
     "data": {
      "text/plain": [
       "0.008488161934587568"
      ]
     },
     "execution_count": 28,
     "metadata": {},
     "output_type": "execute_result"
    }
   ],
   "source": [
    "d1 = cosine(e1, mean_v)\n",
    "d1"
   ]
  },
  {
   "cell_type": "code",
   "execution_count": 29,
   "metadata": {},
   "outputs": [
    {
     "data": {
      "text/plain": [
       "0.008488161934587679"
      ]
     },
     "execution_count": 29,
     "metadata": {},
     "output_type": "execute_result"
    }
   ],
   "source": [
    "d2 = cosine(e3, mean_v)\n",
    "d2"
   ]
  },
  {
   "cell_type": "code",
   "execution_count": 33,
   "metadata": {},
   "outputs": [],
   "source": [
    "mean_v2 = np.mean([e1, e2], axis=0)"
   ]
  },
  {
   "cell_type": "code",
   "execution_count": 34,
   "metadata": {},
   "outputs": [
    {
     "data": {
      "text/plain": [
       "0.003066848243451603"
      ]
     },
     "execution_count": 34,
     "metadata": {},
     "output_type": "execute_result"
    }
   ],
   "source": [
    "cosine(e1, mean_v2)"
   ]
  },
  {
   "cell_type": "code",
   "execution_count": 35,
   "metadata": {},
   "outputs": [
    {
     "data": {
      "text/plain": [
       "0.003066848243451714"
      ]
     },
     "execution_count": 35,
     "metadata": {},
     "output_type": "execute_result"
    }
   ],
   "source": [
    "cosine(e2, mean_v2)"
   ]
  },
  {
   "cell_type": "code",
   "execution_count": null,
   "metadata": {},
   "outputs": [],
   "source": []
  }
 ],
 "metadata": {
  "kernelspec": {
   "display_name": "Python 3",
   "language": "python",
   "name": "python3"
  },
  "language_info": {
   "codemirror_mode": {
    "name": "ipython",
    "version": 3
   },
   "file_extension": ".py",
   "mimetype": "text/x-python",
   "name": "python",
   "nbconvert_exporter": "python",
   "pygments_lexer": "ipython3",
   "version": "3.6.2"
  }
 },
 "nbformat": 4,
 "nbformat_minor": 1
}
