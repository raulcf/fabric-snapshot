{
 "cells": [
  {
   "cell_type": "markdown",
   "metadata": {},
   "source": [
    "## Relational Embedding"
   ]
  },
  {
   "cell_type": "code",
   "execution_count": 1,
   "metadata": {},
   "outputs": [],
   "source": [
    "%load_ext autoreload\n",
    "%autoreload 2"
   ]
  },
  {
   "cell_type": "code",
   "execution_count": 2,
   "metadata": {
    "collapsed": true
   },
   "outputs": [],
   "source": [
    "import word2vec\n",
    "import itertools\n",
    "import numpy as np\n",
    "from relational_embedder import composition\n",
    "from data_prep import data_prep_utils as dpu\n",
    "from scipy.spatial.distance import cosine\n",
    "import pandas as pd"
   ]
  },
  {
   "cell_type": "code",
   "execution_count": 3,
   "metadata": {
    "collapsed": true
   },
   "outputs": [],
   "source": [
    "# Loading binary vectors\n",
    "model = word2vec.load(\"/home/ubuntu/word2vec_c/data/mitdwhdata.bin\")"
   ]
  },
  {
   "cell_type": "code",
   "execution_count": 4,
   "metadata": {
    "scrolled": true
   },
   "outputs": [
    {
     "data": {
      "text/plain": [
       "[('6172586643', 0.7849313486501621),\n",
       " ('srmadden', 0.761890896610126),\n",
       " ('madden@csail_mit_edu', 0.7302375712183606),\n",
       " ('32-g938', 0.6994234649772965),\n",
       " ('alleyne_valerie', 0.6096030452657748),\n",
       " ('regev_aviv', 0.6001141852343141),\n",
       " ('http://db_csail_mit_edu/madden', 0.5726818600046826),\n",
       " ('924559605', 0.5446807208673953),\n",
       " ('cadogan_karen_m', 0.5440192014598965),\n",
       " ('cadogan@ll_mit_edu', 0.538459665843975),\n",
       " ('saxe_rebecca_r', 0.5261379573217481),\n",
       " ('lynn_jennifer_j', 0.5234204003276526),\n",
       " ('987515930', 0.5216549568539472),\n",
       " ('valleyne', 0.5056586181521495),\n",
       " ('920145823', 0.49755006654659845),\n",
       " ('nhuch_michelle_r', 0.49333601582586056),\n",
       " ('santos_adèle_naudé', 0.4914655348305545),\n",
       " ('braida_louis_d', 0.4896523932603062),\n",
       " ('julich_perez_april', 0.4838387563134501),\n",
       " ('hanafin_nicole', 0.4807667923350942)]"
      ]
     },
     "execution_count": 4,
     "metadata": {},
     "output_type": "execute_result"
    }
   ],
   "source": [
    "indexes, metrics = model.cosine('madden_samuel_r', n=20)\n",
    "res = model.generate_response(indexes, metrics).tolist()\n",
    "res"
   ]
  },
  {
   "cell_type": "code",
   "execution_count": 5,
   "metadata": {
    "scrolled": true
   },
   "outputs": [
    {
     "data": {
      "text/plain": [
       "[('6172586643', 0.7704075547787494),\n",
       " ('madden_samuel_r', 0.6994234649772965),\n",
       " ('srmadden', 0.6367840073116177),\n",
       " ('madden@csail_mit_edu', 0.6346660052534312),\n",
       " ('ne30-6031', 0.5401929703967987),\n",
       " ('32_-_g938', 0.49038069710556587),\n",
       " ('32-g624', 0.48428400177943187),\n",
       " ('e51-296c', 0.48134845586704583),\n",
       " ('3-362', 0.4799728439087165),\n",
       " ('32-g644', 0.47550937456346765),\n",
       " ('32-g698', 0.47390516025064605),\n",
       " ('32-g939', 0.468810454226964),\n",
       " ('g938', 0.4650410016497478),\n",
       " ('32-g936', 0.46012925378551317),\n",
       " ('6173246179', 0.4592845652925835),\n",
       " ('6172534068', 0.45822708173608384),\n",
       " ('http://csg_csail_mit_edu/~devadas', 0.4580845377033581),\n",
       " ('devadas@mit_edu', 0.4533585811572982),\n",
       " ('900049965', 0.4508476901855568),\n",
       " ('6173244911', 0.4503895429486472)]"
      ]
     },
     "execution_count": 5,
     "metadata": {},
     "output_type": "execute_result"
    }
   ],
   "source": [
    "indexes, metrics = model.cosine('32-g938', n=20)\n",
    "res = model.generate_response(indexes, metrics).tolist()\n",
    "res"
   ]
  },
  {
   "cell_type": "markdown",
   "metadata": {},
   "source": [
    "#### Basic Analogies"
   ]
  },
  {
   "cell_type": "code",
   "execution_count": 6,
   "metadata": {
    "collapsed": true
   },
   "outputs": [],
   "source": [
    "indexes, metrics = model.analogy(pos=['madden_samuel_r', '32-g936'], neg=['32-g938'], n=10)"
   ]
  },
  {
   "cell_type": "code",
   "execution_count": 7,
   "metadata": {
    "scrolled": true
   },
   "outputs": [
    {
     "data": {
      "text/plain": [
       "[('katabi_dina', 0.2620763345752194),\n",
       " ('6173246027', 0.24025065821678065),\n",
       " ('dina@csail_mit_edu', 0.23896212073782416),\n",
       " ('wenger_rich', 0.21775141487554264),\n",
       " ('dinaktbi', 0.1936179557694433),\n",
       " ('951111241', 0.18444792210514846),\n",
       " ('pribble_daniel', 0.18236975950919623),\n",
       " ('wenger_richard', 0.1822369772140558),\n",
       " ('vuletic@mit_edu', 0.18132656363077188),\n",
       " ('essigmann_ellen_m', 0.18048992697689886)]"
      ]
     },
     "execution_count": 7,
     "metadata": {},
     "output_type": "execute_result"
    }
   ],
   "source": [
    "res = model.generate_response(indexes, metrics).tolist()\n",
    "res"
   ]
  },
  {
   "cell_type": "markdown",
   "metadata": {},
   "source": [
    "#### Analogies across Relations"
   ]
  },
  {
   "cell_type": "code",
   "execution_count": 8,
   "metadata": {},
   "outputs": [
    {
     "data": {
      "text/plain": [
       "[('hasseltine_ronald_e', 0.2610148318803308),\n",
       " ('6172530386', 0.24089952295960942),\n",
       " ('rhasselt@mit_edu', 0.21199482467337366),\n",
       " ('moazeni_hamid', 0.21169834408079385),\n",
       " ('medeiros-adams_judith_l', 0.2010895768989216),\n",
       " ('gallop', 0.1985037994512413),\n",
       " ('900000216', 0.19846011033483396),\n",
       " ('wong_yvonne', 0.19579254169153582),\n",
       " ('harris_jr_frederick_e', 0.19540866876017504),\n",
       " ('6172532152', 0.19526614543230933)]"
      ]
     },
     "execution_count": 8,
     "metadata": {},
     "output_type": "execute_result"
    }
   ],
   "source": [
    "indexes, metrics = model.analogy(pos=['gallop_sarah_e', '10-219'], neg=['11-245'], n=10)\n",
    "res = model.generate_response(indexes, metrics).tolist()\n",
    "res"
   ]
  },
  {
   "cell_type": "markdown",
   "metadata": {
    "collapsed": true
   },
   "source": [
    "## Baseline composition: Columns and Relations"
   ]
  },
  {
   "cell_type": "code",
   "execution_count": 9,
   "metadata": {
    "collapsed": true
   },
   "outputs": [],
   "source": [
    "# Files\n",
    "import os\n",
    "path = \"/data/datasets/mitdwh/\"\n",
    "all_relations = [relation for relation in os.listdir(path)]"
   ]
  },
  {
   "cell_type": "code",
   "execution_count": 10,
   "metadata": {
    "collapsed": true
   },
   "outputs": [],
   "source": [
    "composition_vectors = dict()"
   ]
  },
  {
   "cell_type": "code",
   "execution_count": 11,
   "metadata": {
    "scrolled": true
   },
   "outputs": [
    {
     "name": "stdout",
     "output_type": "stream",
     "text": [
      "Computing vectors for: Fclt_rooms.csv\n"
     ]
    },
    {
     "name": "stderr",
     "output_type": "stream",
     "text": [
      "/home/ubuntu/virtualenvs/fabric/lib/python3.5/site-packages/IPython/core/interactiveshell.py:2821: DtypeWarning: Columns (3) have mixed types. Specify dtype option on import or set low_memory=False.\n",
      "  if self.run_code(code, result):\n"
     ]
    },
    {
     "name": "stdout",
     "output_type": "stream",
     "text": [
      "Computing vectors for: Hr_org_unit_new.csv\n",
      "Computing vectors for: Sdo_relatemask_table.csv\n",
      "Computing vectors for: Sdo_datums_old_snapshot.csv\n",
      "Computing vectors for: Zpm_rooms_load.csv\n",
      "Computing vectors for: Mit_student_directory.csv\n",
      "Computing vectors for: Sdo_coord_axis_names.csv\n",
      "Computing vectors for: Sdo_ellipsoids_old.csv\n",
      "Computing vectors for: Iap_subject_session.csv\n",
      "Computing vectors for: Ctx_stopwords.csv\n",
      "Computing vectors for: Space_unit.csv\n",
      "Computing vectors for: Sdo_datum_vertical.csv\n",
      "Computing vectors for: Sdo_crs_vertical.csv\n",
      "Computing vectors for: All_olap_functions.csv\n",
      "Computing vectors for: short_drupal_course_catalog.csv\n",
      "Computing vectors for: Sdo_crs_geocentric.csv\n",
      "Computing vectors for: Ctx_parameters.csv\n",
      "Computing vectors for: Time_day.csv\n",
      "Computing vectors for: Sdo_units_of_measure.csv\n",
      "Computing vectors for: Si_thumbnail_format.csv\n",
      "Computing vectors for: Fclt_building_address_list.csv\n",
      "Computing vectors for: Student_department.csv\n",
      "Computing vectors for: Fclt_org_dlc_key.csv\n",
      "Computing vectors for: Sdo_coord_ops.csv\n",
      "Computing vectors for: Roles_fin_pa.csv\n",
      "Computing vectors for: Student_degree_program.csv\n",
      "Computing vectors for: short_subjects_offered.csv\n",
      "Computing vectors for: User_wm_privs.csv\n",
      "Computing vectors for: Sis_department.csv\n",
      "Computing vectors for: Geodetic_srids.csv\n",
      "Computing vectors for: Ctx_object_attributes.csv\n",
      "Computing vectors for: Sdo_datums.csv\n",
      "Computing vectors for: Star_user_view.csv\n",
      "Computing vectors for: short_moira_list_detail.csv\n",
      "Computing vectors for: Sdo_dist_units.csv\n",
      "Computing vectors for: All_olap_function_parameters.csv\n",
      "Computing vectors for: Subject_attribute.csv\n",
      "Computing vectors for: subject_grouping_slice.csv\n",
      "Computing vectors for: short_subject_enrollable.csv\n",
      "Computing vectors for: Ctx_section_groups.csv\n",
      "Computing vectors for: Master_dept_dcode_parent.csv\n",
      "Computing vectors for: Tip_material_status.csv\n",
      "Computing vectors for: short_zip_canada.csv\n",
      "Computing vectors for: Time_month.csv\n",
      "Computing vectors for: Sdo_coord_op_methods.csv\n",
      "Computing vectors for: Sdo_coord_param_use.csv\n",
      "Computing vectors for: All_workspace_privs.csv\n",
      "Computing vectors for: Space_supervisor_usage.csv\n",
      "Computing vectors for: Tip_detail.csv\n",
      "Computing vectors for: Fac_building_address.csv\n",
      "Computing vectors for: Sis_admin_department.csv\n",
      "Computing vectors for: Library_course_instructor.csv\n",
      "Computing vectors for: Dr_object_attribute.csv\n",
      "Computing vectors for: Sdo_projections_old_format.csv\n",
      "Computing vectors for: Sdo_crs_geographic2d.csv\n",
      "Computing vectors for: Fclt_building_list.csv\n",
      "Computing vectors for: Cip.csv\n",
      "Computing vectors for: Sdo_projections_old_snapshot.csv\n",
      "Computing vectors for: Fac_organization.csv\n",
      "Computing vectors for: User_view_field.csv\n",
      "Computing vectors for: All_olap_tables.csv\n",
      "Computing vectors for: Ctx_stoplists.csv\n",
      "Computing vectors for: Fclt_organization_hist.csv\n",
      "Computing vectors for: Se_person.csv\n",
      "Computing vectors for: Top_level_domain.csv\n",
      "Computing vectors for: short_fclt_rooms_hist.csv\n",
      "Computing vectors for: Hr_org_unit.csv\n",
      "Computing vectors for: Library_subject_offered.csv\n",
      "Computing vectors for: Si_image_formats.csv\n",
      "Computing vectors for: Master_dept_hierarchy_links.csv\n",
      "Computing vectors for: Fclt_building_address.csv\n",
      "Computing vectors for: All_olap_entity_desc_uses.csv\n",
      "Computing vectors for: short_library_reserve_catalog.csv\n",
      "Computing vectors for: Library_material_status.csv\n",
      "Computing vectors for: Iap_subject_category.csv\n",
      "Computing vectors for: short_tip_subject_offered.csv\n",
      "Computing vectors for: Si_image_format_covnersions.csv\n",
      "Computing vectors for: Cip_with_version.csv\n",
      "Computing vectors for: Sdo_coord_op_params.csv\n",
      "Computing vectors for: All_version_hview_wdepth.csv\n",
      "Computing vectors for: short_cis_course_catalog.csv\n",
      "Computing vectors for: short_course_catalog_subject_offered.csv\n",
      "Computing vectors for: Iap_subject_sponsor.csv\n",
      "Computing vectors for: Fac_floor.csv\n",
      "Computing vectors for: Fac_rooms.csv\n"
     ]
    },
    {
     "name": "stderr",
     "output_type": "stream",
     "text": [
      "/home/ubuntu/virtualenvs/fabric/lib/python3.5/site-packages/IPython/core/interactiveshell.py:2821: DtypeWarning: Columns (2) have mixed types. Specify dtype option on import or set low_memory=False.\n",
      "  if self.run_code(code, result):\n"
     ]
    },
    {
     "name": "stdout",
     "output_type": "stream",
     "text": [
      "Computing vectors for: Mrv_olap2_descriptors.csv\n",
      "Computing vectors for: Wm_installation.csv\n",
      "Computing vectors for: Person_auth_area.csv\n",
      "Computing vectors for: Sdo_coord_op_paths.csv\n",
      "Computing vectors for: Sdo_coord_system.csv\n",
      "Computing vectors for: Fields.csv\n",
      "Computing vectors for: Hr_faculty_roster.csv\n",
      "Computing vectors for: Space_usage.csv\n",
      "Computing vectors for: Tip_material.csv\n",
      "Computing vectors for: Space_floor.csv\n",
      "Computing vectors for: Sdo_crs_geographic3d.csv\n",
      "Computing vectors for: Zip_usa.csv\n",
      "Computing vectors for: All_olap_descriptor_types.csv\n",
      "Computing vectors for: Sis_subject_code.csv\n",
      "Computing vectors for: Sdo_available_ops.csv\n",
      "Computing vectors for: Academic_term_parameter.csv\n",
      "Computing vectors for: All_olap_columns.csv\n",
      "Computing vectors for: Field_dictionary_definition.csv\n",
      "Computing vectors for: Drupal_employee_directory.csv\n",
      "Computing vectors for: Sdo_prime_meridians.csv\n",
      "Computing vectors for: Academic_terms.csv\n",
      "Computing vectors for: short_subject_offered_summary.csv\n",
      "Computing vectors for: Fclt_major_use.csv\n",
      "Computing vectors for: Si_image_format_features.csv\n",
      "Computing vectors for: Sdo_datum_geodetic.csv\n",
      "Computing vectors for: Sdo_available_elem_ops.csv\n",
      "Computing vectors for: Fclt_floor_hist.csv\n",
      "Computing vectors for: Space_detail.csv\n",
      "Computing vectors for: Sdo_datum_engineering.csv\n",
      "Computing vectors for: All_olap_descriptor_types_2.csv\n",
      "Computing vectors for: Tables.csv\n",
      "Computing vectors for: Star.csv\n",
      "Computing vectors for: Sis_lookup.csv\n",
      "Computing vectors for: Fclt_floor.csv\n",
      "Computing vectors for: Ctx_objects.csv\n",
      "Computing vectors for: Ctx_object_attribute_lov.csv\n",
      "Computing vectors for: Sdo_ellipsoids_old_snapshot.csv\n",
      "Computing vectors for: Ctx_classes.csv\n",
      "Computing vectors for: Ctx_preference_values.csv\n",
      "Computing vectors for: All_rlmgr_rulec_class_opcodes.csv\n",
      "Computing vectors for: Ctx_index_sets.csv\n",
      "Computing vectors for: Iap_subject_detail.csv\n"
     ]
    },
    {
     "name": "stderr",
     "output_type": "stream",
     "text": [
      "/home/ubuntu/virtualenvs/fabric/lib/python3.5/site-packages/numpy/core/fromnumeric.py:2889: RuntimeWarning: Mean of empty slice.\n",
      "  out=out, **kwargs)\n",
      "/home/ubuntu/virtualenvs/fabric/lib/python3.5/site-packages/numpy/core/_methods.py:80: RuntimeWarning: invalid value encountered in double_scalars\n",
      "  ret = ret.dtype.type(ret / rcount)\n"
     ]
    },
    {
     "name": "stdout",
     "output_type": "stream",
     "text": [
      "Computing vectors for: Master_dept_hierarchy.csv\n",
      "Computing vectors for: Ir_institution.csv\n",
      "Computing vectors for: Num.csv\n",
      "Computing vectors for: Sdo_crs_compound.csv\n",
      "Computing vectors for: Cis_hass_attribute.csv\n",
      "Computing vectors for: Sdo_crs_engineering.csv\n",
      "Computing vectors for: Iap_subject_person.csv\n",
      "Computing vectors for: Si_values.csv\n",
      "Computing vectors for: Fac_major_use.csv\n",
      "Computing vectors for: Sdo_datums_old_format.csv\n",
      "Computing vectors for: Sis_term_address_category.csv\n",
      "Computing vectors for: Moira_list.csv\n",
      "Computing vectors for: All_olap2_uentity_desc_uses.csv\n",
      "Computing vectors for: Fac_building.csv\n",
      "Computing vectors for: User_view.csv\n",
      "Computing vectors for: All_hversion_view.csv\n",
      "Computing vectors for: Ctx_preferences.csv\n",
      "Computing vectors for: Fclt_major_user_hist.csv\n",
      "Computing vectors for: Sdo_non_available_elem_units.csv\n",
      "Computing vectors for: Subject_iap_schedule.csv\n",
      "Computing vectors for: Fclt_building.csv\n",
      "Computing vectors for: Fclt_organization.csv\n",
      "Computing vectors for: Fclt_building_hist_1.csv\n",
      "Computing vectors for: Buildings.csv\n",
      "Computing vectors for: Sdo_area_units.csv\n",
      "Computing vectors for: Employee_directory.csv\n",
      "Computing vectors for: Library_reserve_matrl_detail.csv\n",
      "Computing vectors for: short_subject_summary.csv\n",
      "Computing vectors for: Sdo_angle_units.csv\n",
      "Computing vectors for: Sis_course_description.csv\n",
      "Computing vectors for: Academic_terms_all.csv\n",
      "Computing vectors for: Warehouse_users.csv\n",
      "Computing vectors for: Sdo_crs_projected.csv\n",
      "Done!\n",
      "Total vectors: 1842\n"
     ]
    }
   ],
   "source": [
    "for relation in all_relations:\n",
    "    print(\"Computing vectors for: \" + str(relation))\n",
    "    col_we, missing_words = composition.column_avg_composition(path + \"/\" + relation, model)\n",
    "    rel_we = composition.relation_column_composition(col_we)\n",
    "    composition_vectors[relation] = rel_we\n",
    "    for k, v in col_we.items():\n",
    "        composition_vectors[relation +\".\" + k] = col_we[k]\n",
    "print(\"Done!\")\n",
    "print(\"Total vectors: \" + str(len(composition_vectors.items())))"
   ]
  },
  {
   "cell_type": "code",
   "execution_count": 69,
   "metadata": {
    "collapsed": true
   },
   "outputs": [],
   "source": [
    "# SERIALIZE\n",
    "import pickle\n",
    "path = \"./temp/composition_vectors.pkl\"\n",
    "with open(path, 'wb') as f:\n",
    "    pickle.dump(composition_vectors, f)"
   ]
  },
  {
   "cell_type": "code",
   "execution_count": 22,
   "metadata": {
    "collapsed": true
   },
   "outputs": [],
   "source": [
    "# DESERIALIZE\n",
    "import pickle\n",
    "path = \"./temp/composition_vectors.pkl\"\n",
    "with open(path, 'rb') as f:\n",
    "    composition_vectors = pickle.load(f)"
   ]
  },
  {
   "cell_type": "code",
   "execution_count": 12,
   "metadata": {
    "collapsed": true
   },
   "outputs": [],
   "source": [
    "def similar_to(table, column=None, threshold=0.2):\n",
    "    similar_items = []\n",
    "    if column is None:\n",
    "        key = table\n",
    "    else:\n",
    "        key = table + \".\" + column\n",
    "    for k, we in composition_vectors.items():\n",
    "        distance = 0\n",
    "        try:\n",
    "            distance = cosine(composition_vectors[key], composition_vectors[k])\n",
    "        except ValueError:\n",
    "            continue\n",
    "        if distance < threshold:\n",
    "            similar_items.append(k)\n",
    "    return similar_items"
   ]
  },
  {
   "cell_type": "code",
   "execution_count": 13,
   "metadata": {},
   "outputs": [
    {
     "name": "stdout",
     "output_type": "stream",
     "text": [
      "Buildings.csv.Building Name\n",
      "Fclt_building_hist_1.csv.Building Name Long\n",
      "Fclt_building_hist_1.csv.Building Name\n",
      "Fclt_building_list.csv.Building Name Long\n",
      "Fac_building.csv.Building Name\n",
      "Fclt_building.csv.Building Name\n",
      "Fclt_building_list.csv.Building Name\n",
      "Fac_building.csv.Building Name Long\n",
      "Fclt_building.csv.Building Name Long\n"
     ]
    }
   ],
   "source": [
    "table = \"Fac_building.csv\"\n",
    "column = \"Building Name Long\"\n",
    "#key = \"Tables.csv.Business Contact Email\"\n",
    "threshold = 0.2\n",
    "sim_items = similar_to(table, column=column)\n",
    "for el in sim_items:\n",
    "    print(str(el))"
   ]
  },
  {
   "cell_type": "code",
   "execution_count": 14,
   "metadata": {},
   "outputs": [
    {
     "name": "stdout",
     "output_type": "stream",
     "text": [
      "Student_department.csv.Department Name\n",
      "short_subject_offered_summary.csv.Offer Dept Name\n",
      "short_subject_summary.csv.Department Name\n",
      "short_cis_course_catalog.csv.Department Name\n",
      "short_subjects_offered.csv.Offer Dept Name\n",
      "short_subjects_offered.csv.Master Course Number Desc\n",
      "short_tip_subject_offered.csv.Master Course Number Desc\n",
      "short_drupal_course_catalog.csv.Department Name\n",
      "Mit_student_directory.csv.Department Name\n",
      "short_course_catalog_subject_offered.csv.Department Name\n",
      "subject_grouping_slice.csv.Department Name\n",
      "short_tip_subject_offered.csv.Offer Dept Name\n",
      "Library_subject_offered.csv.Offer Dept Name\n",
      "short_tip_subject_offered.csv.Course Number Desc\n",
      "Sis_course_description.csv.Department Name\n",
      "short_subjects_offered.csv.Course Number Desc\n",
      "Library_subject_offered.csv.Master Course Number Desc\n",
      "Library_subject_offered.csv.Course Number Desc\n"
     ]
    }
   ],
   "source": [
    "table = \"Library_subject_offered.csv\"\n",
    "column = \"Course Number Desc\"\n",
    "sim_items = similar_to(table, column)\n",
    "for el in sim_items:\n",
    "    print(str(el))"
   ]
  },
  {
   "cell_type": "code",
   "execution_count": 15,
   "metadata": {
    "scrolled": true
   },
   "outputs": [
    {
     "name": "stdout",
     "output_type": "stream",
     "text": [
      "Warehouse_users.csv\n",
      "Employee_directory.csv.Middle Name\n",
      "Warehouse_users.csv.Middle Name\n",
      "Mit_student_directory.csv.Middle Name\n",
      "Drupal_employee_directory.csv.Middle Name\n",
      "Se_person.csv.Middle Name\n",
      "Hr_faculty_roster.csv.Middle Name\n",
      "Warehouse_users.csv.Title\n"
     ]
    }
   ],
   "source": [
    "table = \"Warehouse_users.csv\"\n",
    "sim_items = similar_to(table)\n",
    "for el in sim_items:\n",
    "    print(str(el))"
   ]
  },
  {
   "cell_type": "code",
   "execution_count": 16,
   "metadata": {
    "scrolled": false
   },
   "outputs": [
    {
     "name": "stdout",
     "output_type": "stream",
     "text": [
      "Fclt_building_hist_1.csv\n",
      "Fac_building.csv\n",
      "Fclt_building.csv\n",
      "Fclt_building_list.csv\n"
     ]
    }
   ],
   "source": [
    "table = \"Fac_building.csv\"\n",
    "sim_items = similar_to(table, threshold=0.1)\n",
    "for el in sim_items:\n",
    "    print(str(el))"
   ]
  },
  {
   "cell_type": "markdown",
   "metadata": {},
   "source": [
    "### Other examples"
   ]
  },
  {
   "cell_type": "code",
   "execution_count": 25,
   "metadata": {
    "collapsed": true
   },
   "outputs": [],
   "source": [
    "path_to_relation = \"/data/datasets/mitdwh/Se_person.csv\"\n",
    "col_we_se, missing_words = composition.column_avg_composition(path_to_relation, model)"
   ]
  },
  {
   "cell_type": "code",
   "execution_count": 26,
   "metadata": {
    "collapsed": true
   },
   "outputs": [],
   "source": [
    "path_to_relation = \"/data/datasets/mitdwh/Drupal_employee_directory.csv\"\n",
    "col_we_drupal, missing_words = composition.column_avg_composition(path_to_relation, model)"
   ]
  },
  {
   "cell_type": "code",
   "execution_count": 27,
   "metadata": {
    "collapsed": true
   },
   "outputs": [],
   "source": [
    "se_vec = composition.relation_column_composition(col_we_se)\n",
    "drupal_vec = composition.relation_column_composition(col_we_drupal)"
   ]
  },
  {
   "cell_type": "code",
   "execution_count": 28,
   "metadata": {},
   "outputs": [
    {
     "data": {
      "text/plain": [
       "0.17816106687438826"
      ]
     },
     "execution_count": 28,
     "metadata": {},
     "output_type": "execute_result"
    }
   ],
   "source": [
    "cosine(se_vec, drupal_vec)"
   ]
  },
  {
   "cell_type": "code",
   "execution_count": 30,
   "metadata": {},
   "outputs": [
    {
     "name": "stdout",
     "output_type": "stream",
     "text": [
      "Is Active -sim- Organization is: 0.71580180098\n",
      "Is Active -sim- Last Name is: 0.754346633966\n",
      "Is Active -sim- Employee Type is: 0.593234068665\n",
      "Is Active -sim- Krb Name is: 0.743188209349\n",
      "Is Active -sim- Full Name is: 0.773458063759\n",
      "Is Active -sim- Mit Id is: 0.713277708397\n",
      "Is Active -sim- Office Location is: 1.04746727659\n",
      "Is Active -sim- Position Title is: 0.654582383524\n",
      "Is Active -sim- Payroll Rank is: 0.545001600076\n",
      "Is Active -sim- Middle Name is: 1.0106378701\n",
      "Is Active -sim- First Name is: 0.649957258588\n",
      "Organization -sim- Last Name is: 0.550844356843\n",
      "Organization -sim- Employee Type is: 0.431105480558\n",
      "Organization -sim- Krb Name is: 0.49305379079\n",
      "Organization -sim- Full Name is: 0.608568961034\n",
      "Organization -sim- Mit Id is: 0.414800770861\n",
      "Organization -sim- Office Location is: 0.929235802932\n",
      "Organization -sim- Position Title is: 0.720257754811\n",
      "Organization -sim- Payroll Rank is: 0.33552013582\n",
      "Organization -sim- Middle Name is: 0.905511666916\n",
      "Organization -sim- First Name is: 0.561555216503\n",
      "Last Name -sim- Employee Type is: 0.362954472489\n",
      "Last Name -sim- Krb Name is: 0.295420368456\n",
      "Last Name -sim- Full Name is: 0.454607078177\n",
      "Last Name -sim- Mit Id is: 0.319632400995\n",
      "Last Name -sim- Office Location is: 0.997328130513\n",
      "Last Name -sim- Position Title is: 0.404027605536\n",
      "Last Name -sim- Payroll Rank is: 0.32927592587\n",
      "Last Name -sim- Middle Name is: 0.859279028509\n",
      "Last Name -sim- First Name is: 0.346828339537\n",
      "Employee Type -sim- Krb Name is: 0.517328465819\n",
      "Employee Type -sim- Full Name is: 0.4401976254\n",
      "Employee Type -sim- Mit Id is: 0.467197385248\n",
      "Employee Type -sim- Office Location is: 0.836629550951\n",
      "Employee Type -sim- Position Title is: 0.343269325702\n",
      "Employee Type -sim- Payroll Rank is: 0.241101433244\n",
      "Employee Type -sim- Middle Name is: 0.663724994313\n",
      "Employee Type -sim- First Name is: 0.34007372089\n",
      "Krb Name -sim- Full Name is: 0.557900991176\n",
      "Krb Name -sim- Mit Id is: 0.311326423085\n",
      "Krb Name -sim- Office Location is: 0.777663368756\n",
      "Krb Name -sim- Position Title is: 0.544934777716\n",
      "Krb Name -sim- Payroll Rank is: 0.436924023744\n",
      "Krb Name -sim- Middle Name is: 0.805030529853\n",
      "Krb Name -sim- First Name is: 0.458600620947\n",
      "Full Name -sim- Mit Id is: 0.391483672854\n",
      "Full Name -sim- Office Location is: 0.796776409657\n",
      "Full Name -sim- Position Title is: 0.561084084473\n",
      "Full Name -sim- Payroll Rank is: 0.448543079231\n",
      "Full Name -sim- Middle Name is: 0.921796223956\n",
      "Full Name -sim- First Name is: 0.48946810187\n",
      "Mit Id -sim- Office Location is: 0.785789253889\n",
      "Mit Id -sim- Position Title is: 0.486009030033\n",
      "Mit Id -sim- Payroll Rank is: 0.358709093937\n",
      "Mit Id -sim- Middle Name is: 0.994082208536\n",
      "Mit Id -sim- First Name is: 0.473613931563\n",
      "Office Location -sim- Position Title is: 0.919045628029\n",
      "Office Location -sim- Payroll Rank is: 0.918062745733\n",
      "Office Location -sim- Middle Name is: 0.423017479676\n",
      "Office Location -sim- First Name is: 1.13048935568\n",
      "Position Title -sim- Payroll Rank is: 0.500994804155\n",
      "Position Title -sim- Middle Name is: 0.71174906164\n",
      "Position Title -sim- First Name is: 0.369511225292\n",
      "Payroll Rank -sim- Middle Name is: 0.775288338609\n",
      "Payroll Rank -sim- First Name is: 0.340674410919\n",
      "Middle Name -sim- First Name is: 0.735978605252\n"
     ]
    }
   ],
   "source": [
    "for a, b in itertools.combinations(col_we_se.keys(), 2):\n",
    "    we_a = col_we_se[a]\n",
    "    we_b = col_we_se[b]\n",
    "\n",
    "    cos = cosine(we_a, we_b)\n",
    "    print(str(a) + \" -sim- \" + str(b) + \" is: \" + str(cos))"
   ]
  },
  {
   "cell_type": "markdown",
   "metadata": {
    "collapsed": true
   },
   "source": [
    "## Composition Rows"
   ]
  },
  {
   "cell_type": "code",
   "execution_count": 9,
   "metadata": {
    "collapsed": true
   },
   "outputs": [],
   "source": [
    "path_to_relation = \"/data/datasets/mitdwh/Se_person.csv\"\n",
    "row_we, m_words = composition.row_avg_composition(path_to_relation, model)"
   ]
  },
  {
   "cell_type": "code",
   "execution_count": 24,
   "metadata": {
    "collapsed": true
   },
   "outputs": [],
   "source": [
    "df = pd.read_csv(path_to_relation, encoding='latin1')"
   ]
  },
  {
   "cell_type": "code",
   "execution_count": 35,
   "metadata": {
    "collapsed": true
   },
   "outputs": [],
   "source": [
    "row_ref = 0\n",
    "distances = []\n",
    "for i in range(len(row_we)):\n",
    "    distance = cosine(row_we[row_ref], row_we[i])\n",
    "    distances.append((i, distance))\n",
    "distances = sorted(distances, key=lambda x: x[1])"
   ]
  },
  {
   "cell_type": "code",
   "execution_count": 36,
   "metadata": {},
   "outputs": [
    {
     "data": {
      "text/plain": [
       "16497"
      ]
     },
     "execution_count": 36,
     "metadata": {},
     "output_type": "execute_result"
    }
   ],
   "source": [
    "len(distances)"
   ]
  },
  {
   "cell_type": "code",
   "execution_count": 45,
   "metadata": {
    "collapsed": true
   },
   "outputs": [],
   "source": [
    "k = 10\n",
    "topk = []\n",
    "for i in range(k):\n",
    "    idx = distances[i]\n",
    "    row = df.iloc[idx[0]]\n",
    "    topk.append((row, distances[i]))"
   ]
  },
  {
   "cell_type": "code",
   "execution_count": 47,
   "metadata": {},
   "outputs": [
    {
     "data": {
      "text/plain": [
       "Mit Id                                   900000624\n",
       "Krb Name                                    PJCORN\n",
       "Full Name                        Cornelio, Paula J\n",
       "Payroll Rank                         Support Staff\n",
       "Position Title     Senior Administrative Assistant\n",
       "Is Active                                        Y\n",
       "Office Location                             24-122\n",
       "Organization       Nuclear Science and Engineering\n",
       "First Name                                   Paula\n",
       "Last Name                                 Cornelio\n",
       "Middle Name                                      J\n",
       "Employee Type                        Support Staff\n",
       "Name: 0, dtype: object"
      ]
     },
     "execution_count": 47,
     "metadata": {},
     "output_type": "execute_result"
    }
   ],
   "source": [
    "df.iloc[0]"
   ]
  },
  {
   "cell_type": "code",
   "execution_count": 49,
   "metadata": {},
   "outputs": [
    {
     "data": {
      "text/plain": [
       "(Mit Id                                   900009589\n",
       " Krb Name                                   MAGNANO\n",
       " Full Name                  Magnano-Bleheen, Lisa J\n",
       " Payroll Rank                         Support Staff\n",
       " Position Title     Senior Administrative Assistant\n",
       " Is Active                                        Y\n",
       " Office Location                             24-107\n",
       " Organization       Nuclear Science and Engineering\n",
       " First Name                                    Lisa\n",
       " Last Name                          Magnano-Bleheen\n",
       " Middle Name                                      J\n",
       " Employee Type                        Support Staff\n",
       " Name: 2126, dtype: object, (2126, 0.20728029774227363))"
      ]
     },
     "execution_count": 49,
     "metadata": {},
     "output_type": "execute_result"
    }
   ],
   "source": [
    "topk[1]"
   ]
  },
  {
   "cell_type": "code",
   "execution_count": 50,
   "metadata": {},
   "outputs": [
    {
     "data": {
      "text/plain": [
       "(Mit Id                                     900053097\n",
       " Krb Name                                      TLAYTE\n",
       " Full Name                            Layte, Thomas E\n",
       " Payroll Rank                         Other Acad-Inst\n",
       " Position Title     Club Coach - Head Wrestling Coach\n",
       " Is Active                                          Y\n",
       " Office Location                              W20-549\n",
       " Organization                      Student Activities\n",
       " First Name                                    Thomas\n",
       " Last Name                                      Layte\n",
       " Middle Name                                        E\n",
       " Employee Type                   Other Academic Group\n",
       " Name: 1, dtype: object, (1, 0.24667526173039556))"
      ]
     },
     "execution_count": 50,
     "metadata": {},
     "output_type": "execute_result"
    }
   ],
   "source": [
    "topk[2]"
   ]
  },
  {
   "cell_type": "code",
   "execution_count": 51,
   "metadata": {},
   "outputs": [
    {
     "data": {
      "text/plain": [
       "(Mit Id                                   929452712\n",
       " Krb Name                                  RALLISON\n",
       " Full Name                        Allison, Robert L\n",
       " Payroll Rank                         Support Staff\n",
       " Position Title         Administrative Assistant II\n",
       " Is Active                                        Y\n",
       " Office Location                             24-209\n",
       " Organization       Nuclear Science and Engineering\n",
       " First Name                                  Robert\n",
       " Last Name                                  Allison\n",
       " Middle Name                                      L\n",
       " Employee Type                        Support Staff\n",
       " Name: 12127, dtype: object, (12127, 0.27658025668369934))"
      ]
     },
     "execution_count": 51,
     "metadata": {},
     "output_type": "execute_result"
    }
   ],
   "source": [
    "topk[3]"
   ]
  },
  {
   "cell_type": "code",
   "execution_count": 52,
   "metadata": {},
   "outputs": [
    {
     "data": {
      "text/plain": [
       "(Mit Id                               900001346\n",
       " Krb Name                              DROSSETT\n",
       " Full Name               Stewart, Denise Marian\n",
       " Payroll Rank                     Support Staff\n",
       " Position Title     Administrative Assistant II\n",
       " Is Active                                    Y\n",
       " Office Location                        E19-307\n",
       " Organization             MIT Energy Initiative\n",
       " First Name                              Denise\n",
       " Last Name                              Stewart\n",
       " Middle Name                             Marian\n",
       " Employee Type                    Support Staff\n",
       " Name: 4, dtype: object, (4, 0.2851865397543345))"
      ]
     },
     "execution_count": 52,
     "metadata": {},
     "output_type": "execute_result"
    }
   ],
   "source": [
    "topk[4]"
   ]
  },
  {
   "cell_type": "markdown",
   "metadata": {},
   "source": [
    "## Operations across hierarchy"
   ]
  },
  {
   "cell_type": "code",
   "execution_count": 34,
   "metadata": {
    "collapsed": true
   },
   "outputs": [],
   "source": [
    "def topk_similar(vec, composition_vectors):\n",
    "    distances = []\n",
    "    errors = 0\n",
    "    for key, value in composition_vectors.items():\n",
    "        try:\n",
    "            distance = cosine(vec, value)\n",
    "        except ValueError:\n",
    "            errors += 1\n",
    "            continue\n",
    "        distances.append((key, distance))\n",
    "    distances = sorted(distances, key=lambda x: x[1])\n",
    "    return distances, errors"
   ]
  },
  {
   "cell_type": "code",
   "execution_count": 109,
   "metadata": {
    "collapsed": true
   },
   "outputs": [],
   "source": [
    "entity = 'madden_samuel_r'\n",
    "vec = model.get_vector(entity)"
   ]
  },
  {
   "cell_type": "code",
   "execution_count": 110,
   "metadata": {
    "scrolled": true
   },
   "outputs": [
    {
     "name": "stdout",
     "output_type": "stream",
     "text": [
      "ERRORS: 2\n"
     ]
    }
   ],
   "source": [
    "distances, errors = topk_similar(vec, composition_vectors)\n",
    "print(\"ERRORS: \" + str(errors))"
   ]
  },
  {
   "cell_type": "code",
   "execution_count": 113,
   "metadata": {
    "scrolled": true
   },
   "outputs": [
    {
     "name": "stdout",
     "output_type": "stream",
     "text": [
      "('Employee_directory.csv.Directory Full Name', 0.67486948191596019)\n",
      "('Drupal_employee_directory.csv.Full Name', 0.67506362935953867)\n",
      "('Employee_directory.csv.Full Name Uppercase', 0.67520124740119769)\n",
      "('Employee_directory.csv.Full Name', 0.67520124740119769)\n",
      "('Se_person.csv.Full Name', 0.7062898513094884)\n",
      "('Hr_faculty_roster.csv.Endowed Chair', 0.73855610957255335)\n",
      "('Library_material_status.csv.Library Material Status', 0.75961084105141052)\n",
      "('Fclt_organization_hist.csv.Fclt Organization Hist Key', 0.76099739213383732)\n",
      "('Fclt_major_user_hist.csv.Fclt Major Use Hist Key', 0.76563099929479261)\n",
      "('Employee_directory.csv', 0.76570343434449251)\n"
     ]
    }
   ],
   "source": [
    "for i in range(10):\n",
    "    print(str(distances[i]))"
   ]
  },
  {
   "cell_type": "markdown",
   "metadata": {},
   "source": [
    "#### Check rows"
   ]
  },
  {
   "cell_type": "code",
   "execution_count": 114,
   "metadata": {
    "collapsed": true
   },
   "outputs": [],
   "source": [
    "distances = []\n",
    "for i in range(len(row_we)):\n",
    "    distance = cosine(vec, row_we[i])\n",
    "    distances.append((i, distance))\n",
    "distances = sorted(distances, key=lambda x: x[1])"
   ]
  },
  {
   "cell_type": "code",
   "execution_count": 115,
   "metadata": {
    "collapsed": true
   },
   "outputs": [],
   "source": [
    "k = 10\n",
    "topk = []\n",
    "for i in range(k):\n",
    "    idx = distances[i]\n",
    "    row = df.iloc[idx[0]]\n",
    "    topk.append((row, distances[i]))"
   ]
  },
  {
   "cell_type": "code",
   "execution_count": 116,
   "metadata": {},
   "outputs": [
    {
     "data": {
      "text/plain": [
       "(Mit Id                                           987515930\n",
       " Krb Name                                          SRMADDEN\n",
       " Full Name                                 Madden, Samuel R\n",
       " Payroll Rank                               Faculty Tenured\n",
       " Position Title                                   Professor\n",
       " Is Active                                                Y\n",
       " Office Location                                    32-G938\n",
       " Organization       Electrical Engineering-Computer Science\n",
       " First Name                                          Samuel\n",
       " Last Name                                           Madden\n",
       " Middle Name                                              R\n",
       " Employee Type                                      Faculty\n",
       " Name: 11549, dtype: object, (11549, 0.31959939999764442))"
      ]
     },
     "execution_count": 116,
     "metadata": {},
     "output_type": "execute_result"
    }
   ],
   "source": [
    "topk[0]"
   ]
  },
  {
   "cell_type": "code",
   "execution_count": 117,
   "metadata": {},
   "outputs": [
    {
     "data": {
      "text/plain": [
       "(Mit Id                   927168762\n",
       " Krb Name                    AREGEV\n",
       " Full Name              Regev, Aviv\n",
       " Payroll Rank       Faculty Tenured\n",
       " Position Title           Professor\n",
       " Is Active                        Y\n",
       " Office Location          NE30-6031\n",
       " Organization               Biology\n",
       " First Name                    Aviv\n",
       " Last Name                    Regev\n",
       " Middle Name                    NaN\n",
       " Employee Type              Faculty\n",
       " Name: 13576, dtype: object, (13576, 0.51660243460771871))"
      ]
     },
     "execution_count": 117,
     "metadata": {},
     "output_type": "execute_result"
    }
   ],
   "source": [
    "topk[1]"
   ]
  },
  {
   "cell_type": "code",
   "execution_count": 118,
   "metadata": {},
   "outputs": [
    {
     "data": {
      "text/plain": [
       "(Mit Id                                           900040158\n",
       " Krb Name                                            RONITT\n",
       " Full Name                                Rubinfeld, Ronitt\n",
       " Payroll Rank                               Faculty Tenured\n",
       " Position Title                                   Professor\n",
       " Is Active                                                Y\n",
       " Office Location                                    32-G698\n",
       " Organization       Electrical Engineering-Computer Science\n",
       " First Name                                          Ronitt\n",
       " Last Name                                        Rubinfeld\n",
       " Middle Name                                            NaN\n",
       " Employee Type                                      Faculty\n",
       " Name: 9512, dtype: object, (9512, 0.57402982752297649))"
      ]
     },
     "execution_count": 118,
     "metadata": {},
     "output_type": "execute_result"
    }
   ],
   "source": [
    "topk[2]"
   ]
  },
  {
   "cell_type": "code",
   "execution_count": 119,
   "metadata": {},
   "outputs": [
    {
     "data": {
      "text/plain": [
       "(Mit Id                              920366745\n",
       " Krb Name                                 SAXE\n",
       " Full Name                     Saxe, Rebecca R\n",
       " Payroll Rank                  Faculty Tenured\n",
       " Position Title                      Professor\n",
       " Is Active                                   Y\n",
       " Office Location                       46-4019\n",
       " Organization       Brain & Cognitive Sciences\n",
       " First Name                            Rebecca\n",
       " Last Name                                Saxe\n",
       " Middle Name                                 R\n",
       " Employee Type                         Faculty\n",
       " Name: 6391, dtype: object, (6391, 0.58098534316260131))"
      ]
     },
     "execution_count": 119,
     "metadata": {},
     "output_type": "execute_result"
    }
   ],
   "source": [
    "topk[3]"
   ]
  },
  {
   "cell_type": "markdown",
   "metadata": {
    "collapsed": true
   },
   "source": [
    "### Designing API"
   ]
  },
  {
   "cell_type": "code",
   "execution_count": 42,
   "metadata": {
    "collapsed": true
   },
   "outputs": [],
   "source": [
    "def concept_qa(entity, attribute, n=20):\n",
    "    #vec_entity = model.get_vector(entity)\n",
    "    indexes, metrics = model.cosine(entity, n=n)\n",
    "    res = model.generate_response(indexes, metrics).tolist()\n",
    "    vec_attribute = composition_vectors[attribute]\n",
    "    candidate_attribute_sim = []\n",
    "    for e, score in res:\n",
    "        vec_e = model.get_vector(e)\n",
    "        distance = cosine(vec_e, vec_attribute)\n",
    "        candidate_attribute_sim.append((e, distance))\n",
    "    candidate_attribute_sim = sorted(candidate_attribute_sim, key=lambda x: x[1])\n",
    "    return candidate_attribute_sim\n",
    "\n",
    "def entity_to_attribute(entity, n=20):\n",
    "    indexes, metrics = model.cosine(entity, n=n)\n",
    "    res = model.generate_response(indexes, metrics).tolist()\n",
    "    res_attr = []\n",
    "    for e, score in res:\n",
    "        vec_e = model.get_vector(e)\n",
    "        distances, errors = topk_similar(vec_e, composition_vectors)\n",
    "        res_attr.append((e, score, distances[:4]))\n",
    "    return res_attr"
   ]
  },
  {
   "cell_type": "code",
   "execution_count": 30,
   "metadata": {},
   "outputs": [
    {
     "data": {
      "text/plain": [
       "['Sis_admin_department.csv.Department Phone Number',\n",
       " 'Employee_directory.csv.Office Phone',\n",
       " 'Warehouse_users.csv.Office Phone',\n",
       " 'Sis_admin_department.csv.Department Phone Area Code',\n",
       " 'Mit_student_directory.csv.Office Phone',\n",
       " 'Drupal_employee_directory.csv.Office Phone']"
      ]
     },
     "execution_count": 30,
     "metadata": {},
     "output_type": "execute_result"
    }
   ],
   "source": [
    "# finding attributes\n",
    "attribute = 'phone'\n",
    "candidates = []\n",
    "for key in composition_vectors.keys():\n",
    "    if (key.lower()).find(attribute) != -1:\n",
    "        candidates.append(key)\n",
    "candidates"
   ]
  },
  {
   "cell_type": "code",
   "execution_count": 36,
   "metadata": {},
   "outputs": [
    {
     "data": {
      "text/plain": [
       "[('6172586643', 0.7849313486501621),\n",
       " ('srmadden', 0.761890896610126),\n",
       " ('madden@csail_mit_edu', 0.7302375712183606),\n",
       " ('32-g938', 0.6994234649772965),\n",
       " ('alleyne_valerie', 0.6096030452657748),\n",
       " ('regev_aviv', 0.6001141852343141),\n",
       " ('http://db_csail_mit_edu/madden', 0.5726818600046826),\n",
       " ('924559605', 0.5446807208673953),\n",
       " ('cadogan_karen_m', 0.5440192014598965),\n",
       " ('cadogan@ll_mit_edu', 0.538459665843975),\n",
       " ('saxe_rebecca_r', 0.5261379573217481),\n",
       " ('lynn_jennifer_j', 0.5234204003276526),\n",
       " ('987515930', 0.5216549568539472),\n",
       " ('valleyne', 0.5056586181521495),\n",
       " ('920145823', 0.49755006654659845),\n",
       " ('nhuch_michelle_r', 0.49333601582586056),\n",
       " ('santos_adèle_naudé', 0.4914655348305545),\n",
       " ('braida_louis_d', 0.4896523932603062),\n",
       " ('julich_perez_april', 0.4838387563134501),\n",
       " ('hanafin_nicole', 0.4807667923350942)]"
      ]
     },
     "execution_count": 36,
     "metadata": {},
     "output_type": "execute_result"
    }
   ],
   "source": [
    "indexes, metrics = model.cosine('madden_samuel_r', n=20)\n",
    "res = model.generate_response(indexes, metrics).tolist()\n",
    "res"
   ]
  },
  {
   "cell_type": "code",
   "execution_count": 43,
   "metadata": {},
   "outputs": [
    {
     "data": {
      "text/plain": [
       "[('6172586643',\n",
       "  0.7849313486501621,\n",
       "  [('Hr_faculty_roster.csv.Endowed Chair', 0.66050691902555725),\n",
       "   ('Employee_directory.csv.Email Address Uppercase', 0.70789657052496335),\n",
       "   ('Employee_directory.csv.Email Address', 0.70789657052496335),\n",
       "   ('Drupal_employee_directory.csv.Email Address', 0.70817566308491586)]),\n",
       " ('srmadden',\n",
       "  0.761890896610126,\n",
       "  [('Employee_directory.csv.Krb Name', 0.57197901273202312),\n",
       "   ('Employee_directory.csv.Krb Name Uppercase', 0.57197901273202312),\n",
       "   ('Person_auth_area.csv.User Name', 0.62726848217216447),\n",
       "   ('Employee_directory.csv.Email Address Uppercase', 0.63008359054053731)]),\n",
       " ('madden@csail_mit_edu',\n",
       "  0.7302375712183606,\n",
       "  [('Employee_directory.csv.Email Address Uppercase', 0.63465140246012186),\n",
       "   ('Employee_directory.csv.Email Address', 0.63465140246012186),\n",
       "   ('Drupal_employee_directory.csv.Email Address', 0.63508656041952327),\n",
       "   ('Hr_faculty_roster.csv.Endowed Chair', 0.6456518395636851)]),\n",
       " ('32-g938',\n",
       "  0.6994234649772965,\n",
       "  [('Employee_directory.csv.Office Location', 0.69974321450828103),\n",
       "   ('Drupal_employee_directory.csv.Office Location', 0.700053155804919),\n",
       "   ('Library_material_status.csv.Library Material Status',\n",
       "    0.77142862037379945),\n",
       "   ('Se_person.csv.Office Location', 0.77543261856461976)]),\n",
       " ('alleyne_valerie',\n",
       "  0.6096030452657748,\n",
       "  [('Drupal_employee_directory.csv.Full Name', 0.50388019257956285),\n",
       "   ('Employee_directory.csv.Full Name', 0.50434649348960825),\n",
       "   ('Employee_directory.csv.Full Name Uppercase', 0.50434649348960825),\n",
       "   ('Employee_directory.csv.Directory Full Name', 0.52098629956947295)]),\n",
       " ('regev_aviv',\n",
       "  0.6001141852343141,\n",
       "  [('Drupal_employee_directory.csv.Full Name', 0.59072064637612098),\n",
       "   ('Employee_directory.csv.Full Name', 0.59080518899949286),\n",
       "   ('Employee_directory.csv.Full Name Uppercase', 0.59080518899949286),\n",
       "   ('Employee_directory.csv.Directory Full Name', 0.59295122943760792)]),\n",
       " ('http://db_csail_mit_edu/madden',\n",
       "  0.5726818600046826,\n",
       "  [('Drupal_employee_directory.csv.Email Address', 0.60859599334938153),\n",
       "   ('Employee_directory.csv.Email Address Uppercase', 0.60895695522334736),\n",
       "   ('Employee_directory.csv.Email Address', 0.60895695522334736),\n",
       "   ('Hr_faculty_roster.csv.Endowed Chair', 0.63678500182988917)]),\n",
       " ('924559605',\n",
       "  0.5446807208673953,\n",
       "  [('Employee_directory.csv.Mit Id', 0.43584208719832429),\n",
       "   ('Drupal_employee_directory.csv.Mit Id', 0.43586791491758514),\n",
       "   ('Space_supervisor_usage.csv.Mit Id', 0.4592126630503669),\n",
       "   ('Se_person.csv.Mit Id', 0.46712910478755876)]),\n",
       " ('cadogan_karen_m',\n",
       "  0.5440192014598965,\n",
       "  [('Employee_directory.csv.Directory Full Name', 0.6750458459442602),\n",
       "   ('Employee_directory.csv.Full Name', 0.68615585777859134),\n",
       "   ('Employee_directory.csv.Full Name Uppercase', 0.68615585777859134),\n",
       "   ('Drupal_employee_directory.csv.Full Name', 0.6865535608714658)]),\n",
       " ('cadogan@ll_mit_edu',\n",
       "  0.538459665843975,\n",
       "  [('Employee_directory.csv.Email Address Uppercase', 0.58722184699676494),\n",
       "   ('Employee_directory.csv.Email Address', 0.58722184699676494),\n",
       "   ('Drupal_employee_directory.csv.Email Address', 0.5877487676223645),\n",
       "   ('Employee_directory.csv.Krb Name', 0.63590380760722576)]),\n",
       " ('saxe_rebecca_r',\n",
       "  0.5261379573217481,\n",
       "  [('Drupal_employee_directory.csv.Full Name', 0.61745809427476472),\n",
       "   ('Employee_directory.csv.Full Name', 0.61777017392826217),\n",
       "   ('Employee_directory.csv.Full Name Uppercase', 0.61777017392826217),\n",
       "   ('Employee_directory.csv.Directory Full Name', 0.6201650280462998)]),\n",
       " ('lynn_jennifer_j',\n",
       "  0.5234204003276526,\n",
       "  [('Drupal_employee_directory.csv.Full Name', 0.58527486710450094),\n",
       "   ('Employee_directory.csv.Full Name', 0.58537806316157548),\n",
       "   ('Employee_directory.csv.Full Name Uppercase', 0.58537806316157548),\n",
       "   ('Employee_directory.csv.Directory Full Name', 0.59272276497225695)]),\n",
       " ('987515930',\n",
       "  0.5216549568539472,\n",
       "  [('Hr_faculty_roster.csv.Mit Id', 0.44108249754881101),\n",
       "   ('Library_subject_offered.csv.Responsible Faculty Mit Id',\n",
       "    0.44334120097998309),\n",
       "   ('Space_supervisor_usage.csv.Mit Id', 0.47574715225120112),\n",
       "   ('short_tip_subject_offered.csv.Responsible Faculty Mit Id',\n",
       "    0.58543249379310969)]),\n",
       " ('valleyne',\n",
       "  0.5056586181521495,\n",
       "  [('Employee_directory.csv.Krb Name', 0.54155466400730379),\n",
       "   ('Employee_directory.csv.Krb Name Uppercase', 0.54155466400730379),\n",
       "   ('Se_person.csv.Krb Name', 0.5476124112095484),\n",
       "   ('Person_auth_area.csv.User Name', 0.57266092980313488)]),\n",
       " ('920145823',\n",
       "  0.49755006654659845,\n",
       "  [('Hr_faculty_roster.csv.Endowed Chair', 0.63963247625204767),\n",
       "   ('Warehouse_users.csv.Email Address', 0.71181459883139786),\n",
       "   ('Hr_faculty_roster.csv', 0.73080847956966466),\n",
       "   ('Hr_faculty_roster.csv.Mit Id', 0.7330785577610468)]),\n",
       " ('nhuch_michelle_r',\n",
       "  0.49333601582586056,\n",
       "  [('Employee_directory.csv.Full Name', 0.43780408143952465),\n",
       "   ('Employee_directory.csv.Full Name Uppercase', 0.43780408143952465),\n",
       "   ('Drupal_employee_directory.csv.Full Name', 0.4379736673189053),\n",
       "   ('Employee_directory.csv.Directory Full Name', 0.45084149749394997)]),\n",
       " ('santos_adèle_naudé',\n",
       "  0.4914655348305545,\n",
       "  [('Drupal_employee_directory.csv.Full Name', 0.61965699222866755),\n",
       "   ('Employee_directory.csv.Full Name', 0.61972933521499207),\n",
       "   ('Employee_directory.csv.Full Name Uppercase', 0.61972933521499207),\n",
       "   ('Hr_faculty_roster.csv.Endowed Chair', 0.62187005627581771)]),\n",
       " ('braida_louis_d',\n",
       "  0.4896523932603062,\n",
       "  [('Drupal_employee_directory.csv.Full Name', 0.60485935500162769),\n",
       "   ('Employee_directory.csv.Full Name', 0.6049275248264141),\n",
       "   ('Employee_directory.csv.Full Name Uppercase', 0.6049275248264141),\n",
       "   ('Employee_directory.csv.Directory Full Name', 0.61026973494947323)]),\n",
       " ('julich_perez_april',\n",
       "  0.4838387563134501,\n",
       "  [('Employee_directory.csv.Full Name', 0.53491955095906407),\n",
       "   ('Employee_directory.csv.Full Name Uppercase', 0.53491955095906407),\n",
       "   ('Drupal_employee_directory.csv.Full Name', 0.53495383326355694),\n",
       "   ('Employee_directory.csv.Directory Full Name', 0.53872898825265503)]),\n",
       " ('hanafin_nicole',\n",
       "  0.4807667923350942,\n",
       "  [('Employee_directory.csv.Directory Full Name', 0.61955045793099295),\n",
       "   ('Drupal_employee_directory.csv.Full Name', 0.61991227471012555),\n",
       "   ('Employee_directory.csv.Full Name', 0.61996513865032699),\n",
       "   ('Employee_directory.csv.Full Name Uppercase', 0.61996513865032699)])]"
      ]
     },
     "execution_count": 43,
     "metadata": {},
     "output_type": "execute_result"
    }
   ],
   "source": [
    "entity_to_attribute('madden_samuel_r', n=20)"
   ]
  },
  {
   "cell_type": "code",
   "execution_count": 48,
   "metadata": {},
   "outputs": [
    {
     "data": {
      "text/plain": [
       "[('srmadden', 0.57197901273202312),\n",
       " ('cadogan@ll_mit_edu', 0.63590380760722576),\n",
       " ('madden@csail_mit_edu', 0.65477149798365653),\n",
       " ('http://db_csail_mit_edu/madden', 0.67920530214335784),\n",
       " ('924559605', 0.70867021430271904),\n",
       " ('6172586643', 0.76185283156160677),\n",
       " ('alleyne_valerie', 0.78329192108562595),\n",
       " ('cadogan_karen_m', 0.81693550841877094),\n",
       " ('regev_aviv', 0.85707862488625808),\n",
       " ('32-g938', 0.90008351149239774)]"
      ]
     },
     "execution_count": 48,
     "metadata": {},
     "output_type": "execute_result"
    }
   ],
   "source": [
    "concept_qa('madden_samuel_r', 'Employee_directory.csv.Krb Name', n=10)"
   ]
  },
  {
   "cell_type": "markdown",
   "metadata": {
    "collapsed": true
   },
   "source": [
    "# DENOISER"
   ]
  },
  {
   "cell_type": "code",
   "execution_count": 2,
   "metadata": {},
   "outputs": [],
   "source": [
    "import word2vec\n",
    "import pickle\n",
    "we_model_path = \"/data/raulcf/relemb/mitdwh/bench_mitdwh/we_db2vec_75_ns50_fns20_i40.bin\"\n",
    "we = word2vec.load(we_model_path)\n",
    "relemb_path = \"/data/raulcf/relemb/mitdwh/bench_mitdwh/relemb_db2vec_75_ns50_fn20/row.pkl\"\n",
    "with open(relemb_path, \"rb\") as f:\n",
    "    relemb = pickle.load(f)"
   ]
  },
  {
   "cell_type": "code",
   "execution_count": 3,
   "metadata": {},
   "outputs": [],
   "source": [
    "from relational_embedder.api import Fabric\n",
    "from relational_embedder.data_prep import data_prep_utils as dpu\n",
    "api = Fabric(we, None, relemb, None, None)"
   ]
  },
  {
   "cell_type": "code",
   "execution_count": 5,
   "metadata": {},
   "outputs": [
    {
     "data": {
      "text/plain": [
       "[('987515930', 0.9128845427368912),\n",
       " ('13975', 0.9076621200518711),\n",
       " ('madden@csail_mit_edu', 0.8777760586477653),\n",
       " ('srmadden', 0.8770624134650294),\n",
       " ('32-g938', 0.8736097595243766),\n",
       " ('calomo', 0.8600310711556872),\n",
       " ('vanwinkle', 0.8525091899721615),\n",
       " ('jaakkola_tommi_s', 0.8521197450874609),\n",
       " ('megretski_alexandre', 0.8444329342503496),\n",
       " ('ameh_samuel', 0.8438668363395274)]"
      ]
     },
     "execution_count": 5,
     "metadata": {},
     "output_type": "execute_result"
    }
   ],
   "source": [
    "entity = \"madden_samuel_r\"\n",
    "ev = api.row_vector_for(entity)\n",
    "res = api.topk_related_entities(ev, k=10)\n",
    "res"
   ]
  },
  {
   "cell_type": "code",
   "execution_count": 6,
   "metadata": {},
   "outputs": [
    {
     "data": {
      "text/plain": [
       "[('987515930', 0.9128845427368912),\n",
       " ('13975', 0.9076621200518711),\n",
       " ('madden@csail_mit_edu', 0.8777760586477653),\n",
       " ('srmadden', 0.8770624134650294),\n",
       " ('32-g938', 0.8736097595243766),\n",
       " ('madden_samuel_r', 0.5),\n",
       " ('13975', 0.4),\n",
       " ('srmadden', 0.4),\n",
       " ('32-g938', 0.4),\n",
       " ('madden@csail_mit_edu', 0.4)]"
      ]
     },
     "execution_count": 6,
     "metadata": {},
     "output_type": "execute_result"
    }
   ],
   "source": [
    "entity = \"madden_samuel_r\"\n",
    "ev = api.row_vector_for(entity)\n",
    "res = api.topk_related_entities_conditional_denoising(ev, k=10)\n",
    "res"
   ]
  },
  {
   "cell_type": "code",
   "execution_count": 7,
   "metadata": {},
   "outputs": [
    {
     "data": {
      "text/plain": [
       "[('madden@csail_mit_edu', 0.97023240954564),\n",
       " ('srmadden', 0.9573691164066921),\n",
       " ('987515930', 0.9442821775896386),\n",
       " ('13975', 0.9387502287421707),\n",
       " ('madden_samuel_r', 0.8736097595243766),\n",
       " ('32-d610a', 0.8712829959239551),\n",
       " ('tommi@csail_mit_edu', 0.8588132244661102),\n",
       " ('32-g470', 0.8549681790949837),\n",
       " ('32-d624', 0.8496715818319918),\n",
       " ('26-453', 0.8357115969857967)]"
      ]
     },
     "execution_count": 7,
     "metadata": {},
     "output_type": "execute_result"
    }
   ],
   "source": [
    "entity = \"32-g938\"\n",
    "ev = api.row_vector_for(entity)\n",
    "res = api.topk_related_entities(ev, k=10)\n",
    "res"
   ]
  },
  {
   "cell_type": "code",
   "execution_count": 8,
   "metadata": {},
   "outputs": [
    {
     "data": {
      "text/plain": [
       "[('madden@csail_mit_edu', 0.97023240954564),\n",
       " ('srmadden', 0.9573691164066921),\n",
       " ('987515930', 0.9442821775896386),\n",
       " ('13975', 0.9387502287421707),\n",
       " ('madden_samuel_r', 0.8736097595243766),\n",
       " ('madden@csail_mit_edu', 0.6),\n",
       " ('32-g938', 0.5),\n",
       " ('32-g470', 0.4),\n",
       " ('srmadden', 0.4),\n",
       " ('987515930', 0.4)]"
      ]
     },
     "execution_count": 8,
     "metadata": {},
     "output_type": "execute_result"
    }
   ],
   "source": [
    "entity = \"32-g938\"\n",
    "ev = api.row_vector_for(entity)\n",
    "res = api.topk_related_entities_conditional_denoising(ev, k=10)\n",
    "res"
   ]
  },
  {
   "cell_type": "markdown",
   "metadata": {},
   "source": [
    "### debugging denoiser"
   ]
  },
  {
   "cell_type": "code",
   "execution_count": 31,
   "metadata": {},
   "outputs": [],
   "source": [
    "from collections import defaultdict\n",
    "import numpy as np\n",
    "def test(el, k=10):\n",
    "    res = api.topk_related_entities(el, k=k)\n",
    "    fixed_group = [e for e, _ in res[:5]]  # top 5 elements\n",
    "    print(\"Fixed Group: \" + str(fixed_group))\n",
    "    coh_set = defaultdict(int)\n",
    "    for e, score in res:\n",
    "        ev = api.M_R.get_vector(e)\n",
    "        if np.array_equal(el, ev):  # don't include the querying vector\n",
    "            continue\n",
    "        sres = api.topk_related_entities(ev, k=10)\n",
    "        for se, s_score in sres:\n",
    "            coh_set[se] += 1\n",
    "\n",
    "    coh_set = {key: (v / k) for key, v in coh_set.items()}\n",
    "\n",
    "    # filter fixed_group elements from coh_set\n",
    "    print(\"Original coh_set: \" + str(coh_set))\n",
    "    coh_set = {k: v for k, v in coh_set.items() if k not in fixed_group and not np.array_equal(el, api.M_R.get_vector(k))}\n",
    "    print(\"Filtered coh_set: \" + str(coh_set))\n",
    "\n",
    "    final_res = sorted(coh_set.items(), key=lambda x: x[1], reverse=True)\n",
    "\n",
    "    size_to_fill = 5  # fixed for now\n",
    "    candidate_replacements = len(coh_set)\n",
    "    if candidate_replacements >= size_to_fill:\n",
    "        total_replacements = 5\n",
    "    else:\n",
    "        total_replacements = size_to_fill - candidate_replacements\n",
    "    denoised_ranking = res[:5] + res[5:][:(5 - total_replacements)] + final_res[:total_replacements]\n",
    "\n",
    "    assert(len(denoised_ranking) == k)\n",
    "    return denoised_ranking"
   ]
  },
  {
   "cell_type": "code",
   "execution_count": 32,
   "metadata": {},
   "outputs": [
    {
     "name": "stdout",
     "output_type": "stream",
     "text": [
      "Fixed Group: ['madden@csail_mit_edu', 'srmadden', '987515930', '13975', 'madden_samuel_r']\n",
      "Original coh_set: {'32-g938': 0.5, '32-g470': 0.4, 'srmadden': 0.4, '987515930': 0.4, '32-d610a': 0.4, '13975': 0.4, '32-d624': 0.3, 'madden_samuel_r': 0.4, 'asuman@mit_edu': 0.4, 'tommi@csail_mit_edu': 0.3, 'madden@csail_mit_edu': 0.6, 'http://db_csail_mit_edu/madden': 0.3, '900047958': 0.4, 'jaakkola': 0.3, '6468': 0.4, '988099961': 0.3, '1174': 0.2, 'calomo': 0.1, 'vanwinkle': 0.1, 'jaakkola_tommi_s': 0.1, 'megretski_alexandre': 0.1, 'ameh_samuel': 0.1, '32-g744': 0.1, 'asuman': 0.1, '32g-840': 0.1, 'samana@mit_edu': 0.1, '32-g492': 0.2, '32-g768': 0.1, 'ameyer@mit_edu': 0.3, 'chan@mit_edu': 0.2, 'tlp@mit_edu': 0.1, 'dimitrib@mit_edu': 0.1, 'jaillet@mit_edu': 0.1, '32-251': 0.1, 'phw@mit_edu': 0.1, '26-339': 0.1, '32-d662': 0.1, 'penfield@mit_edu': 0.1, 'jaillet': 0.1, 'redwine@mit_edu': 0.1, 'redwine': 0.1, '6-411': 0.1, 'jaffe@mit_edu': 0.1, '11566': 0.1, '900022090': 0.1, 'chenm@mit_edu': 0.1, '37-695': 0.1, '6-311': 0.1, 'conrad@mit_edu': 0.1}\n",
      "Filtered coh_set: {'32-g470': 0.4, '32-d610a': 0.4, '32-d624': 0.3, 'asuman@mit_edu': 0.4, 'tommi@csail_mit_edu': 0.3, 'http://db_csail_mit_edu/madden': 0.3, '900047958': 0.4, 'jaakkola': 0.3, '6468': 0.4, '988099961': 0.3, '1174': 0.2, 'calomo': 0.1, 'vanwinkle': 0.1, 'jaakkola_tommi_s': 0.1, 'megretski_alexandre': 0.1, 'ameh_samuel': 0.1, '32-g744': 0.1, 'asuman': 0.1, '32g-840': 0.1, 'samana@mit_edu': 0.1, '32-g492': 0.2, '32-g768': 0.1, 'ameyer@mit_edu': 0.3, 'chan@mit_edu': 0.2, 'tlp@mit_edu': 0.1, 'dimitrib@mit_edu': 0.1, 'jaillet@mit_edu': 0.1, '32-251': 0.1, 'phw@mit_edu': 0.1, '26-339': 0.1, '32-d662': 0.1, 'penfield@mit_edu': 0.1, 'jaillet': 0.1, 'redwine@mit_edu': 0.1, 'redwine': 0.1, '6-411': 0.1, 'jaffe@mit_edu': 0.1, '11566': 0.1, '900022090': 0.1, 'chenm@mit_edu': 0.1, '37-695': 0.1, '6-311': 0.1, 'conrad@mit_edu': 0.1}\n"
     ]
    },
    {
     "data": {
      "text/plain": [
       "[('madden@csail_mit_edu', 0.97023240954564),\n",
       " ('srmadden', 0.9573691164066921),\n",
       " ('987515930', 0.9442821775896386),\n",
       " ('13975', 0.9387502287421707),\n",
       " ('madden_samuel_r', 0.8736097595243766),\n",
       " ('32-g470', 0.4),\n",
       " ('32-d610a', 0.4),\n",
       " ('asuman@mit_edu', 0.4),\n",
       " ('900047958', 0.4),\n",
       " ('6468', 0.4)]"
      ]
     },
     "execution_count": 32,
     "metadata": {},
     "output_type": "execute_result"
    }
   ],
   "source": [
    "entity = \"32-g938\"\n",
    "ev = api.row_vector_for(entity)\n",
    "res = test(ev, k=10)\n",
    "res"
   ]
  },
  {
   "cell_type": "code",
   "execution_count": 33,
   "metadata": {},
   "outputs": [
    {
     "name": "stdout",
     "output_type": "stream",
     "text": [
      "Fixed Group: ['987515930', '13975', 'madden@csail_mit_edu', 'srmadden', '32-g938']\n",
      "Original coh_set: {'13975': 0.4, 'srmadden': 0.4, '32-g938': 0.4, 'madden_samuel_r': 0.5, 'madden@csail_mit_edu': 0.4, 'http://db_csail_mit_edu/madden': 0.3, '900047958': 0.4, '988099961': 0.2, '6468': 0.4, '1174': 0.1, '987515930': 0.4, 'jaakkola': 0.2, '32-g470': 0.2, '32-d610a': 0.3, '32-d624': 0.2, 'asuman@mit_edu': 0.1, 'tommi@csail_mit_edu': 0.2, '26-453': 0.1, 'calomo_jr_samuel_p': 0.1, 'eubank': 0.1, 'gerke': 0.1, 'vanwinkle': 0.2, 'flanigan': 0.1, 'ameh_samuel': 0.1, 'stambler': 0.2, 'rey': 0.1, 'benitz': 0.1, 'perli': 0.1, 'vanwinkle_samuel_c': 0.1, 'whelan': 0.1, 'melot': 0.1, 'vento': 0.1, 'sullenberger': 0.1, 'varey': 0.1, 'milechin': 0.1, 'jordy': 0.1, 'baah': 0.1, 'ozdaglar_asuman_e': 0.1, 'mithal_arvind': 0.1, 'meyer_albert_r': 0.1, 'solar_lezama_armando': 0.1, 'slotine': 0.1, 'amarasinghe': 0.1, 'suri_tavneet': 0.1, 'megretski_alexandre': 0.1, 'megretski': 0.1, 'tsitsiklis': 0.1, 'jaakkola_tommi_s': 0.1, '900042025': 0.1, 'daskalakis_konstantinos': 0.1, 'akinwande_akintunde_i': 0.1, 'jegelka_stefanie_sabrina': 0.1, 'solon_alexandre': 0.1, 'braida': 0.1, 'willsky_alan_s': 0.1, 'sugarman': 0.1, '1510': 0.1, 'calomo': 0.1, 'ameh': 0.1, 'manole': 0.1, '928509189': 0.1, '2183295269': 0.1, 'bajpayee_ambika_goel': 0.1, 'pierson_samuel_z': 0.1}\n",
      "Filtered coh_set: {'http://db_csail_mit_edu/madden': 0.3, '900047958': 0.4, '988099961': 0.2, '6468': 0.4, '1174': 0.1, 'jaakkola': 0.2, '32-g470': 0.2, '32-d610a': 0.3, '32-d624': 0.2, 'asuman@mit_edu': 0.1, 'tommi@csail_mit_edu': 0.2, '26-453': 0.1, 'calomo_jr_samuel_p': 0.1, 'eubank': 0.1, 'gerke': 0.1, 'vanwinkle': 0.2, 'flanigan': 0.1, 'ameh_samuel': 0.1, 'stambler': 0.2, 'rey': 0.1, 'benitz': 0.1, 'perli': 0.1, 'vanwinkle_samuel_c': 0.1, 'whelan': 0.1, 'melot': 0.1, 'vento': 0.1, 'sullenberger': 0.1, 'varey': 0.1, 'milechin': 0.1, 'jordy': 0.1, 'baah': 0.1, 'ozdaglar_asuman_e': 0.1, 'mithal_arvind': 0.1, 'meyer_albert_r': 0.1, 'solar_lezama_armando': 0.1, 'slotine': 0.1, 'amarasinghe': 0.1, 'suri_tavneet': 0.1, 'megretski_alexandre': 0.1, 'megretski': 0.1, 'tsitsiklis': 0.1, 'jaakkola_tommi_s': 0.1, '900042025': 0.1, 'daskalakis_konstantinos': 0.1, 'akinwande_akintunde_i': 0.1, 'jegelka_stefanie_sabrina': 0.1, 'solon_alexandre': 0.1, 'braida': 0.1, 'willsky_alan_s': 0.1, 'sugarman': 0.1, '1510': 0.1, 'calomo': 0.1, 'ameh': 0.1, 'manole': 0.1, '928509189': 0.1, '2183295269': 0.1, 'bajpayee_ambika_goel': 0.1, 'pierson_samuel_z': 0.1}\n"
     ]
    },
    {
     "data": {
      "text/plain": [
       "[('987515930', 0.9128845427368912),\n",
       " ('13975', 0.9076621200518711),\n",
       " ('madden@csail_mit_edu', 0.8777760586477653),\n",
       " ('srmadden', 0.8770624134650294),\n",
       " ('32-g938', 0.8736097595243766),\n",
       " ('900047958', 0.4),\n",
       " ('6468', 0.4),\n",
       " ('http://db_csail_mit_edu/madden', 0.3),\n",
       " ('32-d610a', 0.3),\n",
       " ('988099961', 0.2)]"
      ]
     },
     "execution_count": 33,
     "metadata": {},
     "output_type": "execute_result"
    }
   ],
   "source": [
    "entity = \"madden_samuel_r\"\n",
    "ev = api.row_vector_for(entity)\n",
    "res = test(ev, k=10)\n",
    "res"
   ]
  },
  {
   "cell_type": "code",
   "execution_count": null,
   "metadata": {},
   "outputs": [],
   "source": []
  }
 ],
 "metadata": {
  "kernelspec": {
   "display_name": "Python 3",
   "language": "python",
   "name": "python3"
  },
  "language_info": {
   "codemirror_mode": {
    "name": "ipython",
    "version": 3
   },
   "file_extension": ".py",
   "mimetype": "text/x-python",
   "name": "python",
   "nbconvert_exporter": "python",
   "pygments_lexer": "ipython3",
   "version": "3.6.2"
  }
 },
 "nbformat": 4,
 "nbformat_minor": 2
}
