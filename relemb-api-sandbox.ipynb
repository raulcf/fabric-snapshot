{
 "cells": [
  {
   "cell_type": "markdown",
   "metadata": {},
   "source": [
    "## Relational Embedding"
   ]
  },
  {
   "cell_type": "code",
   "execution_count": 1,
   "metadata": {
    "collapsed": true
   },
   "outputs": [],
   "source": [
    "%load_ext autoreload\n",
    "%autoreload 2"
   ]
  },
  {
   "cell_type": "code",
   "execution_count": 18,
   "metadata": {
    "collapsed": true
   },
   "outputs": [],
   "source": [
    "from data_prep import data_prep_utils as dpu"
   ]
  },
  {
   "cell_type": "code",
   "execution_count": 2,
   "metadata": {
    "scrolled": false
   },
   "outputs": [
    {
     "name": "stdout",
     "output_type": "stream",
     "text": [
      "Time to load WE model: 20.23278307914734\n",
      "Time to build relemb: 9.218297481536865\n"
     ]
    }
   ],
   "source": [
    "from relational_embedder import api\n",
    "from relational_embedder.api import SIMF\n",
    "path_to_we_model = \"/home/ubuntu/word2vec_c/data/mitdwhdata.bin\"\n",
    "path_to_relations = \"/data/datasets/mitdwh/\"\n",
    "#api = api.init(path_to_we_model, path_to_relations)\n",
    "api = api.load(path_to_we_model=path_to_we_model, path_to_relemb=\"./mitdwhdata_relemb.pkl\", path_to_relations=path_to_relations)"
   ]
  },
  {
   "cell_type": "code",
   "execution_count": 3,
   "metadata": {
    "collapsed": true
   },
   "outputs": [],
   "source": [
    "# No need to run every time\n",
    "#api.serialize_relemb(\"mitdwhdata_relemb.pkl\")"
   ]
  },
  {
   "cell_type": "code",
   "execution_count": 4,
   "metadata": {},
   "outputs": [
    {
     "data": {
      "text/plain": [
       "0.9285714285714286"
      ]
     },
     "execution_count": 4,
     "metadata": {},
     "output_type": "execute_result"
    }
   ],
   "source": [
    "from difflib import SequenceMatcher\n",
    "SequenceMatcher(None, 'Samuel Madden', 'Samuel R Madden').ratio()"
   ]
  },
  {
   "cell_type": "code",
   "execution_count": 5,
   "metadata": {
    "scrolled": true
   },
   "outputs": [
    {
     "data": {
      "text/plain": [
       "[('database_systems', 0.7129748374230221),\n",
       " ('987515930', 0.6418825928846148),\n",
       " ('wu_bae-ian', 0.5728637112372508),\n",
       " ('madden_sam', 0.5505077032891253),\n",
       " ('6_830-madden2012sp:6_830', 0.5404241997345065),\n",
       " ('horn_berthold', 0.5310294368152235),\n",
       " ('6_830-fa142015fa:6_830', 0.5305813258991026),\n",
       " ('triantafyllou_michael', 0.5089553327786763),\n",
       " ('6_830-sp132013sp:6_830', 0.5017513928235873),\n",
       " ('hoyt_j', 0.4946458809456491),\n",
       " ('hagelstein_peter', 0.4904404832965847),\n",
       " ('leeb_steven', 0.48415991636954103),\n",
       " ('6_814-sp132013sp:6_814', 0.48036493671816505),\n",
       " ('6_814-fa142015fa:6_814', 0.4780627981044703),\n",
       " ('karger_david', 0.46838331664363614),\n",
       " ('orlando_terry', 0.4678678834459739),\n",
       " ('aaronson_scott', 0.4633199394003473),\n",
       " ('6_830-madden2010fa:6_830', 0.4618394999156519),\n",
       " ('6_840-fa142015fa:6_840', 0.4607145107102808),\n",
       " ('ram_rajeev', 0.46044810359906163)]"
      ]
     },
     "execution_count": 5,
     "metadata": {},
     "output_type": "execute_result"
    }
   ],
   "source": [
    "topk = api.topk_similar_vectors('Madden Samuel', k=20)\n",
    "topk"
   ]
  },
  {
   "cell_type": "code",
   "execution_count": 6,
   "metadata": {},
   "outputs": [
    {
     "data": {
      "text/plain": [
       "[('database_systems', 0.24233881571862992),\n",
       " ('987515930', 0.15369338857426773),\n",
       " ('wu_bae-ian', 0.07573126679797126),\n",
       " ('madden_sam', 0.0518519446297222),\n",
       " ('6_830-madden2012sp:6_830', 0.04127597475975742),\n",
       " ('horn_berthold', 0.03152631937939554),\n",
       " ('6_830-fa142015fa:6_830', 0.03106373849064148),\n",
       " ('triantafyllou_michael', 0.008995808753958112),\n",
       " ('6_830-sp132013sp:6_830', 0.0017528920682097215),\n",
       " ('hoyt_j', -0.005339910261132452),\n",
       " ('hagelstein_peter', -0.009514236230763418),\n",
       " ('leeb_steven', -0.01571654072645856),\n",
       " ('6_814-sp132013sp:6_814', -0.019446027407990618),\n",
       " ('6_814-fa142015fa:6_814', -0.021701738894042588),\n",
       " ('karger_david', -0.031132061019172763),\n",
       " ('orlando_terry', -0.03163186466972512),\n",
       " ('aaronson_scott', -0.03603093948061531),\n",
       " ('6_830-madden2010fa:6_830', -0.03745892374626969),\n",
       " ('6_840-fa142015fa:6_840', -0.038542739368728096),\n",
       " ('ram_rajeev', -0.03879925252548766)]"
      ]
     },
     "execution_count": 6,
     "metadata": {},
     "output_type": "execute_result"
    }
   ],
   "source": [
    "topk = api.topk_similar_vectors('Madden Samuel', k=20, simf=SIMF.EUCLIDEAN)\n",
    "topk"
   ]
  },
  {
   "cell_type": "code",
   "execution_count": 7,
   "metadata": {},
   "outputs": [
    {
     "data": {
      "text/plain": [
       "0.35145007656463223"
      ]
     },
     "execution_count": 7,
     "metadata": {},
     "output_type": "execute_result"
    }
   ],
   "source": [
    "sim = api.similarity_between('Madden Samuel', 'Madden Samuel R')\n",
    "sim"
   ]
  },
  {
   "cell_type": "code",
   "execution_count": null,
   "metadata": {
    "collapsed": true
   },
   "outputs": [],
   "source": [
    "sim = api.similarity_between('Madden Samuel', 'Madden Samuel R', simf=SIMF.EUCLIDEAN)\n",
    "sim"
   ]
  },
  {
   "cell_type": "code",
   "execution_count": null,
   "metadata": {
    "collapsed": true
   },
   "outputs": [],
   "source": [
    "# observe what happens when i introduce the id\n",
    "res = api.topk_similar_vectors('987515930', k=10)\n",
    "res"
   ]
  },
  {
   "cell_type": "code",
   "execution_count": 3,
   "metadata": {},
   "outputs": [
    {
     "data": {
      "text/plain": [
       "[('Library_course_instructor.csv', 0.31857842436426309),\n",
       " ('Library_subject_offered.csv', 0.29435321245169943),\n",
       " ('short_tip_subject_offered.csv', 0.21326874738936374),\n",
       " ('subject_grouping_slice.csv', 0.19247622907613238),\n",
       " ('Sdo_crs_geocentric.csv', 0.17958230616778792)]"
      ]
     },
     "execution_count": 3,
     "metadata": {},
     "output_type": "execute_result"
    }
   ],
   "source": [
    "vec = api.vector_for_entity('Madden Samuel')\n",
    "topk = api.topk_relations(vec, k=5)\n",
    "topk"
   ]
  },
  {
   "cell_type": "code",
   "execution_count": null,
   "metadata": {
    "collapsed": true
   },
   "outputs": [],
   "source": [
    "vec = api.vector_for_entity('Madden Samuel')\n",
    "topk = api.topk_relations(vec, k=5, simf=SIMF.EUCLIDEAN)\n",
    "topk"
   ]
  },
  {
   "cell_type": "code",
   "execution_count": 4,
   "metadata": {
    "scrolled": true
   },
   "outputs": [
    {
     "data": {
      "text/plain": [
       "[('Responsible Faculty Name',\n",
       "  'Library_subject_offered.csv',\n",
       "  0.51682458110745444),\n",
       " ('Instructor Name', 'Library_course_instructor.csv', 0.49618804988337362),\n",
       " ('Responsible Faculty Name',\n",
       "  'short_tip_subject_offered.csv',\n",
       "  0.40848544492362526),\n",
       " ('Warehouse Load Date', 'Library_subject_offered.csv', 0.30135651219604664),\n",
       " ('Library Subject Offered Key',\n",
       "  'Library_subject_offered.csv',\n",
       "  0.2899308980751516),\n",
       " ('Unit', 'Library_course_instructor.csv', 0.28937397272639598)]"
      ]
     },
     "execution_count": 4,
     "metadata": {},
     "output_type": "execute_result"
    }
   ],
   "source": [
    "vec = api.vector_for_entity('Madden Samuel')\n",
    "topk = api.topk_columns(vec, k=6)\n",
    "topk"
   ]
  },
  {
   "cell_type": "code",
   "execution_count": null,
   "metadata": {
    "collapsed": true
   },
   "outputs": [],
   "source": [
    "vec = api.vector_for_entity('Madden Samuel')\n",
    "topk = api.topk_columns(vec, k=6, simf=SIMF.EUCLIDEAN)\n",
    "topk"
   ]
  },
  {
   "cell_type": "code",
   "execution_count": null,
   "metadata": {
    "collapsed": true
   },
   "outputs": [],
   "source": [
    "vec = api.vector_for_entity('Madden Samuel')\n",
    "topk = api.topk_rows(vec, k=5)\n",
    "topk"
   ]
  },
  {
   "cell_type": "code",
   "execution_count": 5,
   "metadata": {
    "scrolled": true
   },
   "outputs": [
    {
     "data": {
      "text/plain": [
       "[('katabi_dina', 0.2620763345752194),\n",
       " ('6173246027', 0.24025065821678065),\n",
       " ('dina@csail_mit_edu', 0.23896212073782416),\n",
       " ('wenger_rich', 0.21775141487554264),\n",
       " ('dinaktbi', 0.1936179557694433),\n",
       " ('951111241', 0.18444792210514846),\n",
       " ('pribble_daniel', 0.18236975950919623),\n",
       " ('wenger_richard', 0.1822369772140558),\n",
       " ('vuletic@mit_edu', 0.18132656363077188),\n",
       " ('essigmann_ellen_m', 0.18048992697689886)]"
      ]
     },
     "execution_count": 5,
     "metadata": {},
     "output_type": "execute_result"
    }
   ],
   "source": [
    "res = api.analogy('madden_samuel_r', '32-g936', '32-g938')\n",
    "res"
   ]
  },
  {
   "cell_type": "code",
   "execution_count": null,
   "metadata": {
    "collapsed": true
   },
   "outputs": [],
   "source": [
    "topk = api.topk_similar_vectors('madden_samuel_r', k=10)\n",
    "topk"
   ]
  },
  {
   "cell_type": "code",
   "execution_count": 17,
   "metadata": {},
   "outputs": [
    {
     "data": {
      "text/plain": [
       "[('srmadden', 0.36991640945946269),\n",
       " ('madden@csail_mit_edu', 0.36534859753987814),\n",
       " ('alleyne_valerie', 0.32889755339959925),\n",
       " ('6172586643', 0.29210342947503665),\n",
       " ('32-g938', 0.11589346222712127)]"
      ]
     },
     "execution_count": 17,
     "metadata": {},
     "output_type": "execute_result"
    }
   ],
   "source": [
    "res = api.concept_qa('madden_samuel_r', 'Employee_directory.csv', 'Email Address', n=5)\n",
    "res"
   ]
  },
  {
   "cell_type": "code",
   "execution_count": 29,
   "metadata": {},
   "outputs": [
    {
     "data": {
      "text/plain": [
       "[('6172586643', 0.7849313486501621),\n",
       " ('srmadden', 0.761890896610126),\n",
       " ('madden@csail_mit_edu', 0.7302375712183606),\n",
       " ('32-g938', 0.6994234649772965),\n",
       " ('alleyne_valerie', 0.6096030452657748),\n",
       " ('regev_aviv', 0.6001141852343141)]"
      ]
     },
     "execution_count": 29,
     "metadata": {},
     "output_type": "execute_result"
    }
   ],
   "source": [
    "v = dpu.encode_cell('madden_samuel_r')\n",
    "indexes, metrics = api.M.cosine(v, n=6)\n",
    "res = api.M.generate_response(indexes, metrics).tolist()\n",
    "res"
   ]
  },
  {
   "cell_type": "code",
   "execution_count": 16,
   "metadata": {},
   "outputs": [
    {
     "data": {
      "text/plain": [
       "[('srmadden', 0.07083176676093494),\n",
       " ('madden@csail_mit_edu', 0.06908298639085786),\n",
       " ('6172586643', 0.041476649665724064)]"
      ]
     },
     "execution_count": 16,
     "metadata": {},
     "output_type": "execute_result"
    }
   ],
   "source": [
    "res = api.concept_qa('madden_samuel_r', 'Employee_directory.csv', 'Email Address', n=3, simf=SIMF.EUCLIDEAN)\n",
    "res"
   ]
  },
  {
   "cell_type": "code",
   "execution_count": null,
   "metadata": {
    "collapsed": true
   },
   "outputs": [],
   "source": []
  },
  {
   "cell_type": "code",
   "execution_count": 12,
   "metadata": {},
   "outputs": [
    {
     "data": {
      "text/plain": [
       "[('madden@csail_mit_edu', 0.36534859753987814)]"
      ]
     },
     "execution_count": 12,
     "metadata": {},
     "output_type": "execute_result"
    }
   ],
   "source": [
    "res = api.concept_qa_denoising('madden_samuel_r', 'Employee_directory.csv', 'Email Address', denoise_heuristic=2, n=5)\n",
    "res"
   ]
  },
  {
   "cell_type": "code",
   "execution_count": null,
   "metadata": {
    "collapsed": true
   },
   "outputs": [],
   "source": [
    "res = api.concept_qa_denoising('madden_samuel_r', 'Employee_directory.csv', 'Email Address', denoise_heuristic=1, n=5, simf=SIMF.EUCLIDEAN)\n",
    "res"
   ]
  },
  {
   "cell_type": "code",
   "execution_count": null,
   "metadata": {
    "collapsed": true,
    "scrolled": true
   },
   "outputs": [],
   "source": [
    "res = api.concept_qa('968548423', 'Employee_directory.csv', 'Office Phone', n=10)\n",
    "res"
   ]
  },
  {
   "cell_type": "code",
   "execution_count": null,
   "metadata": {
    "collapsed": true
   },
   "outputs": [],
   "source": [
    "res = api.concept_qa_denoising('968548423', 'Employee_directory.csv', 'Office Phone', n=10)\n",
    "res"
   ]
  },
  {
   "cell_type": "code",
   "execution_count": null,
   "metadata": {
    "collapsed": true
   },
   "outputs": [],
   "source": [
    "res = api.concept_qa('kimball@mit.edu', 'Employee_directory.csv', 'Office Phone', n=5)\n",
    "res"
   ]
  },
  {
   "cell_type": "code",
   "execution_count": null,
   "metadata": {
    "collapsed": true
   },
   "outputs": [],
   "source": [
    "res = api.concept_qa_denoising('kimball@mit.edu', 'Employee_directory.csv', 'Office Phone', n=5)\n",
    "res"
   ]
  },
  {
   "cell_type": "markdown",
   "metadata": {},
   "source": [
    "### Exploring row-vec relation"
   ]
  },
  {
   "cell_type": "markdown",
   "metadata": {},
   "source": [
    "**Mit Id, Last Name, First Name, Middle Name, Full Name, Office Location, Office Phone, Department Number, Department Name, Krb Name, Email Address, Personal Url**\n",
    "\n",
    "*968548423, Kimball, Richard, W, Kimball,Richard W, 3-269, 6172539707, 65000 Dep. of Mechanical Engineering, kimball, kimball@mit.edu, (no url)*"
   ]
  },
  {
   "cell_type": "code",
   "execution_count": 10,
   "metadata": {
    "scrolled": true
   },
   "outputs": [
    {
     "data": {
      "text/plain": [
       "[('kimball_richard_w', 0.7250186764589754),\n",
       " ('6172539707', 0.5780908019186728),\n",
       " ('kimball', 0.5483184600358931),\n",
       " ('900052036', 0.5410229672339416),\n",
       " ('927045585', 0.5023900343660699),\n",
       " ('mclellan_kevin_d', 0.4971343695070636),\n",
       " ('3249637', 0.4955477420282758),\n",
       " ('3-269', 0.4931682849509945),\n",
       " ('928343794', 0.4908435492602725),\n",
       " ('900000389', 0.4618639603517394)]"
      ]
     },
     "execution_count": 10,
     "metadata": {},
     "output_type": "execute_result"
    }
   ],
   "source": [
    "res = api.topk_similar_vectors('968548423', k=10)\n",
    "res"
   ]
  },
  {
   "cell_type": "code",
   "execution_count": 11,
   "metadata": {
    "scrolled": false
   },
   "outputs": [
    {
     "data": {
      "text/plain": [
       "[('6172539707', 0.8129460395552874),\n",
       " ('968548423', 0.7250186764589754),\n",
       " ('kimball@mit_edu', 0.6074067685862561),\n",
       " ('3-269', 0.5736798852265613),\n",
       " ('mclellan_kevin_d', 0.5370343938901745),\n",
       " ('wilson_richard_w', 0.5321758314061601),\n",
       " ('kimball', 0.5068739904779622),\n",
       " ('garston_matthew_j', 0.4951196386309573),\n",
       " ('cuoco_richard_b', 0.49485903148742794),\n",
       " ('sullivan_richard_w', 0.4876790479092047)]"
      ]
     },
     "execution_count": 11,
     "metadata": {},
     "output_type": "execute_result"
    }
   ],
   "source": [
    "res = api.topk_similar_vectors('kimball_richard_w', k=10)\n",
    "res"
   ]
  },
  {
   "cell_type": "code",
   "execution_count": 12,
   "metadata": {},
   "outputs": [
    {
     "data": {
      "text/plain": [
       "[('kimball_richard_w', 0.8129460395552874),\n",
       " ('kimball@mit_edu', 0.7417044210216517),\n",
       " ('3-269', 0.5979994035741272),\n",
       " ('968548423', 0.5780908019186728),\n",
       " ('7819812663', 0.5600628548305208),\n",
       " ('6172580890', 0.5296960890276429),\n",
       " ('900000389', 0.5104179256447315),\n",
       " ('mduplessie@5-wits_com', 0.5075537125394329),\n",
       " ('6172521812', 0.4788894196608602),\n",
       " ('podoloff@mit_edu', 0.4787316627722139)]"
      ]
     },
     "execution_count": 12,
     "metadata": {},
     "output_type": "execute_result"
    }
   ],
   "source": [
    "res = api.topk_similar_vectors('6172539707', k=10)\n",
    "res"
   ]
  },
  {
   "cell_type": "code",
   "execution_count": null,
   "metadata": {
    "collapsed": true,
    "scrolled": true
   },
   "outputs": [],
   "source": [
    "res = api.topk_similar_vectors('kimball', k=10)\n",
    "res"
   ]
  },
  {
   "cell_type": "code",
   "execution_count": null,
   "metadata": {
    "collapsed": true
   },
   "outputs": [],
   "source": [
    "res = api.topk_similar_vectors('3-269', k=10)\n",
    "res"
   ]
  },
  {
   "cell_type": "code",
   "execution_count": null,
   "metadata": {
    "collapsed": true
   },
   "outputs": [],
   "source": [
    "res = api.topk_similar_vectors('richard', k=10)\n",
    "res"
   ]
  },
  {
   "cell_type": "code",
   "execution_count": null,
   "metadata": {
    "collapsed": true,
    "scrolled": true
   },
   "outputs": [],
   "source": [
    "res = api.topk_similar_vectors('w', k=10)\n",
    "res"
   ]
  },
  {
   "cell_type": "code",
   "execution_count": null,
   "metadata": {
    "collapsed": true
   },
   "outputs": [],
   "source": [
    "from data_prep import data_prep_utils as dpu\n",
    "e = dpu.encode_cell(\"Department of Mechanical Engineering\")\n",
    "res = api.topk_similar_vectors(e, k=10)\n",
    "res"
   ]
  },
  {
   "cell_type": "code",
   "execution_count": null,
   "metadata": {
    "collapsed": true
   },
   "outputs": [],
   "source": [
    "e"
   ]
  },
  {
   "cell_type": "code",
   "execution_count": null,
   "metadata": {
    "collapsed": true
   },
   "outputs": [],
   "source": [
    "api.similarity_between('kimball_richard_w', 'david_h_koch_institute_for_integrative_cancer_res')"
   ]
  },
  {
   "cell_type": "code",
   "execution_count": null,
   "metadata": {
    "collapsed": true
   },
   "outputs": [],
   "source": []
  },
  {
   "cell_type": "code",
   "execution_count": null,
   "metadata": {
    "collapsed": true
   },
   "outputs": [],
   "source": [
    "topk = api.topk_columns(api.vector_for_entity('6172539707'), k=5)\n",
    "topk"
   ]
  },
  {
   "cell_type": "code",
   "execution_count": null,
   "metadata": {
    "collapsed": true
   },
   "outputs": [],
   "source": [
    "topk = api.topk_columns(api.vector_for_entity('kimball@mit.edu'), k=5)\n",
    "topk"
   ]
  },
  {
   "cell_type": "code",
   "execution_count": null,
   "metadata": {
    "collapsed": true
   },
   "outputs": [],
   "source": [
    "res = api.concept_expansion('kimball@mit.edu', 'Employee_directory.csv', 'Email Address', k=5)\n",
    "res"
   ]
  },
  {
   "cell_type": "code",
   "execution_count": null,
   "metadata": {
    "collapsed": true
   },
   "outputs": [],
   "source": []
  },
  {
   "cell_type": "code",
   "execution_count": null,
   "metadata": {
    "collapsed": true
   },
   "outputs": [],
   "source": []
  },
  {
   "cell_type": "code",
   "execution_count": null,
   "metadata": {
    "collapsed": true
   },
   "outputs": [],
   "source": []
  },
  {
   "cell_type": "code",
   "execution_count": null,
   "metadata": {
    "collapsed": true
   },
   "outputs": [],
   "source": []
  },
  {
   "cell_type": "code",
   "execution_count": null,
   "metadata": {
    "collapsed": true
   },
   "outputs": [],
   "source": []
  },
  {
   "cell_type": "code",
   "execution_count": null,
   "metadata": {
    "collapsed": true
   },
   "outputs": [],
   "source": []
  },
  {
   "cell_type": "code",
   "execution_count": null,
   "metadata": {
    "collapsed": true
   },
   "outputs": [],
   "source": []
  },
  {
   "cell_type": "code",
   "execution_count": 11,
   "metadata": {
    "collapsed": true
   },
   "outputs": [],
   "source": [
    "import word2vec\n",
    "import itertools\n",
    "import numpy as np\n",
    "from relational_embedder import composition\n",
    "from data_prep import data_prep_utils as dpu\n",
    "from scipy.spatial.distance import cosine\n",
    "import pandas as pd"
   ]
  },
  {
   "cell_type": "code",
   "execution_count": null,
   "metadata": {
    "collapsed": true
   },
   "outputs": [],
   "source": [
    "# Loading binary vectors\n",
    "model = word2vec.load(\"/home/ubuntu/word2vec_c/data/mitdwhdata.bin\")"
   ]
  },
  {
   "cell_type": "code",
   "execution_count": null,
   "metadata": {
    "collapsed": true,
    "scrolled": true
   },
   "outputs": [],
   "source": [
    "indexes, metrics = model.cosine('madden_samuel_r', n=20)\n",
    "res = model.generate_response(indexes, metrics).tolist()\n",
    "res"
   ]
  },
  {
   "cell_type": "code",
   "execution_count": null,
   "metadata": {
    "collapsed": true,
    "scrolled": true
   },
   "outputs": [],
   "source": [
    "indexes, metrics = model.cosine('32-g938', n=20)\n",
    "res = model.generate_response(indexes, metrics).tolist()\n",
    "res"
   ]
  },
  {
   "cell_type": "markdown",
   "metadata": {},
   "source": [
    "#### Basic Analogies"
   ]
  },
  {
   "cell_type": "code",
   "execution_count": null,
   "metadata": {
    "collapsed": true
   },
   "outputs": [],
   "source": [
    "indexes, metrics = model.analogy(pos=['madden_samuel_r', '32-g936'], neg=['32-g938'], n=10)"
   ]
  },
  {
   "cell_type": "code",
   "execution_count": null,
   "metadata": {
    "collapsed": true,
    "scrolled": true
   },
   "outputs": [],
   "source": [
    "res = model.generate_response(indexes, metrics).tolist()\n",
    "res"
   ]
  },
  {
   "cell_type": "markdown",
   "metadata": {},
   "source": [
    "#### Analogies across Relations"
   ]
  },
  {
   "cell_type": "code",
   "execution_count": null,
   "metadata": {
    "collapsed": true
   },
   "outputs": [],
   "source": [
    "indexes, metrics = model.analogy(pos=['gallop_sarah_e', '10-219'], neg=['11-245'], n=10)\n",
    "res = model.generate_response(indexes, metrics).tolist()\n",
    "res"
   ]
  },
  {
   "cell_type": "markdown",
   "metadata": {
    "collapsed": true
   },
   "source": [
    "## Baseline composition: Columns and Relations"
   ]
  },
  {
   "cell_type": "code",
   "execution_count": null,
   "metadata": {
    "collapsed": true
   },
   "outputs": [],
   "source": [
    "# Files\n",
    "import os\n",
    "path = \"/data/datasets/mitdwh/\"\n",
    "all_relations = [relation for relation in os.listdir(path)]"
   ]
  },
  {
   "cell_type": "code",
   "execution_count": null,
   "metadata": {
    "collapsed": true
   },
   "outputs": [],
   "source": [
    "composition_vectors = dict()"
   ]
  },
  {
   "cell_type": "code",
   "execution_count": null,
   "metadata": {
    "collapsed": true,
    "scrolled": true
   },
   "outputs": [],
   "source": [
    "for relation in all_relations:\n",
    "    print(\"Computing vectors for: \" + str(relation))\n",
    "    col_we, missing_words = composition.column_avg_composition(path + \"/\" + relation, model)\n",
    "    rel_we = composition.relation_column_composition(col_we)\n",
    "    composition_vectors[relation] = rel_we\n",
    "    for k, v in col_we.items():\n",
    "        composition_vectors[relation +\".\" + k] = col_we[k]\n",
    "print(\"Done!\")\n",
    "print(\"Total vectors: \" + str(len(composition_vectors.items())))"
   ]
  },
  {
   "cell_type": "code",
   "execution_count": null,
   "metadata": {
    "collapsed": true
   },
   "outputs": [],
   "source": [
    "# SERIALIZE\n",
    "import pickle\n",
    "path = \"./temp/composition_vectors.pkl\"\n",
    "with open(path, 'wb') as f:\n",
    "    pickle.dump(composition_vectors, f)"
   ]
  },
  {
   "cell_type": "code",
   "execution_count": null,
   "metadata": {
    "collapsed": true
   },
   "outputs": [],
   "source": [
    "# DESERIALIZE\n",
    "import pickle\n",
    "path = \"./temp/composition_vectors.pkl\"\n",
    "with open(path, 'rb') as f:\n",
    "    composition_vectors = pickle.load(f)"
   ]
  },
  {
   "cell_type": "code",
   "execution_count": null,
   "metadata": {
    "collapsed": true
   },
   "outputs": [],
   "source": [
    "def similar_to(table, column=None, threshold=0.2):\n",
    "    similar_items = []\n",
    "    if column is None:\n",
    "        key = table\n",
    "    else:\n",
    "        key = table + \".\" + column\n",
    "    for k, we in composition_vectors.items():\n",
    "        distance = 0\n",
    "        try:\n",
    "            distance = cosine(composition_vectors[key], composition_vectors[k])\n",
    "        except ValueError:\n",
    "            continue\n",
    "        if distance < threshold:\n",
    "            similar_items.append(k)\n",
    "    return similar_items"
   ]
  },
  {
   "cell_type": "code",
   "execution_count": null,
   "metadata": {
    "collapsed": true
   },
   "outputs": [],
   "source": [
    "table = \"Fac_building.csv\"\n",
    "column = \"Building Name Long\"\n",
    "#key = \"Tables.csv.Business Contact Email\"\n",
    "threshold = 0.2\n",
    "sim_items = similar_to(table, column=column)\n",
    "for el in sim_items:\n",
    "    print(str(el))"
   ]
  },
  {
   "cell_type": "code",
   "execution_count": null,
   "metadata": {
    "collapsed": true
   },
   "outputs": [],
   "source": [
    "table = \"Library_subject_offered.csv\"\n",
    "column = \"Course Number Desc\"\n",
    "sim_items = similar_to(table, column)\n",
    "for el in sim_items:\n",
    "    print(str(el))"
   ]
  },
  {
   "cell_type": "code",
   "execution_count": null,
   "metadata": {
    "collapsed": true,
    "scrolled": true
   },
   "outputs": [],
   "source": [
    "table = \"Warehouse_users.csv\"\n",
    "sim_items = similar_to(table)\n",
    "for el in sim_items:\n",
    "    print(str(el))"
   ]
  },
  {
   "cell_type": "code",
   "execution_count": null,
   "metadata": {
    "collapsed": true,
    "scrolled": false
   },
   "outputs": [],
   "source": [
    "table = \"Fac_building.csv\"\n",
    "sim_items = similar_to(table, threshold=0.1)\n",
    "for el in sim_items:\n",
    "    print(str(el))"
   ]
  },
  {
   "cell_type": "markdown",
   "metadata": {},
   "source": [
    "### Other examples"
   ]
  },
  {
   "cell_type": "code",
   "execution_count": null,
   "metadata": {
    "collapsed": true
   },
   "outputs": [],
   "source": [
    "path_to_relation = \"/data/datasets/mitdwh/Se_person.csv\"\n",
    "col_we_se, missing_words = composition.column_avg_composition(path_to_relation, model)"
   ]
  },
  {
   "cell_type": "code",
   "execution_count": null,
   "metadata": {
    "collapsed": true
   },
   "outputs": [],
   "source": [
    "path_to_relation = \"/data/datasets/mitdwh/Drupal_employee_directory.csv\"\n",
    "col_we_drupal, missing_words = composition.column_avg_composition(path_to_relation, model)"
   ]
  },
  {
   "cell_type": "code",
   "execution_count": null,
   "metadata": {
    "collapsed": true
   },
   "outputs": [],
   "source": [
    "se_vec = composition.relation_column_composition(col_we_se)\n",
    "drupal_vec = composition.relation_column_composition(col_we_drupal)"
   ]
  },
  {
   "cell_type": "code",
   "execution_count": null,
   "metadata": {
    "collapsed": true
   },
   "outputs": [],
   "source": [
    "cosine(se_vec, drupal_vec)"
   ]
  },
  {
   "cell_type": "code",
   "execution_count": null,
   "metadata": {
    "collapsed": true
   },
   "outputs": [],
   "source": [
    "for a, b in itertools.combinations(col_we_se.keys(), 2):\n",
    "    we_a = col_we_se[a]\n",
    "    we_b = col_we_se[b]\n",
    "\n",
    "    cos = cosine(we_a, we_b)\n",
    "    print(str(a) + \" -sim- \" + str(b) + \" is: \" + str(cos))"
   ]
  },
  {
   "cell_type": "markdown",
   "metadata": {
    "collapsed": true
   },
   "source": [
    "## Composition Rows"
   ]
  },
  {
   "cell_type": "code",
   "execution_count": null,
   "metadata": {
    "collapsed": true
   },
   "outputs": [],
   "source": [
    "path_to_relation = \"/data/datasets/mitdwh/Se_person.csv\"\n",
    "row_we, m_words = composition.row_avg_composition(path_to_relation, model)"
   ]
  },
  {
   "cell_type": "code",
   "execution_count": null,
   "metadata": {
    "collapsed": true
   },
   "outputs": [],
   "source": [
    "df = pd.read_csv(path_to_relation, encoding='latin1')"
   ]
  },
  {
   "cell_type": "code",
   "execution_count": null,
   "metadata": {
    "collapsed": true
   },
   "outputs": [],
   "source": [
    "row_ref = 0\n",
    "distances = []\n",
    "for i in range(len(row_we)):\n",
    "    distance = cosine(row_we[row_ref], row_we[i])\n",
    "    distances.append((i, distance))\n",
    "distances = sorted(distances, key=lambda x: x[1])"
   ]
  },
  {
   "cell_type": "code",
   "execution_count": null,
   "metadata": {
    "collapsed": true
   },
   "outputs": [],
   "source": [
    "len(distances)"
   ]
  },
  {
   "cell_type": "code",
   "execution_count": null,
   "metadata": {
    "collapsed": true
   },
   "outputs": [],
   "source": [
    "k = 10\n",
    "topk = []\n",
    "for i in range(k):\n",
    "    idx = distances[i]\n",
    "    row = df.iloc[idx[0]]\n",
    "    topk.append((row, distances[i]))"
   ]
  },
  {
   "cell_type": "code",
   "execution_count": null,
   "metadata": {
    "collapsed": true
   },
   "outputs": [],
   "source": [
    "df.iloc[0]"
   ]
  },
  {
   "cell_type": "code",
   "execution_count": null,
   "metadata": {
    "collapsed": true
   },
   "outputs": [],
   "source": [
    "topk[1]"
   ]
  },
  {
   "cell_type": "code",
   "execution_count": null,
   "metadata": {
    "collapsed": true
   },
   "outputs": [],
   "source": [
    "topk[2]"
   ]
  },
  {
   "cell_type": "code",
   "execution_count": null,
   "metadata": {
    "collapsed": true
   },
   "outputs": [],
   "source": [
    "topk[3]"
   ]
  },
  {
   "cell_type": "code",
   "execution_count": null,
   "metadata": {
    "collapsed": true
   },
   "outputs": [],
   "source": [
    "topk[4]"
   ]
  },
  {
   "cell_type": "markdown",
   "metadata": {},
   "source": [
    "## Operations across hierarchy"
   ]
  },
  {
   "cell_type": "code",
   "execution_count": null,
   "metadata": {
    "collapsed": true
   },
   "outputs": [],
   "source": [
    "def topk_similar(vec, composition_vectors):\n",
    "    distances = []\n",
    "    errors = 0\n",
    "    for key, value in composition_vectors.items():\n",
    "        try:\n",
    "            distance = cosine(vec, value)\n",
    "        except ValueError:\n",
    "            errors += 1\n",
    "            continue\n",
    "        distances.append((key, distance))\n",
    "    distances = sorted(distances, key=lambda x: x[1])\n",
    "    return distances, errors"
   ]
  },
  {
   "cell_type": "code",
   "execution_count": null,
   "metadata": {
    "collapsed": true
   },
   "outputs": [],
   "source": [
    "entity = 'madden_samuel_r'\n",
    "vec = model.get_vector(entity)"
   ]
  },
  {
   "cell_type": "code",
   "execution_count": null,
   "metadata": {
    "collapsed": true,
    "scrolled": true
   },
   "outputs": [],
   "source": [
    "distances, errors = topk_similar(vec, composition_vectors)\n",
    "print(\"ERRORS: \" + str(errors))"
   ]
  },
  {
   "cell_type": "code",
   "execution_count": null,
   "metadata": {
    "collapsed": true,
    "scrolled": true
   },
   "outputs": [],
   "source": [
    "for i in range(10):\n",
    "    print(str(distances[i]))"
   ]
  },
  {
   "cell_type": "markdown",
   "metadata": {},
   "source": [
    "#### Check rows"
   ]
  },
  {
   "cell_type": "code",
   "execution_count": null,
   "metadata": {
    "collapsed": true
   },
   "outputs": [],
   "source": [
    "distances = []\n",
    "for i in range(len(row_we)):\n",
    "    distance = cosine(vec, row_we[i])\n",
    "    distances.append((i, distance))\n",
    "distances = sorted(distances, key=lambda x: x[1])"
   ]
  },
  {
   "cell_type": "code",
   "execution_count": null,
   "metadata": {
    "collapsed": true
   },
   "outputs": [],
   "source": [
    "k = 10\n",
    "topk = []\n",
    "for i in range(k):\n",
    "    idx = distances[i]\n",
    "    row = df.iloc[idx[0]]\n",
    "    topk.append((row, distances[i]))"
   ]
  },
  {
   "cell_type": "code",
   "execution_count": null,
   "metadata": {
    "collapsed": true
   },
   "outputs": [],
   "source": [
    "topk[0]"
   ]
  },
  {
   "cell_type": "code",
   "execution_count": null,
   "metadata": {
    "collapsed": true
   },
   "outputs": [],
   "source": [
    "topk[1]"
   ]
  },
  {
   "cell_type": "code",
   "execution_count": null,
   "metadata": {
    "collapsed": true
   },
   "outputs": [],
   "source": [
    "topk[2]"
   ]
  },
  {
   "cell_type": "code",
   "execution_count": null,
   "metadata": {
    "collapsed": true
   },
   "outputs": [],
   "source": [
    "topk[3]"
   ]
  },
  {
   "cell_type": "markdown",
   "metadata": {
    "collapsed": true
   },
   "source": [
    "### Designing API"
   ]
  },
  {
   "cell_type": "code",
   "execution_count": null,
   "metadata": {
    "collapsed": true
   },
   "outputs": [],
   "source": [
    "def concept_qa(entity, attribute, n=20):\n",
    "    #vec_entity = model.get_vector(entity)\n",
    "    indexes, metrics = model.cosine(entity, n=n)\n",
    "    res = model.generate_response(indexes, metrics).tolist()\n",
    "    vec_attribute = composition_vectors[attribute]\n",
    "    candidate_attribute_sim = []\n",
    "    for e, score in res:\n",
    "        vec_e = model.get_vector(e)\n",
    "        distance = cosine(vec_e, vec_attribute)\n",
    "        candidate_attribute_sim.append((e, distance))\n",
    "    candidate_attribute_sim = sorted(candidate_attribute_sim, key=lambda x: x[1])\n",
    "    return candidate_attribute_sim\n",
    "\n",
    "def entity_to_attribute(entity, n=20):\n",
    "    indexes, metrics = model.cosine(entity, n=n)\n",
    "    res = model.generate_response(indexes, metrics).tolist()\n",
    "    res_attr = []\n",
    "    for e, score in res:\n",
    "        vec_e = model.get_vector(e)\n",
    "        distances, errors = topk_similar(vec_e, composition_vectors)\n",
    "        res_attr.append((e, score, distances[:4]))\n",
    "    return res_attr"
   ]
  },
  {
   "cell_type": "code",
   "execution_count": null,
   "metadata": {
    "collapsed": true
   },
   "outputs": [],
   "source": [
    "# finding attributes\n",
    "attribute = 'phone'\n",
    "candidates = []\n",
    "for key in composition_vectors.keys():\n",
    "    if (key.lower()).find(attribute) != -1:\n",
    "        candidates.append(key)\n",
    "candidates"
   ]
  },
  {
   "cell_type": "code",
   "execution_count": null,
   "metadata": {
    "collapsed": true
   },
   "outputs": [],
   "source": [
    "indexes, metrics = model.cosine('madden_samuel_r', n=20)\n",
    "res = model.generate_response(indexes, metrics).tolist()\n",
    "res"
   ]
  },
  {
   "cell_type": "code",
   "execution_count": null,
   "metadata": {
    "collapsed": true
   },
   "outputs": [],
   "source": [
    "entity_to_attribute('madden_samuel_r', n=20)"
   ]
  },
  {
   "cell_type": "code",
   "execution_count": null,
   "metadata": {
    "collapsed": true
   },
   "outputs": [],
   "source": [
    "concept_qa('madden_samuel_r', 'Employee_directory.csv.Krb Name', n=10)"
   ]
  },
  {
   "cell_type": "markdown",
   "metadata": {
    "collapsed": true
   },
   "source": [
    "## Multi-Element Similarities"
   ]
  },
  {
   "cell_type": "markdown",
   "metadata": {},
   "source": [
    "#### multi-columns"
   ]
  },
  {
   "cell_type": "code",
   "execution_count": 23,
   "metadata": {
    "collapsed": true
   },
   "outputs": [],
   "source": [
    "fname = api.RE['Employee_directory.csv']['columns']['First Name']\n",
    "lname = api.RE['Employee_directory.csv']['columns']['Department Name']\n",
    "combined = np.average([fname, lname], axis=0)"
   ]
  },
  {
   "cell_type": "code",
   "execution_count": 24,
   "metadata": {
    "scrolled": false
   },
   "outputs": [
    {
     "data": {
      "text/plain": [
       "[('Preferred First Name Upper', 'Employee_directory.csv', 0.86615869557712044),\n",
       " ('Name Known By', 'Employee_directory.csv', 0.86613964060083382),\n",
       " ('First Name', 'Employee_directory.csv', 0.86131692051761155),\n",
       " ('First Name', 'Drupal_employee_directory.csv', 0.86117844613666206),\n",
       " ('First Name', 'Warehouse_users.csv', 0.85321297657144046),\n",
       " ('First Name', 'Se_person.csv', 0.84819282761338566),\n",
       " ('First Name', 'Hr_faculty_roster.csv', 0.84140042346673971),\n",
       " ('First Name', 'Mit_student_directory.csv', 0.79042105128783802),\n",
       " ('Department Name', 'Employee_directory.csv', 0.75481428312243992),\n",
       " ('Hr Org Unit Title', 'Drupal_employee_directory.csv', 0.70913160927801278),\n",
       " ('Payroll Rank', 'Se_person.csv', 0.63241237907618875),\n",
       " ('Employee Type', 'Drupal_employee_directory.csv', 0.61019650402587644),\n",
       " ('Organization', 'Se_person.csv', 0.60532653907593992),\n",
       " ('Term Indicator', 'Academic_term_parameter.csv', 0.59959100933943499),\n",
       " ('Employee Type', 'Se_person.csv', 0.59943976340531568)]"
      ]
     },
     "execution_count": 24,
     "metadata": {},
     "output_type": "execute_result"
    }
   ],
   "source": [
    "api.topk_columns(combined, k=15)"
   ]
  },
  {
   "cell_type": "code",
   "execution_count": 25,
   "metadata": {},
   "outputs": [
    {
     "data": {
      "text/plain": [
       "[('Department Name', 'Employee_directory.csv', 0.99999999999999978),\n",
       " ('Hr Org Unit Title', 'Drupal_employee_directory.csv', 0.65953176172840988),\n",
       " ('Hr Department Name', 'Fac_organization.csv', 0.61584570124053506),\n",
       " ('Hr Department Name', 'Fclt_organization.csv', 0.61472666539849852),\n",
       " ('Hr Department Name Long', 'Hr_org_unit.csv', 0.60491826935697468),\n",
       " ('Hr Department Name', 'Fclt_organization_hist.csv', 0.60091945360617893),\n",
       " ('Hr Department Name Long', 'Hr_org_unit_new.csv', 0.58105542938274346),\n",
       " ('Hr Department Name', 'Hr_org_unit.csv', 0.57085228035128166),\n",
       " ('Organization', 'Se_person.csv', 0.56774606053366516),\n",
       " ('Hr Org Unit Title', 'Hr_org_unit.csv', 0.56039472302179061),\n",
       " ('Hr Department Name', 'Hr_org_unit_new.csv', 0.55628236010909726),\n",
       " ('Unit Name', 'Warehouse_users.csv', 0.55394883928938032),\n",
       " ('Hr Org Unit Title', 'Hr_org_unit_new.csv', 0.53806235962972626),\n",
       " ('Hr Department Name Alpha', 'Hr_org_unit.csv', 0.50621148149206607),\n",
       " ('Hr Department Name Alpha', 'Hr_org_unit_new.csv', 0.49838370740549753)]"
      ]
     },
     "execution_count": 25,
     "metadata": {},
     "output_type": "execute_result"
    }
   ],
   "source": [
    "fname = api.RE['Employee_directory.csv']['columns']['Department Name']\n",
    "api.topk_columns(fname, k=15)"
   ]
  },
  {
   "cell_type": "code",
   "execution_count": 26,
   "metadata": {},
   "outputs": [
    {
     "data": {
      "text/plain": [
       "[('First Name', 'Employee_directory.csv', 1.0000000000000002),\n",
       " ('First Name', 'Drupal_employee_directory.csv', 0.99999847341291725),\n",
       " ('Name Known By', 'Employee_directory.csv', 0.99826332159097564),\n",
       " ('Preferred First Name Upper', 'Employee_directory.csv', 0.99826224844148437),\n",
       " ('First Name', 'Warehouse_users.csv', 0.99604617144974184),\n",
       " ('First Name', 'Se_person.csv', 0.9941064608315362),\n",
       " ('First Name', 'Hr_faculty_roster.csv', 0.97988363983592852),\n",
       " ('First Name', 'Mit_student_directory.csv', 0.95178521898938839),\n",
       " ('Last Name', 'Warehouse_users.csv', 0.68541714036355594),\n",
       " ('Term Indicator', 'Academic_term_parameter.csv', 0.68538385706985672),\n",
       " ('Warehouse Load Date', 'Drupal_employee_directory.csv', 0.65469841825230135),\n",
       " ('Warehouse Load Date', 'Hr_faculty_roster.csv', 0.65469841825230135),\n",
       " ('Employee Type', 'Drupal_employee_directory.csv', 0.65190355402182321),\n",
       " ('Employee Type', 'Se_person.csv', 0.65057353207881496),\n",
       " ('School Code', 'Student_department.csv', 0.6432094371980317)]"
      ]
     },
     "execution_count": 26,
     "metadata": {},
     "output_type": "execute_result"
    }
   ],
   "source": [
    "fname = api.RE['Employee_directory.csv']['columns']['First Name']\n",
    "api.topk_columns(fname, k=15)"
   ]
  },
  {
   "cell_type": "markdown",
   "metadata": {},
   "source": [
    "#### multi-cells"
   ]
  },
  {
   "cell_type": "code",
   "execution_count": 31,
   "metadata": {
    "collapsed": true
   },
   "outputs": [],
   "source": [
    "e1 = 'Richard'\n",
    "v1 = api.vector_for_entity(e1)\n",
    "e2 = 'Kimball'\n",
    "v2 = api.vector_for_entity(e2)\n",
    "combined = np.average([v1, v2], axis=0)"
   ]
  },
  {
   "cell_type": "code",
   "execution_count": 34,
   "metadata": {},
   "outputs": [
    {
     "data": {
      "text/plain": [
       "[('First Name', 'Drupal_employee_directory.csv', 0.66506324404364237),\n",
       " ('First Name', 'Employee_directory.csv', 0.66505359384270435),\n",
       " ('Name Known By', 'Employee_directory.csv', 0.66246480682554998),\n",
       " ('Preferred First Name Upper', 'Employee_directory.csv', 0.66246104363725988),\n",
       " ('First Name', 'Warehouse_users.csv', 0.65673504392534465),\n",
       " ('First Name', 'Hr_faculty_roster.csv', 0.65487982448423332),\n",
       " ('First Name', 'Se_person.csv', 0.64961331903883779),\n",
       " ('First Name', 'Mit_student_directory.csv', 0.61286543762015211),\n",
       " ('Term Indicator', 'Academic_term_parameter.csv', 0.53631540768374963),\n",
       " ('Last Name', 'Warehouse_users.csv', 0.50895222075746538)]"
      ]
     },
     "execution_count": 34,
     "metadata": {},
     "output_type": "execute_result"
    }
   ],
   "source": [
    "api.topk_columns(combined, k=10)"
   ]
  },
  {
   "cell_type": "code",
   "execution_count": 38,
   "metadata": {},
   "outputs": [
    {
     "data": {
      "text/plain": [
       "[('Employee_directory.csv', 0.52303887681056227),\n",
       " ('Drupal_employee_directory.csv', 0.50085567684301446),\n",
       " ('Se_person.csv', 0.50056211158365593),\n",
       " ('Hr_faculty_roster.csv', 0.44669530781364886),\n",
       " ('Warehouse_users.csv', 0.34847072897595721),\n",
       " ('Zip_usa.csv', 0.28490284171774771),\n",
       " ('Library_material_status.csv', 0.24445375326889263),\n",
       " ('Moira_list.csv', 0.24256069906060607),\n",
       " ('Person_auth_area.csv', 0.24240872026027582),\n",
       " ('Mit_student_directory.csv', 0.20032398604355106)]"
      ]
     },
     "execution_count": 38,
     "metadata": {},
     "output_type": "execute_result"
    }
   ],
   "source": [
    "api.topk_relations(combined, k=10)"
   ]
  },
  {
   "cell_type": "code",
   "execution_count": 39,
   "metadata": {
    "scrolled": false
   },
   "outputs": [
    {
     "data": {
      "text/plain": [
       "[(Mit Id                             968548423\n",
       "  Krb Name                             kimball\n",
       "  Krb Name Uppercase                   KIMBALL\n",
       "  Last Name                            Kimball\n",
       "  First Name                           Richard\n",
       "  Middle Name                                W\n",
       "  Email Address                KIMBALL@MIT.EDU\n",
       "  Office Location                        3-269\n",
       "  Office Phone                      6172539707\n",
       "  Unit Id                               065000\n",
       "  Unit Name             Mechanical Engineering\n",
       "  Title                               Lecturer\n",
       "  Year                                     NaN\n",
       "  Type                                EMPLOYEE\n",
       "  Appointment Type         Primary Appointment\n",
       "  Name: 8262, dtype: object, 'Warehouse_users.csv', 0.78552786630678939),\n",
       " (Mit Id                                                   968548423\n",
       "  Last Name                                                  Kimball\n",
       "  First Name                                                 Richard\n",
       "  Middle Name                                                      W\n",
       "  Full Name                                       Kimball, Richard W\n",
       "  Directory Full Name                             Kimball, Richard W\n",
       "  Office Location                                              3-269\n",
       "  Office Phone                                            6172539707\n",
       "  Directory Title                                           Lecturer\n",
       "  Primary Title                                             Lecturer\n",
       "  Department Number                                            65000\n",
       "  Department Name               Department of Mechanical Engineering\n",
       "  Krb Name                                                   kimball\n",
       "  Krb Name Uppercase                                         KIMBALL\n",
       "  Email Address                                      KIMBALL@MIT.EDU\n",
       "  Personal Url                                                   NaN\n",
       "  Name Known By                                              Richard\n",
       "  Email Address Uppercase                            KIMBALL@MIT.EDU\n",
       "  Full Name Uppercase                             KIMBALL, RICHARD W\n",
       "  Preferred First Name Upper                                 RICHARD\n",
       "  Preferred Last Name Upper                                  KIMBALL\n",
       "  Name: 0, dtype: object, 'Employee_directory.csv', 0.76107759916830664),\n",
       " (Mit Id                          968548423\n",
       "  Krb Name                          KIMBALL\n",
       "  Full Name              Kimball, Richard W\n",
       "  Payroll Rank              Other Acad-Inst\n",
       "  Position Title                   Lecturer\n",
       "  Is Active                               Y\n",
       "  Office Location                     3-269\n",
       "  Organization       Mechanical Engineering\n",
       "  First Name                        Richard\n",
       "  Last Name                         Kimball\n",
       "  Middle Name                             W\n",
       "  Employee Type        Other Academic Group\n",
       "  Name: 7172, dtype: object, 'Se_person.csv', 0.760668420051549),\n",
       " (Mit Id                                        926279941\n",
       "  Last Name                                       Kimball\n",
       "  First Name                                       Robert\n",
       "  Middle Name                                          P.\n",
       "  Full Name                            Kimball, Robert P.\n",
       "  Directory Full Name                  Kimball, Robert P.\n",
       "  Office Location                               LL-S1-225\n",
       "  Office Phone                                 7819816361\n",
       "  Directory Title                    Administrative Staff\n",
       "  Primary Title                      Administrative Staff\n",
       "  Department Number                                310000\n",
       "  Department Name                      Lincoln Laboratory\n",
       "  Krb Name                                        ro22997\n",
       "  Krb Name Uppercase                              RO22997\n",
       "  Email Address                 ROBERT.KIMBALL@LL.MIT.EDU\n",
       "  Personal Url                                        NaN\n",
       "  Name Known By                                    Robert\n",
       "  Email Address Uppercase       ROBERT.KIMBALL@LL.MIT.EDU\n",
       "  Full Name Uppercase                  KIMBALL, ROBERT P.\n",
       "  Preferred First Name Upper                       ROBERT\n",
       "  Preferred Last Name Upper                       KIMBALL\n",
       "  Name: 9809, dtype: object, 'Employee_directory.csv', 0.66122595829314856),\n",
       " (Mit Id                                   926279941\n",
       "  Last Name                                  Kimball\n",
       "  First Name                                  Robert\n",
       "  Middle Name                                     P.\n",
       "  Full Name                       Kimball, Robert P.\n",
       "  Employee Group                              Exempt\n",
       "  Employee Type           Lincoln Sponsored Research\n",
       "  Has Addl Appointment                             N\n",
       "  Has Dual Appointment                             N\n",
       "  Office Location                          LL-S1-225\n",
       "  Office Phone                            7819816361\n",
       "  Hr Org Unit Id                            10001980\n",
       "  Hr Org Unit Title             LL-Director's Office\n",
       "  Directory Title               Administrative Staff\n",
       "  Primary Title                 Administrative Staff\n",
       "  Email Address            ROBERT.KIMBALL@LL.MIT.EDU\n",
       "  Personal Url                                   NaN\n",
       "  Warehouse Load Date              01/08/16 01:16 AM\n",
       "  Name: 9880, dtype: object,\n",
       "  'Drupal_employee_directory.csv',\n",
       "  0.660195774136769),\n",
       " (Mit Id                               968548423\n",
       "  Last Name                              Kimball\n",
       "  First Name                             Richard\n",
       "  Middle Name                                  W\n",
       "  Full Name                   Kimball, Richard W\n",
       "  Employee Group                          Exempt\n",
       "  Employee Type             Other Academic Group\n",
       "  Has Addl Appointment                         N\n",
       "  Has Dual Appointment                         N\n",
       "  Office Location                          3-269\n",
       "  Office Phone                        6172539707\n",
       "  Hr Org Unit Id                        10000324\n",
       "  Hr Org Unit Title       Mechanical Engineering\n",
       "  Directory Title                       Lecturer\n",
       "  Primary Title                         Lecturer\n",
       "  Email Address                  KIMBALL@MIT.EDU\n",
       "  Personal Url                               NaN\n",
       "  Warehouse Load Date          01/08/16 01:16 AM\n",
       "  Name: 0, dtype: object, 'Drupal_employee_directory.csv', 0.6346186926870292),\n",
       " (Mit Id                                926279941\n",
       "  Krb Name                                ro22997\n",
       "  Krb Name Uppercase                      RO22997\n",
       "  Last Name                               Kimball\n",
       "  First Name                               Robert\n",
       "  Middle Name                                  P.\n",
       "  Email Address         ROBERT.KIMBALL@LL.MIT.EDU\n",
       "  Office Location                       LL-S1-225\n",
       "  Office Phone                         7819816361\n",
       "  Unit Id                                  310000\n",
       "  Unit Name                    Lincoln Laboratory\n",
       "  Title                      Administrative Staff\n",
       "  Year                                        NaN\n",
       "  Type                                   EMPLOYEE\n",
       "  Appointment Type            Primary Appointment\n",
       "  Name: 1300, dtype: object, 'Warehouse_users.csv', 0.62189810866034045),\n",
       " (Mit Id                              910006165\n",
       "  Last Name                            Thurston\n",
       "  First Name                            Kimball\n",
       "  Middle Name                                D.\n",
       "  Full Name                Thurston, Kimball D.\n",
       "  Employee Group                     Non-Exempt\n",
       "  Employee Type           Lincoln Service Staff\n",
       "  Has Addl Appointment                        N\n",
       "  Has Dual Appointment                        N\n",
       "  Office Location                     LL-S4-234\n",
       "  Office Phone                       7819811585\n",
       "  Hr Org Unit Id                       10000952\n",
       "  Hr Org Unit Title                LL-Aerospace\n",
       "  Directory Title         Part-time Flexible/LL\n",
       "  Primary Title           Part-time Flexible/LL\n",
       "  Email Address            KTHURSTON@LL.MIT.EDU\n",
       "  Personal Url                              NaN\n",
       "  Warehouse Load Date         01/08/16 01:16 AM\n",
       "  Name: 12157, dtype: object,\n",
       "  'Drupal_employee_directory.csv',\n",
       "  0.60743423757143322),\n",
       " (Mit Id                               910006307\n",
       "  Last Name                              Ralston\n",
       "  First Name                             Richard\n",
       "  Middle Name                                 W.\n",
       "  Full Name                  Ralston, Richard W.\n",
       "  Employee Group                      Non-Exempt\n",
       "  Employee Type            Lincoln Service Staff\n",
       "  Has Addl Appointment                         N\n",
       "  Has Dual Appointment                         N\n",
       "  Office Location                      LL-LI-156\n",
       "  Office Phone                        7819817801\n",
       "  Hr Org Unit Id                        10000951\n",
       "  Hr Org Unit Title       LL-Advanced Technology\n",
       "  Directory Title          Part-time Flexible/LL\n",
       "  Primary Title            Part-time Flexible/LL\n",
       "  Email Address               RALSTON@LL.MIT.EDU\n",
       "  Personal Url                               NaN\n",
       "  Warehouse Load Date          01/08/16 01:16 AM\n",
       "  Name: 2008, dtype: object,\n",
       "  'Drupal_employee_directory.csv',\n",
       "  0.5941022940713685),\n",
       " (Zip Code                           69145\n",
       "  Zip Type                               S\n",
       "  City Name                        Kimball\n",
       "  City Type                              D\n",
       "  County Name                      Kimball\n",
       "  State Abbr                            NE\n",
       "  State Name                      Nebraska\n",
       "  Warehouse Load Date    12/16/15 04:00 PM\n",
       "  Name: 58792, dtype: object, 'Zip_usa.csv', 0.59182130427345014)]"
      ]
     },
     "execution_count": 39,
     "metadata": {},
     "output_type": "execute_result"
    }
   ],
   "source": [
    "api.topk_rows(combined, k=10)"
   ]
  },
  {
   "cell_type": "code",
   "execution_count": null,
   "metadata": {
    "collapsed": true
   },
   "outputs": [],
   "source": []
  }
 ],
 "metadata": {
  "kernelspec": {
   "display_name": "Python 3",
   "language": "python",
   "name": "python3"
  },
  "language_info": {
   "codemirror_mode": {
    "name": "ipython",
    "version": 3
   },
   "file_extension": ".py",
   "mimetype": "text/x-python",
   "name": "python",
   "nbconvert_exporter": "python",
   "pygments_lexer": "ipython3",
   "version": "3.5.2"
  }
 },
 "nbformat": 4,
 "nbformat_minor": 1
}
