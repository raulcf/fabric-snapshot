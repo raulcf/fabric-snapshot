{
 "cells": [
  {
   "cell_type": "code",
   "execution_count": 1,
   "metadata": {},
   "outputs": [],
   "source": [
    "import pandas as pd\n",
    "path = \"/Users/ra-mit/data/mitdwhdata/\""
   ]
  },
  {
   "cell_type": "code",
   "execution_count": 2,
   "metadata": {},
   "outputs": [],
   "source": [
    "# Employee_directory.csv\n",
    "# Drupal_employee_directory.csv (Hr Org Unit Id, Hr Org Unit Title)\n",
    "# Hr_faculty_roster.csv\n",
    "# Library_subject_offered.csv\n",
    "# Person_auth_area.csv (with krb name)\n",
    "# short_tip_subject_offered.csv -> Not included as it reduces cardinality"
   ]
  },
  {
   "cell_type": "code",
   "execution_count": 3,
   "metadata": {},
   "outputs": [],
   "source": [
    "def join_ab_on_key(a: pd.DataFrame, b: pd.DataFrame, a_key: str, b_key: str, suffix_str=None):\n",
    "    a_valid_index = (a[a_key].dropna()).index\n",
    "    b_valid_index = (b[b_key].dropna()).index\n",
    "    a = a.iloc[a_valid_index]\n",
    "    b = b.iloc[b_valid_index]\n",
    "    # Normalize join columns\n",
    "    a[a_key] = a[a_key].apply(lambda x: str(x).lower())\n",
    "    b[b_key] = b[b_key].apply(lambda x: str(x).lower())\n",
    "    joined = pd.merge(a, b, how='outer', left_on=a_key, right_on=b_key, sort=False, suffixes=('', suffix_str))\n",
    "    # # Recover format of original columns\n",
    "    return joined"
   ]
  },
  {
   "cell_type": "code",
   "execution_count": 4,
   "metadata": {},
   "outputs": [],
   "source": [
    "df = pd.read_csv(path + \"/Employee_directory.csv\", encoding='latin1')"
   ]
  },
  {
   "cell_type": "code",
   "execution_count": 5,
   "metadata": {},
   "outputs": [
    {
     "data": {
      "text/plain": [
       "Index(['Mit Id', 'Last Name', 'First Name', 'Middle Name', 'Full Name',\n",
       "       'Directory Full Name', 'Office Location', 'Office Phone',\n",
       "       'Directory Title', 'Primary Title', 'Department Number',\n",
       "       'Department Name', 'Krb Name', 'Krb Name Uppercase', 'Email Address',\n",
       "       'Personal Url', 'Name Known By', 'Email Address Uppercase',\n",
       "       'Full Name Uppercase', 'Preferred First Name Upper',\n",
       "       'Preferred Last Name Upper'],\n",
       "      dtype='object')"
      ]
     },
     "execution_count": 5,
     "metadata": {},
     "output_type": "execute_result"
    }
   ],
   "source": [
    "df.columns"
   ]
  },
  {
   "cell_type": "code",
   "execution_count": 6,
   "metadata": {},
   "outputs": [],
   "source": [
    "ded = pd.read_csv(path + \"/Drupal_employee_directory.csv\", encoding='latin1')"
   ]
  },
  {
   "cell_type": "code",
   "execution_count": 13,
   "metadata": {},
   "outputs": [],
   "source": [
    "intermediate1 = join_ab_on_key(df, ded, 'Mit Id', 'Mit Id', suffix_str='XX')"
   ]
  },
  {
   "cell_type": "code",
   "execution_count": 14,
   "metadata": {},
   "outputs": [
    {
     "data": {
      "text/plain": [
       "Index(['Mit Id', 'Last Name', 'First Name', 'Middle Name', 'Full Name',\n",
       "       'Directory Full Name', 'Office Location', 'Office Phone',\n",
       "       'Directory Title', 'Primary Title', 'Department Number',\n",
       "       'Department Name', 'Krb Name', 'Krb Name Uppercase', 'Email Address',\n",
       "       'Personal Url', 'Name Known By', 'Email Address Uppercase',\n",
       "       'Full Name Uppercase', 'Preferred First Name Upper',\n",
       "       'Preferred Last Name Upper', 'Last NameXX', 'First NameXX',\n",
       "       'Middle NameXX', 'Full NameXX', 'Employee Group', 'Employee Type',\n",
       "       'Has Addl Appointment', 'Has Dual Appointment', 'Office LocationXX',\n",
       "       'Office PhoneXX', 'Hr Org Unit Id', 'Hr Org Unit Title',\n",
       "       'Directory TitleXX', 'Primary TitleXX', 'Email AddressXX',\n",
       "       'Personal UrlXX', 'Warehouse Load Date'],\n",
       "      dtype='object')"
      ]
     },
     "execution_count": 14,
     "metadata": {},
     "output_type": "execute_result"
    }
   ],
   "source": [
    "intermediate1.columns"
   ]
  },
  {
   "cell_type": "code",
   "execution_count": 17,
   "metadata": {},
   "outputs": [],
   "source": [
    "intermediate1 = intermediate1.drop(['Last NameXX', 'First NameXX', 'Middle NameXX', 'Full NameXX', 'Office LocationXX', 'Office PhoneXX', 'Directory TitleXX', 'Primary TitleXX', 'Email AddressXX', 'Personal UrlXX'], axis=1)"
   ]
  },
  {
   "cell_type": "code",
   "execution_count": 18,
   "metadata": {},
   "outputs": [
    {
     "data": {
      "text/plain": [
       "Index(['Mit Id', 'Last Name', 'First Name', 'Middle Name', 'Full Name',\n",
       "       'Directory Full Name', 'Office Location', 'Office Phone',\n",
       "       'Directory Title', 'Primary Title', 'Department Number',\n",
       "       'Department Name', 'Krb Name', 'Krb Name Uppercase', 'Email Address',\n",
       "       'Personal Url', 'Name Known By', 'Email Address Uppercase',\n",
       "       'Full Name Uppercase', 'Preferred First Name Upper',\n",
       "       'Preferred Last Name Upper', 'Employee Group', 'Employee Type',\n",
       "       'Has Addl Appointment', 'Has Dual Appointment', 'Hr Org Unit Id',\n",
       "       'Hr Org Unit Title', 'Warehouse Load Date'],\n",
       "      dtype='object')"
      ]
     },
     "execution_count": 18,
     "metadata": {},
     "output_type": "execute_result"
    }
   ],
   "source": [
    "intermediate1.columns"
   ]
  },
  {
   "cell_type": "code",
   "execution_count": 22,
   "metadata": {},
   "outputs": [],
   "source": [
    "df = pd.read_csv(path + \"/Hr_faculty_roster.csv\", encoding='latin1')"
   ]
  },
  {
   "cell_type": "code",
   "execution_count": 23,
   "metadata": {},
   "outputs": [
    {
     "data": {
      "text/plain": [
       "Index(['Mit Id', 'Last Name', 'First Name', 'Middle Name', 'Terminal Degree',\n",
       "       'Appointment Type', 'Job Title', 'Hr Org Unit Title', 'Position Title',\n",
       "       'Admin Org Unit Title', 'Admin Position Title', 'Admin Job Title',\n",
       "       'Directory Org Unit Title', 'Endowed Chair', 'Emeritus Status',\n",
       "       'Warehouse Load Date'],\n",
       "      dtype='object')"
      ]
     },
     "execution_count": 23,
     "metadata": {},
     "output_type": "execute_result"
    }
   ],
   "source": [
    "df.columns"
   ]
  },
  {
   "cell_type": "code",
   "execution_count": 29,
   "metadata": {},
   "outputs": [],
   "source": [
    "intermediate2 = join_ab_on_key(df, intermediate1, 'Mit Id', 'Mit Id', suffix_str='XX')"
   ]
  },
  {
   "cell_type": "code",
   "execution_count": 30,
   "metadata": {},
   "outputs": [
    {
     "data": {
      "text/plain": [
       "15976"
      ]
     },
     "execution_count": 30,
     "metadata": {},
     "output_type": "execute_result"
    }
   ],
   "source": [
    "len(intermediate2)"
   ]
  },
  {
   "cell_type": "code",
   "execution_count": 31,
   "metadata": {},
   "outputs": [
    {
     "data": {
      "text/plain": [
       "Index(['Mit Id', 'Last Name', 'First Name', 'Middle Name', 'Terminal Degree',\n",
       "       'Appointment Type', 'Job Title', 'Hr Org Unit Title', 'Position Title',\n",
       "       'Admin Org Unit Title', 'Admin Position Title', 'Admin Job Title',\n",
       "       'Directory Org Unit Title', 'Endowed Chair', 'Emeritus Status',\n",
       "       'Warehouse Load Date', 'Last NameXX', 'First NameXX', 'Middle NameXX',\n",
       "       'Full Name', 'Directory Full Name', 'Office Location', 'Office Phone',\n",
       "       'Directory Title', 'Primary Title', 'Department Number',\n",
       "       'Department Name', 'Krb Name', 'Krb Name Uppercase', 'Email Address',\n",
       "       'Personal Url', 'Name Known By', 'Email Address Uppercase',\n",
       "       'Full Name Uppercase', 'Preferred First Name Upper',\n",
       "       'Preferred Last Name Upper', 'Employee Group', 'Employee Type',\n",
       "       'Has Addl Appointment', 'Has Dual Appointment', 'Hr Org Unit Id',\n",
       "       'Hr Org Unit TitleXX', 'Warehouse Load DateXX'],\n",
       "      dtype='object')"
      ]
     },
     "execution_count": 31,
     "metadata": {},
     "output_type": "execute_result"
    }
   ],
   "source": [
    "intermediate2.columns"
   ]
  },
  {
   "cell_type": "code",
   "execution_count": 33,
   "metadata": {},
   "outputs": [],
   "source": [
    "intermediate2 = intermediate2.drop(['Last NameXX', 'First NameXX', 'Middle NameXX', 'Hr Org Unit TitleXX', 'Warehouse Load DateXX'], axis=1)"
   ]
  },
  {
   "cell_type": "code",
   "execution_count": 36,
   "metadata": {},
   "outputs": [
    {
     "data": {
      "text/plain": [
       "Index(['Mit Id', 'Last Name', 'First Name', 'Middle Name', 'Terminal Degree',\n",
       "       'Appointment Type', 'Job Title', 'Hr Org Unit Title', 'Position Title',\n",
       "       'Admin Org Unit Title', 'Admin Position Title', 'Admin Job Title',\n",
       "       'Directory Org Unit Title', 'Endowed Chair', 'Emeritus Status',\n",
       "       'Warehouse Load Date', 'Full Name', 'Directory Full Name',\n",
       "       'Office Location', 'Office Phone', 'Directory Title', 'Primary Title',\n",
       "       'Department Number', 'Department Name', 'Krb Name',\n",
       "       'Krb Name Uppercase', 'Email Address', 'Personal Url', 'Name Known By',\n",
       "       'Email Address Uppercase', 'Full Name Uppercase',\n",
       "       'Preferred First Name Upper', 'Preferred Last Name Upper',\n",
       "       'Employee Group', 'Employee Type', 'Has Addl Appointment',\n",
       "       'Has Dual Appointment', 'Hr Org Unit Id'],\n",
       "      dtype='object')"
      ]
     },
     "execution_count": 36,
     "metadata": {},
     "output_type": "execute_result"
    }
   ],
   "source": [
    "intermediate2.columns"
   ]
  },
  {
   "cell_type": "code",
   "execution_count": 37,
   "metadata": {},
   "outputs": [],
   "source": [
    "ded = pd.read_csv(path + \"/Library_subject_offered.csv\", encoding='latin1')"
   ]
  },
  {
   "cell_type": "code",
   "execution_count": 38,
   "metadata": {},
   "outputs": [
    {
     "data": {
      "text/plain": [
       "Index(['Library Subject Offered Key', 'Term Code', 'Master Course Number',\n",
       "       'Master Course Number Sort', 'Master Course Number Desc',\n",
       "       'Master Subject Id', 'Master Subject Id Sort', 'Course Number',\n",
       "       'Course Number Sort', 'Course Number Desc', 'Subject Id',\n",
       "       'Subject Id Sort', 'Subject Title', 'Offer Dept Code',\n",
       "       'Offer Dept Name', 'Offer School Name', 'Responsible Faculty Name',\n",
       "       'Responsible Faculty Mit Id', 'Num Enrolled Students',\n",
       "       'Warehouse Load Date'],\n",
       "      dtype='object')"
      ]
     },
     "execution_count": 38,
     "metadata": {},
     "output_type": "execute_result"
    }
   ],
   "source": [
    "ded.columns"
   ]
  },
  {
   "cell_type": "code",
   "execution_count": 39,
   "metadata": {},
   "outputs": [
    {
     "name": "stderr",
     "output_type": "stream",
     "text": [
      "/Users/ra-mit/development/virtualenvs/fabric/lib/python3.6/site-packages/ipykernel_launcher.py:7: SettingWithCopyWarning: \n",
      "A value is trying to be set on a copy of a slice from a DataFrame.\n",
      "Try using .loc[row_indexer,col_indexer] = value instead\n",
      "\n",
      "See the caveats in the documentation: http://pandas.pydata.org/pandas-docs/stable/indexing.html#indexing-view-versus-copy\n",
      "  import sys\n"
     ]
    }
   ],
   "source": [
    "intermediate3 = join_ab_on_key(ded, intermediate2, 'Responsible Faculty Mit Id', 'Mit Id', suffix_str='XX')"
   ]
  },
  {
   "cell_type": "code",
   "execution_count": 41,
   "metadata": {},
   "outputs": [
    {
     "data": {
      "text/plain": [
       "Index(['Library Subject Offered Key', 'Term Code', 'Master Course Number',\n",
       "       'Master Course Number Sort', 'Master Course Number Desc',\n",
       "       'Master Subject Id', 'Master Subject Id Sort', 'Course Number',\n",
       "       'Course Number Sort', 'Course Number Desc', 'Subject Id',\n",
       "       'Subject Id Sort', 'Subject Title', 'Offer Dept Code',\n",
       "       'Offer Dept Name', 'Offer School Name', 'Responsible Faculty Name',\n",
       "       'Responsible Faculty Mit Id', 'Num Enrolled Students',\n",
       "       'Warehouse Load Date', 'Mit Id', 'Last Name', 'First Name',\n",
       "       'Middle Name', 'Terminal Degree', 'Appointment Type', 'Job Title',\n",
       "       'Hr Org Unit Title', 'Position Title', 'Admin Org Unit Title',\n",
       "       'Admin Position Title', 'Admin Job Title', 'Directory Org Unit Title',\n",
       "       'Endowed Chair', 'Emeritus Status', 'Warehouse Load DateXX',\n",
       "       'Full Name', 'Directory Full Name', 'Office Location', 'Office Phone',\n",
       "       'Directory Title', 'Primary Title', 'Department Number',\n",
       "       'Department Name', 'Krb Name', 'Krb Name Uppercase', 'Email Address',\n",
       "       'Personal Url', 'Name Known By', 'Email Address Uppercase',\n",
       "       'Full Name Uppercase', 'Preferred First Name Upper',\n",
       "       'Preferred Last Name Upper', 'Employee Group', 'Employee Type',\n",
       "       'Has Addl Appointment', 'Has Dual Appointment', 'Hr Org Unit Id'],\n",
       "      dtype='object')"
      ]
     },
     "execution_count": 41,
     "metadata": {},
     "output_type": "execute_result"
    }
   ],
   "source": [
    "intermediate3.columns"
   ]
  },
  {
   "cell_type": "code",
   "execution_count": 42,
   "metadata": {},
   "outputs": [],
   "source": [
    "intermediate3 = intermediate3.drop(['Warehouse Load DateXX'], axis=1)"
   ]
  },
  {
   "cell_type": "code",
   "execution_count": 43,
   "metadata": {},
   "outputs": [],
   "source": [
    "df = pd.read_csv(path + \"/Person_auth_area.csv\", encoding='latin1')"
   ]
  },
  {
   "cell_type": "code",
   "execution_count": 44,
   "metadata": {
    "scrolled": true
   },
   "outputs": [
    {
     "data": {
      "text/plain": [
       "Index(['User Name', 'Has Financial Auth', 'Has Hr Full Auth',\n",
       "       'Has Hr Limited Auth', 'Has Payroll Auth', 'Warehouse Load Date'],\n",
       "      dtype='object')"
      ]
     },
     "execution_count": 44,
     "metadata": {},
     "output_type": "execute_result"
    }
   ],
   "source": [
    "df.columns"
   ]
  },
  {
   "cell_type": "code",
   "execution_count": 45,
   "metadata": {},
   "outputs": [
    {
     "data": {
      "text/plain": [
       "24482"
      ]
     },
     "execution_count": 45,
     "metadata": {},
     "output_type": "execute_result"
    }
   ],
   "source": [
    "len(intermediate3)"
   ]
  },
  {
   "cell_type": "code",
   "execution_count": 46,
   "metadata": {},
   "outputs": [
    {
     "name": "stderr",
     "output_type": "stream",
     "text": [
      "/Users/ra-mit/development/virtualenvs/fabric/lib/python3.6/site-packages/ipykernel_launcher.py:8: SettingWithCopyWarning: \n",
      "A value is trying to be set on a copy of a slice from a DataFrame.\n",
      "Try using .loc[row_indexer,col_indexer] = value instead\n",
      "\n",
      "See the caveats in the documentation: http://pandas.pydata.org/pandas-docs/stable/indexing.html#indexing-view-versus-copy\n",
      "  \n"
     ]
    }
   ],
   "source": [
    "intermediate4 = join_ab_on_key(df, intermediate3, 'User Name', 'Krb Name', suffix_str='XX')"
   ]
  },
  {
   "cell_type": "code",
   "execution_count": 47,
   "metadata": {},
   "outputs": [
    {
     "data": {
      "text/plain": [
       "35762"
      ]
     },
     "execution_count": 47,
     "metadata": {},
     "output_type": "execute_result"
    }
   ],
   "source": [
    "len(intermediate4)"
   ]
  },
  {
   "cell_type": "code",
   "execution_count": 48,
   "metadata": {},
   "outputs": [
    {
     "data": {
      "text/plain": [
       "Index(['User Name', 'Has Financial Auth', 'Has Hr Full Auth',\n",
       "       'Has Hr Limited Auth', 'Has Payroll Auth', 'Warehouse Load Date',\n",
       "       'Library Subject Offered Key', 'Term Code', 'Master Course Number',\n",
       "       'Master Course Number Sort', 'Master Course Number Desc',\n",
       "       'Master Subject Id', 'Master Subject Id Sort', 'Course Number',\n",
       "       'Course Number Sort', 'Course Number Desc', 'Subject Id',\n",
       "       'Subject Id Sort', 'Subject Title', 'Offer Dept Code',\n",
       "       'Offer Dept Name', 'Offer School Name', 'Responsible Faculty Name',\n",
       "       'Responsible Faculty Mit Id', 'Num Enrolled Students',\n",
       "       'Warehouse Load DateXX', 'Mit Id', 'Last Name', 'First Name',\n",
       "       'Middle Name', 'Terminal Degree', 'Appointment Type', 'Job Title',\n",
       "       'Hr Org Unit Title', 'Position Title', 'Admin Org Unit Title',\n",
       "       'Admin Position Title', 'Admin Job Title', 'Directory Org Unit Title',\n",
       "       'Endowed Chair', 'Emeritus Status', 'Full Name', 'Directory Full Name',\n",
       "       'Office Location', 'Office Phone', 'Directory Title', 'Primary Title',\n",
       "       'Department Number', 'Department Name', 'Krb Name',\n",
       "       'Krb Name Uppercase', 'Email Address', 'Personal Url', 'Name Known By',\n",
       "       'Email Address Uppercase', 'Full Name Uppercase',\n",
       "       'Preferred First Name Upper', 'Preferred Last Name Upper',\n",
       "       'Employee Group', 'Employee Type', 'Has Addl Appointment',\n",
       "       'Has Dual Appointment', 'Hr Org Unit Id'],\n",
       "      dtype='object')"
      ]
     },
     "execution_count": 48,
     "metadata": {},
     "output_type": "execute_result"
    }
   ],
   "source": [
    "intermediate4.columns"
   ]
  },
  {
   "cell_type": "code",
   "execution_count": 49,
   "metadata": {},
   "outputs": [],
   "source": [
    "intermediate4 = intermediate4.drop(['Warehouse Load DateXX'], axis=1)"
   ]
  },
  {
   "cell_type": "code",
   "execution_count": 56,
   "metadata": {
    "scrolled": false
   },
   "outputs": [
    {
     "data": {
      "text/plain": [
       "35762"
      ]
     },
     "execution_count": 56,
     "metadata": {},
     "output_type": "execute_result"
    }
   ],
   "source": [
    "len(intermediate4)"
   ]
  },
  {
   "cell_type": "code",
   "execution_count": 62,
   "metadata": {},
   "outputs": [
    {
     "data": {
      "text/plain": [
       "Index(['User Name', 'Has Financial Auth', 'Has Hr Full Auth',\n",
       "       'Has Hr Limited Auth', 'Has Payroll Auth', 'Warehouse Load Date',\n",
       "       'Library Subject Offered Key', 'Term Code', 'Master Course Number',\n",
       "       'Master Course Number Sort', 'Master Course Number Desc',\n",
       "       'Master Subject Id', 'Master Subject Id Sort', 'Course Number',\n",
       "       'Course Number Sort', 'Course Number Desc', 'Subject Id',\n",
       "       'Subject Id Sort', 'Subject Title', 'Offer Dept Code',\n",
       "       'Offer Dept Name', 'Offer School Name', 'Responsible Faculty Name',\n",
       "       'Responsible Faculty Mit Id', 'Num Enrolled Students', 'Mit Id',\n",
       "       'Last Name', 'First Name', 'Middle Name', 'Terminal Degree',\n",
       "       'Appointment Type', 'Job Title', 'Hr Org Unit Title', 'Position Title',\n",
       "       'Admin Org Unit Title', 'Admin Position Title', 'Admin Job Title',\n",
       "       'Directory Org Unit Title', 'Endowed Chair', 'Emeritus Status',\n",
       "       'Full Name', 'Directory Full Name', 'Office Location', 'Office Phone',\n",
       "       'Directory Title', 'Primary Title', 'Department Number',\n",
       "       'Department Name', 'Krb Name', 'Krb Name Uppercase', 'Email Address',\n",
       "       'Personal Url', 'Name Known By', 'Email Address Uppercase',\n",
       "       'Full Name Uppercase', 'Preferred First Name Upper',\n",
       "       'Preferred Last Name Upper', 'Employee Group', 'Employee Type',\n",
       "       'Has Addl Appointment', 'Has Dual Appointment', 'Hr Org Unit Id'],\n",
       "      dtype='object')"
      ]
     },
     "execution_count": 62,
     "metadata": {},
     "output_type": "execute_result"
    }
   ],
   "source": [
    "intermediate4.columns"
   ]
  },
  {
   "cell_type": "code",
   "execution_count": 63,
   "metadata": {},
   "outputs": [],
   "source": [
    "intermediate4.to_csv(\"/Users/ra-mit/development/fabric/groundtruth_mitdwh.csv\")"
   ]
  },
  {
   "cell_type": "code",
   "execution_count": 65,
   "metadata": {},
   "outputs": [],
   "source": [
    "final_clean = intermediate4.dropna(axis=0, subset=['Mit Id'])"
   ]
  },
  {
   "cell_type": "code",
   "execution_count": 66,
   "metadata": {},
   "outputs": [
    {
     "data": {
      "text/plain": [
       "22860"
      ]
     },
     "execution_count": 66,
     "metadata": {},
     "output_type": "execute_result"
    }
   ],
   "source": [
    "len(final_clean)"
   ]
  },
  {
   "cell_type": "code",
   "execution_count": 69,
   "metadata": {},
   "outputs": [],
   "source": [
    "final_clean.to_csv(\"/Users/ra-mit/development/fabric/groundtruth_mitdwh.csv\")"
   ]
  },
  {
   "cell_type": "code",
   "execution_count": null,
   "metadata": {},
   "outputs": [],
   "source": []
  },
  {
   "cell_type": "markdown",
   "metadata": {},
   "source": [
    "## Now split into tables"
   ]
  },
  {
   "cell_type": "code",
   "execution_count": 4,
   "metadata": {},
   "outputs": [
    {
     "name": "stderr",
     "output_type": "stream",
     "text": [
      "/Users/ra-mit/development/virtualenvs/fabric/lib/python3.6/site-packages/IPython/core/interactiveshell.py:2728: DtypeWarning: Columns (40,44) have mixed types. Specify dtype option on import or set low_memory=False.\n",
      "  interactivity=interactivity, compiler=compiler, result=result)\n"
     ]
    }
   ],
   "source": [
    "final_clean = pd.read_csv(\"/Users/ra-mit/development/fabric/groundtruth_mitdwh.csv\", encoding='latin1')"
   ]
  },
  {
   "cell_type": "code",
   "execution_count": 5,
   "metadata": {},
   "outputs": [
    {
     "data": {
      "text/plain": [
       "Index(['Unnamed: 0', 'User Name', 'Has Financial Auth', 'Has Hr Full Auth',\n",
       "       'Has Hr Limited Auth', 'Has Payroll Auth', 'Warehouse Load Date',\n",
       "       'Library Subject Offered Key', 'Term Code', 'Master Course Number',\n",
       "       'Master Course Number Sort', 'Master Course Number Desc',\n",
       "       'Master Subject Id', 'Master Subject Id Sort', 'Course Number',\n",
       "       'Course Number Sort', 'Course Number Desc', 'Subject Id',\n",
       "       'Subject Id Sort', 'Subject Title', 'Offer Dept Code',\n",
       "       'Offer Dept Name', 'Offer School Name', 'Responsible Faculty Name',\n",
       "       'Responsible Faculty Mit Id', 'Num Enrolled Students', 'Mit Id',\n",
       "       'Last Name', 'First Name', 'Middle Name', 'Terminal Degree',\n",
       "       'Appointment Type', 'Job Title', 'Hr Org Unit Title', 'Position Title',\n",
       "       'Admin Org Unit Title', 'Admin Position Title', 'Admin Job Title',\n",
       "       'Directory Org Unit Title', 'Endowed Chair', 'Emeritus Status',\n",
       "       'Full Name', 'Directory Full Name', 'Office Location', 'Office Phone',\n",
       "       'Directory Title', 'Primary Title', 'Department Number',\n",
       "       'Department Name', 'Krb Name', 'Krb Name Uppercase', 'Email Address',\n",
       "       'Personal Url', 'Name Known By', 'Email Address Uppercase',\n",
       "       'Full Name Uppercase', 'Preferred First Name Upper',\n",
       "       'Preferred Last Name Upper', 'Employee Group', 'Employee Type',\n",
       "       'Has Addl Appointment', 'Has Dual Appointment', 'Hr Org Unit Id'],\n",
       "      dtype='object')"
      ]
     },
     "execution_count": 5,
     "metadata": {},
     "output_type": "execute_result"
    }
   ],
   "source": [
    "final_clean.columns"
   ]
  },
  {
   "cell_type": "code",
   "execution_count": 6,
   "metadata": {},
   "outputs": [
    {
     "data": {
      "text/plain": [
       "63"
      ]
     },
     "execution_count": 6,
     "metadata": {},
     "output_type": "execute_result"
    }
   ],
   "source": [
    "len(final_clean.columns)"
   ]
  },
  {
   "cell_type": "code",
   "execution_count": 7,
   "metadata": {},
   "outputs": [
    {
     "data": {
      "text/plain": [
       "22860"
      ]
     },
     "execution_count": 7,
     "metadata": {},
     "output_type": "execute_result"
    }
   ],
   "source": [
    "len(final_clean)"
   ]
  },
  {
   "cell_type": "code",
   "execution_count": 9,
   "metadata": {},
   "outputs": [],
   "source": [
    "path_dataset = \"/Users/ra-mit/development/fabric/mitdwh_dataset/\""
   ]
  },
  {
   "cell_type": "code",
   "execution_count": 17,
   "metadata": {},
   "outputs": [],
   "source": [
    "table1 = ['Mit Id', 'Last Name', 'First Name', 'Middle Name', 'User Name', 'Has Financial Auth']\n",
    "table2 = ['Mit Id', 'User Name', 'Has Hr Full Auth', 'Has Hr Limited Auth', 'Has Payroll Auth']\n",
    "table3 = ['Mit Id', 'User Name', 'Library Subject Offered Key', 'Term Code', 'Master Course Number']\n",
    "table4 = ['Mit Id', 'Krb Name', 'Master Subject Id', 'Master Subject Id Sort', 'Course Number', 'Course Number Sort', 'Course Number Desc']\n",
    "table5 = ['Mit Id', 'Department Name', 'Krb Name', 'Krb Name Uppercase', 'Email Address']\n",
    "table6 = ['Mit Id', 'Personal Url', 'Subject Title', 'Offer Dept Code', 'Offer Dept Name', 'Offer School Name']\n",
    "table7 = ['Mit Id', 'Full Name Uppercase', 'Preferred First Name Upper', 'Preferred Last Name Upper', 'Appointment Type', 'Job Title', 'Hr Org Unit Title', 'Position Title']\n",
    "table8 = ['Mit Id', 'Has Addl Appointment', 'Has Dual Appointment', 'Hr Org Unit Id']\n",
    "table9 = ['Responsible Faculty Mit Id', 'Num Enrolled Students', 'Employee Group', 'Employee Type', 'Directory Full Name']\n",
    "table10 = ['Mit Id', 'Admin Job Title', 'Admin Org Unit Title', 'Admin Position Title', 'Department Number']\n",
    "table11 = ['Mit Id', 'Email Address Uppercase', 'Emeritus Status', 'Endowed Chair', 'Full Name']\n",
    "table12 = ['Mit Id', 'Directory Org Unit Title', 'Directory Title', 'Office Location', 'Office Phone', 'Primary Title']\n",
    "table13 = ['Mit Id', 'Responsible Faculty Name', 'Subject Id', 'Subject Id Sort', 'Terminal Degree']\n",
    "table14 = ['Mit Id', 'Master Course Number Desc', 'Master Course Number Sort', 'Name Known By']"
   ]
  },
  {
   "cell_type": "code",
   "execution_count": 18,
   "metadata": {},
   "outputs": [
    {
     "data": {
      "text/plain": [
       "{'Unnamed: 0', 'Warehouse Load Date'}"
      ]
     },
     "execution_count": 18,
     "metadata": {},
     "output_type": "execute_result"
    }
   ],
   "source": [
    "all_tables = [table1, table2, table3, table4, table5, table6, table7, table8, table9, table10, table11, table12, table13, table14]\n",
    "set_columns = set()\n",
    "for t in all_tables:\n",
    "    for el in t:\n",
    "        set_columns.add(el)\n",
    "# missing columns\n",
    "set(final_clean.columns) - set_columns"
   ]
  },
  {
   "cell_type": "code",
   "execution_count": 21,
   "metadata": {},
   "outputs": [],
   "source": [
    "# create dataset"
   ]
  },
  {
   "cell_type": "code",
   "execution_count": 23,
   "metadata": {},
   "outputs": [],
   "source": [
    "i = 0\n",
    "for t in all_tables:\n",
    "    temp_t = final_clean[t]\n",
    "    temp_t.to_csv(path_dataset + \"table_\" + str(i) + \".csv\", encoding='latin1')\n",
    "    i += 1"
   ]
  },
  {
   "cell_type": "code",
   "execution_count": null,
   "metadata": {},
   "outputs": [],
   "source": []
  }
 ],
 "metadata": {
  "kernelspec": {
   "display_name": "Python 3",
   "language": "python",
   "name": "python3"
  },
  "language_info": {
   "codemirror_mode": {
    "name": "ipython",
    "version": 3
   },
   "file_extension": ".py",
   "mimetype": "text/x-python",
   "name": "python",
   "nbconvert_exporter": "python",
   "pygments_lexer": "ipython3",
   "version": "3.6.4"
  }
 },
 "nbformat": 4,
 "nbformat_minor": 2
}
